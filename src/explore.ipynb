{
    "cells": [
        {
            "cell_type": "markdown",
            "metadata": {},
            "source": [
                "\n",
                "## Data Dictionary: #\n",
                "\n",
                "    Pregnancies: Number of times pregnant.\n",
                "\n",
                "    Glucose: Plasma glucose concentration a 2 hours in an oral glucose tolerance test.\n",
                "\n",
                "    BloodPressure: Diastolic blood pressure (mm Hg).\n",
                "\n",
                "    SkinThickness: Triceps skin fold thickness (mm).\n",
                "\n",
                "    Insulin: 2-Hour serum insulin (mu U/ml).\n",
                "\n",
                "    BMI: Body mass index (weight in kg/(height in m)^2).\n",
                "\n",
                "    DiabetesPedigreeFunction: Diabetes pedigree function.\n",
                "\n",
                "    Age: Age (years).\n",
                "\n",
                "    Outcome: Class variable (0 or 1), Class Distribution: (class value 1 is interpreted as \"tested positive for diabetes\").\n"
            ]
        },
        {
            "cell_type": "markdown",
            "metadata": {},
            "source": [
                "Guide on inspection of the dataset\n",
                "\n",
                "    Verify if there are Null / Nan Values\n",
                "\n",
                "    Is it a Balanced or Imbalanced Dataset?\n",
                "\n",
                "    Convert non numerical data to numerical\n",
                "\n",
                "    Find correlation - feature importance\n",
                "\n",
                "    Get some Statistics - mean,median,25%,50%,75%,count , min,max on coloum wise\n",
                "\n",
                "    Eliminate outliers with IQR Method\n"
            ]
        },
        {
            "cell_type": "markdown",
            "metadata": {},
            "source": [
                "### tuve que correr aquí el pip install de requirements.txt porque no me los toma desde la consola"
            ]
        },
        {
            "cell_type": "code",
            "execution_count": 371,
            "metadata": {},
            "outputs": [
                {
                    "name": "stdout",
                    "output_type": "stream",
                    "text": [
                        "Requirement already satisfied: pandas in /home/gitpod/.pyenv/versions/3.8.13/lib/python3.8/site-packages (1.4.3)\n",
                        "Requirement already satisfied: python-dateutil>=2.8.1 in /home/gitpod/.pyenv/versions/3.8.13/lib/python3.8/site-packages (from pandas) (2.8.2)\n",
                        "Requirement already satisfied: numpy>=1.18.5 in /home/gitpod/.pyenv/versions/3.8.13/lib/python3.8/site-packages (from pandas) (1.23.1)\n",
                        "Requirement already satisfied: pytz>=2020.1 in /home/gitpod/.pyenv/versions/3.8.13/lib/python3.8/site-packages (from pandas) (2022.1)\n",
                        "Requirement already satisfied: six>=1.5 in /home/gitpod/.pyenv/versions/3.8.13/lib/python3.8/site-packages (from python-dateutil>=2.8.1->pandas) (1.16.0)\n",
                        "\n",
                        "\u001b[1m[\u001b[0m\u001b[34;49mnotice\u001b[0m\u001b[1;39;49m]\u001b[0m\u001b[39;49m A new release of pip available: \u001b[0m\u001b[31;49m22.2\u001b[0m\u001b[39;49m -> \u001b[0m\u001b[32;49m22.2.2\u001b[0m\n",
                        "\u001b[1m[\u001b[0m\u001b[34;49mnotice\u001b[0m\u001b[1;39;49m]\u001b[0m\u001b[39;49m To update, run: \u001b[0m\u001b[32;49mpip install --upgrade pip\u001b[0m\n",
                        "Requirement already satisfied: matplotlib in /home/gitpod/.pyenv/versions/3.8.13/lib/python3.8/site-packages (3.5.2)\n",
                        "Requirement already satisfied: fonttools>=4.22.0 in /home/gitpod/.pyenv/versions/3.8.13/lib/python3.8/site-packages (from matplotlib) (4.34.4)\n",
                        "Requirement already satisfied: kiwisolver>=1.0.1 in /home/gitpod/.pyenv/versions/3.8.13/lib/python3.8/site-packages (from matplotlib) (1.4.4)\n",
                        "Requirement already satisfied: packaging>=20.0 in /home/gitpod/.pyenv/versions/3.8.13/lib/python3.8/site-packages (from matplotlib) (21.3)\n",
                        "Requirement already satisfied: pyparsing>=2.2.1 in /home/gitpod/.pyenv/versions/3.8.13/lib/python3.8/site-packages (from matplotlib) (3.0.9)\n",
                        "Requirement already satisfied: python-dateutil>=2.7 in /home/gitpod/.pyenv/versions/3.8.13/lib/python3.8/site-packages (from matplotlib) (2.8.2)\n",
                        "Requirement already satisfied: cycler>=0.10 in /home/gitpod/.pyenv/versions/3.8.13/lib/python3.8/site-packages (from matplotlib) (0.11.0)\n",
                        "Requirement already satisfied: pillow>=6.2.0 in /home/gitpod/.pyenv/versions/3.8.13/lib/python3.8/site-packages (from matplotlib) (9.2.0)\n",
                        "Requirement already satisfied: numpy>=1.17 in /home/gitpod/.pyenv/versions/3.8.13/lib/python3.8/site-packages (from matplotlib) (1.23.1)\n",
                        "Requirement already satisfied: six>=1.5 in /home/gitpod/.pyenv/versions/3.8.13/lib/python3.8/site-packages (from python-dateutil>=2.7->matplotlib) (1.16.0)\n",
                        "\n",
                        "\u001b[1m[\u001b[0m\u001b[34;49mnotice\u001b[0m\u001b[1;39;49m]\u001b[0m\u001b[39;49m A new release of pip available: \u001b[0m\u001b[31;49m22.2\u001b[0m\u001b[39;49m -> \u001b[0m\u001b[32;49m22.2.2\u001b[0m\n",
                        "\u001b[1m[\u001b[0m\u001b[34;49mnotice\u001b[0m\u001b[1;39;49m]\u001b[0m\u001b[39;49m To update, run: \u001b[0m\u001b[32;49mpip install --upgrade pip\u001b[0m\n",
                        "Requirement already satisfied: sklearn in /home/gitpod/.pyenv/versions/3.8.13/lib/python3.8/site-packages (0.0)\n",
                        "Requirement already satisfied: scikit-learn in /home/gitpod/.pyenv/versions/3.8.13/lib/python3.8/site-packages (from sklearn) (1.1.2)\n",
                        "Requirement already satisfied: threadpoolctl>=2.0.0 in /home/gitpod/.pyenv/versions/3.8.13/lib/python3.8/site-packages (from scikit-learn->sklearn) (3.1.0)\n",
                        "Requirement already satisfied: scipy>=1.3.2 in /home/gitpod/.pyenv/versions/3.8.13/lib/python3.8/site-packages (from scikit-learn->sklearn) (1.9.0)\n",
                        "Requirement already satisfied: joblib>=1.0.0 in /home/gitpod/.pyenv/versions/3.8.13/lib/python3.8/site-packages (from scikit-learn->sklearn) (1.1.0)\n",
                        "Requirement already satisfied: numpy>=1.17.3 in /home/gitpod/.pyenv/versions/3.8.13/lib/python3.8/site-packages (from scikit-learn->sklearn) (1.23.1)\n",
                        "\n",
                        "\u001b[1m[\u001b[0m\u001b[34;49mnotice\u001b[0m\u001b[1;39;49m]\u001b[0m\u001b[39;49m A new release of pip available: \u001b[0m\u001b[31;49m22.2\u001b[0m\u001b[39;49m -> \u001b[0m\u001b[32;49m22.2.2\u001b[0m\n",
                        "\u001b[1m[\u001b[0m\u001b[34;49mnotice\u001b[0m\u001b[1;39;49m]\u001b[0m\u001b[39;49m To update, run: \u001b[0m\u001b[32;49mpip install --upgrade pip\u001b[0m\n",
                        "Requirement already satisfied: seaborn in /home/gitpod/.pyenv/versions/3.8.13/lib/python3.8/site-packages (0.11.2)\n",
                        "Requirement already satisfied: pandas>=0.23 in /home/gitpod/.pyenv/versions/3.8.13/lib/python3.8/site-packages (from seaborn) (1.4.3)\n",
                        "Requirement already satisfied: scipy>=1.0 in /home/gitpod/.pyenv/versions/3.8.13/lib/python3.8/site-packages (from seaborn) (1.9.0)\n",
                        "Requirement already satisfied: numpy>=1.15 in /home/gitpod/.pyenv/versions/3.8.13/lib/python3.8/site-packages (from seaborn) (1.23.1)\n",
                        "Requirement already satisfied: matplotlib>=2.2 in /home/gitpod/.pyenv/versions/3.8.13/lib/python3.8/site-packages (from seaborn) (3.5.2)\n",
                        "Requirement already satisfied: cycler>=0.10 in /home/gitpod/.pyenv/versions/3.8.13/lib/python3.8/site-packages (from matplotlib>=2.2->seaborn) (0.11.0)\n",
                        "Requirement already satisfied: pyparsing>=2.2.1 in /home/gitpod/.pyenv/versions/3.8.13/lib/python3.8/site-packages (from matplotlib>=2.2->seaborn) (3.0.9)\n",
                        "Requirement already satisfied: kiwisolver>=1.0.1 in /home/gitpod/.pyenv/versions/3.8.13/lib/python3.8/site-packages (from matplotlib>=2.2->seaborn) (1.4.4)\n",
                        "Requirement already satisfied: fonttools>=4.22.0 in /home/gitpod/.pyenv/versions/3.8.13/lib/python3.8/site-packages (from matplotlib>=2.2->seaborn) (4.34.4)\n",
                        "Requirement already satisfied: python-dateutil>=2.7 in /home/gitpod/.pyenv/versions/3.8.13/lib/python3.8/site-packages (from matplotlib>=2.2->seaborn) (2.8.2)\n",
                        "Requirement already satisfied: packaging>=20.0 in /home/gitpod/.pyenv/versions/3.8.13/lib/python3.8/site-packages (from matplotlib>=2.2->seaborn) (21.3)\n",
                        "Requirement already satisfied: pillow>=6.2.0 in /home/gitpod/.pyenv/versions/3.8.13/lib/python3.8/site-packages (from matplotlib>=2.2->seaborn) (9.2.0)\n",
                        "Requirement already satisfied: pytz>=2020.1 in /home/gitpod/.pyenv/versions/3.8.13/lib/python3.8/site-packages (from pandas>=0.23->seaborn) (2022.1)\n",
                        "Requirement already satisfied: six>=1.5 in /home/gitpod/.pyenv/versions/3.8.13/lib/python3.8/site-packages (from python-dateutil>=2.7->matplotlib>=2.2->seaborn) (1.16.0)\n",
                        "\n",
                        "\u001b[1m[\u001b[0m\u001b[34;49mnotice\u001b[0m\u001b[1;39;49m]\u001b[0m\u001b[39;49m A new release of pip available: \u001b[0m\u001b[31;49m22.2\u001b[0m\u001b[39;49m -> \u001b[0m\u001b[32;49m22.2.2\u001b[0m\n",
                        "\u001b[1m[\u001b[0m\u001b[34;49mnotice\u001b[0m\u001b[1;39;49m]\u001b[0m\u001b[39;49m To update, run: \u001b[0m\u001b[32;49mpip install --upgrade pip\u001b[0m\n",
                        "Requirement already satisfied: folium in /home/gitpod/.pyenv/versions/3.8.13/lib/python3.8/site-packages (0.12.1.post1)\n",
                        "Requirement already satisfied: requests in /home/gitpod/.pyenv/versions/3.8.13/lib/python3.8/site-packages (from folium) (2.28.1)\n",
                        "Requirement already satisfied: jinja2>=2.9 in /home/gitpod/.pyenv/versions/3.8.13/lib/python3.8/site-packages (from folium) (3.1.2)\n",
                        "Requirement already satisfied: numpy in /home/gitpod/.pyenv/versions/3.8.13/lib/python3.8/site-packages (from folium) (1.23.1)\n",
                        "Requirement already satisfied: branca>=0.3.0 in /home/gitpod/.pyenv/versions/3.8.13/lib/python3.8/site-packages (from folium) (0.5.0)\n",
                        "Requirement already satisfied: MarkupSafe>=2.0 in /home/gitpod/.pyenv/versions/3.8.13/lib/python3.8/site-packages (from jinja2>=2.9->folium) (2.1.1)\n",
                        "Requirement already satisfied: idna<4,>=2.5 in /home/gitpod/.pyenv/versions/3.8.13/lib/python3.8/site-packages (from requests->folium) (3.3)\n",
                        "Requirement already satisfied: certifi>=2017.4.17 in /home/gitpod/.pyenv/versions/3.8.13/lib/python3.8/site-packages (from requests->folium) (2022.6.15)\n",
                        "Requirement already satisfied: urllib3<1.27,>=1.21.1 in /home/gitpod/.pyenv/versions/3.8.13/lib/python3.8/site-packages (from requests->folium) (1.26.11)\n",
                        "Requirement already satisfied: charset-normalizer<3,>=2 in /home/gitpod/.pyenv/versions/3.8.13/lib/python3.8/site-packages (from requests->folium) (2.1.0)\n",
                        "\n",
                        "\u001b[1m[\u001b[0m\u001b[34;49mnotice\u001b[0m\u001b[1;39;49m]\u001b[0m\u001b[39;49m A new release of pip available: \u001b[0m\u001b[31;49m22.2\u001b[0m\u001b[39;49m -> \u001b[0m\u001b[32;49m22.2.2\u001b[0m\n",
                        "\u001b[1m[\u001b[0m\u001b[34;49mnotice\u001b[0m\u001b[1;39;49m]\u001b[0m\u001b[39;49m To update, run: \u001b[0m\u001b[32;49mpip install --upgrade pip\u001b[0m\n",
                        "Requirement already satisfied: statsmodels in /home/gitpod/.pyenv/versions/3.8.13/lib/python3.8/site-packages (0.13.2)\n",
                        "Requirement already satisfied: scipy>=1.3 in /home/gitpod/.pyenv/versions/3.8.13/lib/python3.8/site-packages (from statsmodels) (1.9.0)\n",
                        "Requirement already satisfied: pandas>=0.25 in /home/gitpod/.pyenv/versions/3.8.13/lib/python3.8/site-packages (from statsmodels) (1.4.3)\n",
                        "Requirement already satisfied: numpy>=1.17 in /home/gitpod/.pyenv/versions/3.8.13/lib/python3.8/site-packages (from statsmodels) (1.23.1)\n",
                        "Requirement already satisfied: packaging>=21.3 in /home/gitpod/.pyenv/versions/3.8.13/lib/python3.8/site-packages (from statsmodels) (21.3)\n",
                        "Requirement already satisfied: patsy>=0.5.2 in /home/gitpod/.pyenv/versions/3.8.13/lib/python3.8/site-packages (from statsmodels) (0.5.2)\n",
                        "Requirement already satisfied: pyparsing!=3.0.5,>=2.0.2 in /home/gitpod/.pyenv/versions/3.8.13/lib/python3.8/site-packages (from packaging>=21.3->statsmodels) (3.0.9)\n",
                        "Requirement already satisfied: pytz>=2020.1 in /home/gitpod/.pyenv/versions/3.8.13/lib/python3.8/site-packages (from pandas>=0.25->statsmodels) (2022.1)\n",
                        "Requirement already satisfied: python-dateutil>=2.8.1 in /home/gitpod/.pyenv/versions/3.8.13/lib/python3.8/site-packages (from pandas>=0.25->statsmodels) (2.8.2)\n",
                        "Requirement already satisfied: six in /home/gitpod/.pyenv/versions/3.8.13/lib/python3.8/site-packages (from patsy>=0.5.2->statsmodels) (1.16.0)\n",
                        "\n",
                        "\u001b[1m[\u001b[0m\u001b[34;49mnotice\u001b[0m\u001b[1;39;49m]\u001b[0m\u001b[39;49m A new release of pip available: \u001b[0m\u001b[31;49m22.2\u001b[0m\u001b[39;49m -> \u001b[0m\u001b[32;49m22.2.2\u001b[0m\n",
                        "\u001b[1m[\u001b[0m\u001b[34;49mnotice\u001b[0m\u001b[1;39;49m]\u001b[0m\u001b[39;49m To update, run: \u001b[0m\u001b[32;49mpip install --upgrade pip\u001b[0m\n",
                        "Requirement already satisfied: plotly in /home/gitpod/.pyenv/versions/3.8.13/lib/python3.8/site-packages (5.9.0)\n",
                        "Requirement already satisfied: tenacity>=6.2.0 in /home/gitpod/.pyenv/versions/3.8.13/lib/python3.8/site-packages (from plotly) (8.0.1)\n",
                        "\n",
                        "\u001b[1m[\u001b[0m\u001b[34;49mnotice\u001b[0m\u001b[1;39;49m]\u001b[0m\u001b[39;49m A new release of pip available: \u001b[0m\u001b[31;49m22.2\u001b[0m\u001b[39;49m -> \u001b[0m\u001b[32;49m22.2.2\u001b[0m\n",
                        "\u001b[1m[\u001b[0m\u001b[34;49mnotice\u001b[0m\u001b[1;39;49m]\u001b[0m\u001b[39;49m To update, run: \u001b[0m\u001b[32;49mpip install --upgrade pip\u001b[0m\n",
                        "\u001b[31mERROR: Could not find a version that satisfies the requirement DecisionTreeClassifier (from versions: none)\u001b[0m\u001b[31m\n",
                        "\u001b[0m\u001b[31mERROR: No matching distribution found for DecisionTreeClassifier\u001b[0m\u001b[31m\n",
                        "\u001b[0m\n",
                        "\u001b[1m[\u001b[0m\u001b[34;49mnotice\u001b[0m\u001b[1;39;49m]\u001b[0m\u001b[39;49m A new release of pip available: \u001b[0m\u001b[31;49m22.2\u001b[0m\u001b[39;49m -> \u001b[0m\u001b[32;49m22.2.2\u001b[0m\n",
                        "\u001b[1m[\u001b[0m\u001b[34;49mnotice\u001b[0m\u001b[1;39;49m]\u001b[0m\u001b[39;49m To update, run: \u001b[0m\u001b[32;49mpip install --upgrade pip\u001b[0m\n",
                        "\u001b[31mERROR: Could not find a version that satisfies the requirement pickle (from versions: none)\u001b[0m\u001b[31m\n",
                        "\u001b[0m\u001b[31mERROR: No matching distribution found for pickle\u001b[0m\u001b[31m\n",
                        "\u001b[0m\n",
                        "\u001b[1m[\u001b[0m\u001b[34;49mnotice\u001b[0m\u001b[1;39;49m]\u001b[0m\u001b[39;49m A new release of pip available: \u001b[0m\u001b[31;49m22.2\u001b[0m\u001b[39;49m -> \u001b[0m\u001b[32;49m22.2.2\u001b[0m\n",
                        "\u001b[1m[\u001b[0m\u001b[34;49mnotice\u001b[0m\u001b[1;39;49m]\u001b[0m\u001b[39;49m To update, run: \u001b[0m\u001b[32;49mpip install --upgrade pip\u001b[0m\n"
                    ]
                }
            ],
            "source": [
                "!pip install pandas\n",
                "!pip install matplotlib\n",
                "!pip install sklearn\n",
                "!pip install seaborn\n",
                "!pip install folium\n",
                "!pip install statsmodels\n",
                "!pip install plotly\n",
                "!pip install DecisionTreeClassifier\n",
                "!pip install pickle"
            ]
        },
        {
            "cell_type": "code",
            "execution_count": 372,
            "metadata": {},
            "outputs": [
                {
                    "name": "stdout",
                    "output_type": "stream",
                    "text": [
                        "Collecting sqlalchemy==1.4.37\n",
                        "  Using cached SQLAlchemy-1.4.37-cp38-cp38-manylinux_2_5_x86_64.manylinux1_x86_64.manylinux_2_17_x86_64.manylinux2014_x86_64.whl (1.6 MB)\n",
                        "Collecting pymysql==1.0.2\n",
                        "  Using cached PyMySQL-1.0.2-py3-none-any.whl (43 kB)\n",
                        "Requirement already satisfied: pandas in /home/gitpod/.pyenv/versions/3.8.13/lib/python3.8/site-packages (from -r ../requirements.txt (line 4)) (1.4.3)\n",
                        "Collecting python-dotenv==0.20.0\n",
                        "  Using cached python_dotenv-0.20.0-py3-none-any.whl (17 kB)\n",
                        "Collecting psycopg2-binary==2.9.3\n",
                        "  Using cached psycopg2_binary-2.9.3-cp38-cp38-manylinux_2_17_x86_64.manylinux2014_x86_64.whl (3.0 MB)\n",
                        "Collecting requests==2.27.1\n",
                        "  Using cached requests-2.27.1-py2.py3-none-any.whl (63 kB)\n",
                        "Requirement already satisfied: numpy in /home/gitpod/.pyenv/versions/3.8.13/lib/python3.8/site-packages (from -r ../requirements.txt (line 9)) (1.23.1)\n",
                        "Collecting opencv-python>=4.1.2\n",
                        "  Using cached opencv_python-4.6.0.66-cp36-abi3-manylinux_2_17_x86_64.manylinux2014_x86_64.whl (60.9 MB)\n",
                        "Requirement already satisfied: matplotlib>=3.2.2 in /home/gitpod/.pyenv/versions/3.8.13/lib/python3.8/site-packages (from -r ../requirements.txt (line 11)) (3.5.2)\n",
                        "Collecting ipyleaflet>=0.14.0\n",
                        "  Using cached ipyleaflet-0.17.0-py2.py3-none-any.whl (3.3 MB)\n",
                        "Collecting sympy>=1.10.1\n",
                        "  Using cached sympy-1.10.1-py3-none-any.whl (6.4 MB)\n",
                        "Requirement already satisfied: sklearn in /home/gitpod/.pyenv/versions/3.8.13/lib/python3.8/site-packages (from -r ../requirements.txt (line 16)) (0.0)\n",
                        "Requirement already satisfied: seaborn in /home/gitpod/.pyenv/versions/3.8.13/lib/python3.8/site-packages (from -r ../requirements.txt (line 17)) (0.11.2)\n",
                        "Requirement already satisfied: folium in /home/gitpod/.pyenv/versions/3.8.13/lib/python3.8/site-packages (from -r ../requirements.txt (line 18)) (0.12.1.post1)\n",
                        "Requirement already satisfied: statsmodels in /home/gitpod/.pyenv/versions/3.8.13/lib/python3.8/site-packages (from -r ../requirements.txt (line 19)) (0.13.2)\n",
                        "Requirement already satisfied: plotly in /home/gitpod/.pyenv/versions/3.8.13/lib/python3.8/site-packages (from -r ../requirements.txt (line 20)) (5.9.0)\n",
                        "\u001b[31mERROR: Could not find a version that satisfies the requirement DecisionTreeClassifier (from versions: none)\u001b[0m\u001b[31m\n",
                        "\u001b[0m\u001b[31mERROR: No matching distribution found for DecisionTreeClassifier\u001b[0m\u001b[31m\n",
                        "\u001b[0m\n",
                        "\u001b[1m[\u001b[0m\u001b[34;49mnotice\u001b[0m\u001b[1;39;49m]\u001b[0m\u001b[39;49m A new release of pip available: \u001b[0m\u001b[31;49m22.2\u001b[0m\u001b[39;49m -> \u001b[0m\u001b[32;49m22.2.2\u001b[0m\n",
                        "\u001b[1m[\u001b[0m\u001b[34;49mnotice\u001b[0m\u001b[1;39;49m]\u001b[0m\u001b[39;49m To update, run: \u001b[0m\u001b[32;49mpip install --upgrade pip\u001b[0m\n",
                        "Note: you may need to restart the kernel to use updated packages.\n"
                    ]
                }
            ],
            "source": [
                "pip install -r ../requirements.txt"
            ]
        },
        {
            "cell_type": "code",
            "execution_count": 373,
            "metadata": {},
            "outputs": [],
            "source": [
                "import pandas as pd \n",
                "import numpy as np \n",
                "import matplotlib.pyplot as plt  \n",
                "import seaborn as sns\n",
                "import plotly.graph_objects as go\n",
                "#import folium\n",
                "import statsmodels.api as sm\n",
                "import statsmodels.formula.api as smf\n",
                "from sklearn.preprocessing import PolynomialFeatures\n",
                "from sklearn.linear_model import LinearRegression\n",
                "from sklearn.model_selection import train_test_split\n",
                "from sklearn.model_selection import  cross_val_score, GridSearchCV\n",
                "from sklearn.tree import DecisionTreeClassifier, plot_tree\n",
                "from sklearn import metrics\n",
                "from sklearn.metrics import confusion_matrix, ConfusionMatrixDisplay\n",
                "from sklearn.metrics import classification_report\n",
                "from sklearn.metrics import accuracy_score\n",
                "import pickle\n",
                "#from folium.plugins import MarkerCluster\n",
                "#from folium import plugins\n",
                "#from folium.plugins import FastMarkerCluster\n",
                "#from folium.plugins import HeatMap\n"
            ]
        },
        {
            "cell_type": "code",
            "execution_count": 374,
            "metadata": {},
            "outputs": [],
            "source": [
                "#Step 1:"
            ]
        },
        {
            "cell_type": "code",
            "execution_count": 375,
            "metadata": {},
            "outputs": [],
            "source": [
                "url = 'https://raw.githubusercontent.com/4GeeksAcademy/decision-tree-project-tutorial/main/diabetes.csv'\n",
                "df_raw = pd.read_csv(url, header=0, sep=\",\")\n"
            ]
        },
        {
            "cell_type": "markdown",
            "metadata": {},
            "source": [
                "Explore"
            ]
        },
        {
            "cell_type": "code",
            "execution_count": 376,
            "metadata": {},
            "outputs": [
                {
                    "data": {
                        "text/html": [
                            "<div>\n",
                            "<style scoped>\n",
                            "    .dataframe tbody tr th:only-of-type {\n",
                            "        vertical-align: middle;\n",
                            "    }\n",
                            "\n",
                            "    .dataframe tbody tr th {\n",
                            "        vertical-align: top;\n",
                            "    }\n",
                            "\n",
                            "    .dataframe thead th {\n",
                            "        text-align: right;\n",
                            "    }\n",
                            "</style>\n",
                            "<table border=\"1\" class=\"dataframe\">\n",
                            "  <thead>\n",
                            "    <tr style=\"text-align: right;\">\n",
                            "      <th></th>\n",
                            "      <th>Pregnancies</th>\n",
                            "      <th>Glucose</th>\n",
                            "      <th>BloodPressure</th>\n",
                            "      <th>SkinThickness</th>\n",
                            "      <th>Insulin</th>\n",
                            "      <th>BMI</th>\n",
                            "      <th>DiabetesPedigreeFunction</th>\n",
                            "      <th>Age</th>\n",
                            "      <th>Outcome</th>\n",
                            "    </tr>\n",
                            "  </thead>\n",
                            "  <tbody>\n",
                            "    <tr>\n",
                            "      <th>0</th>\n",
                            "      <td>6</td>\n",
                            "      <td>148</td>\n",
                            "      <td>72</td>\n",
                            "      <td>35</td>\n",
                            "      <td>0</td>\n",
                            "      <td>33.6</td>\n",
                            "      <td>0.627</td>\n",
                            "      <td>50</td>\n",
                            "      <td>1</td>\n",
                            "    </tr>\n",
                            "    <tr>\n",
                            "      <th>1</th>\n",
                            "      <td>1</td>\n",
                            "      <td>85</td>\n",
                            "      <td>66</td>\n",
                            "      <td>29</td>\n",
                            "      <td>0</td>\n",
                            "      <td>26.6</td>\n",
                            "      <td>0.351</td>\n",
                            "      <td>31</td>\n",
                            "      <td>0</td>\n",
                            "    </tr>\n",
                            "    <tr>\n",
                            "      <th>2</th>\n",
                            "      <td>8</td>\n",
                            "      <td>183</td>\n",
                            "      <td>64</td>\n",
                            "      <td>0</td>\n",
                            "      <td>0</td>\n",
                            "      <td>23.3</td>\n",
                            "      <td>0.672</td>\n",
                            "      <td>32</td>\n",
                            "      <td>1</td>\n",
                            "    </tr>\n",
                            "    <tr>\n",
                            "      <th>3</th>\n",
                            "      <td>1</td>\n",
                            "      <td>89</td>\n",
                            "      <td>66</td>\n",
                            "      <td>23</td>\n",
                            "      <td>94</td>\n",
                            "      <td>28.1</td>\n",
                            "      <td>0.167</td>\n",
                            "      <td>21</td>\n",
                            "      <td>0</td>\n",
                            "    </tr>\n",
                            "    <tr>\n",
                            "      <th>4</th>\n",
                            "      <td>0</td>\n",
                            "      <td>137</td>\n",
                            "      <td>40</td>\n",
                            "      <td>35</td>\n",
                            "      <td>168</td>\n",
                            "      <td>43.1</td>\n",
                            "      <td>2.288</td>\n",
                            "      <td>33</td>\n",
                            "      <td>1</td>\n",
                            "    </tr>\n",
                            "  </tbody>\n",
                            "</table>\n",
                            "</div>"
                        ],
                        "text/plain": [
                            "   Pregnancies  Glucose  BloodPressure  SkinThickness  Insulin   BMI  \\\n",
                            "0            6      148             72             35        0  33.6   \n",
                            "1            1       85             66             29        0  26.6   \n",
                            "2            8      183             64              0        0  23.3   \n",
                            "3            1       89             66             23       94  28.1   \n",
                            "4            0      137             40             35      168  43.1   \n",
                            "\n",
                            "   DiabetesPedigreeFunction  Age  Outcome  \n",
                            "0                     0.627   50        1  \n",
                            "1                     0.351   31        0  \n",
                            "2                     0.672   32        1  \n",
                            "3                     0.167   21        0  \n",
                            "4                     2.288   33        1  "
                        ]
                    },
                    "execution_count": 376,
                    "metadata": {},
                    "output_type": "execute_result"
                }
            ],
            "source": [
                "df_raw.head(5)"
            ]
        },
        {
            "cell_type": "code",
            "execution_count": 377,
            "metadata": {},
            "outputs": [
                {
                    "name": "stdout",
                    "output_type": "stream",
                    "text": [
                        "<class 'pandas.core.frame.DataFrame'>\n",
                        "RangeIndex: 768 entries, 0 to 767\n",
                        "Data columns (total 9 columns):\n",
                        " #   Column                    Non-Null Count  Dtype  \n",
                        "---  ------                    --------------  -----  \n",
                        " 0   Pregnancies               768 non-null    int64  \n",
                        " 1   Glucose                   768 non-null    int64  \n",
                        " 2   BloodPressure             768 non-null    int64  \n",
                        " 3   SkinThickness             768 non-null    int64  \n",
                        " 4   Insulin                   768 non-null    int64  \n",
                        " 5   BMI                       768 non-null    float64\n",
                        " 6   DiabetesPedigreeFunction  768 non-null    float64\n",
                        " 7   Age                       768 non-null    int64  \n",
                        " 8   Outcome                   768 non-null    int64  \n",
                        "dtypes: float64(2), int64(7)\n",
                        "memory usage: 54.1 KB\n"
                    ]
                }
            ],
            "source": [
                "df_raw.info()"
            ]
        },
        {
            "cell_type": "code",
            "execution_count": 378,
            "metadata": {},
            "outputs": [
                {
                    "data": {
                        "text/html": [
                            "<div>\n",
                            "<style scoped>\n",
                            "    .dataframe tbody tr th:only-of-type {\n",
                            "        vertical-align: middle;\n",
                            "    }\n",
                            "\n",
                            "    .dataframe tbody tr th {\n",
                            "        vertical-align: top;\n",
                            "    }\n",
                            "\n",
                            "    .dataframe thead th {\n",
                            "        text-align: right;\n",
                            "    }\n",
                            "</style>\n",
                            "<table border=\"1\" class=\"dataframe\">\n",
                            "  <thead>\n",
                            "    <tr style=\"text-align: right;\">\n",
                            "      <th></th>\n",
                            "      <th>Pregnancies</th>\n",
                            "      <th>Glucose</th>\n",
                            "      <th>BloodPressure</th>\n",
                            "      <th>SkinThickness</th>\n",
                            "      <th>Insulin</th>\n",
                            "      <th>BMI</th>\n",
                            "      <th>DiabetesPedigreeFunction</th>\n",
                            "      <th>Age</th>\n",
                            "      <th>Outcome</th>\n",
                            "    </tr>\n",
                            "  </thead>\n",
                            "  <tbody>\n",
                            "    <tr>\n",
                            "      <th>count</th>\n",
                            "      <td>768.000000</td>\n",
                            "      <td>768.000000</td>\n",
                            "      <td>768.000000</td>\n",
                            "      <td>768.000000</td>\n",
                            "      <td>768.000000</td>\n",
                            "      <td>768.000000</td>\n",
                            "      <td>768.000000</td>\n",
                            "      <td>768.000000</td>\n",
                            "      <td>768.000000</td>\n",
                            "    </tr>\n",
                            "    <tr>\n",
                            "      <th>mean</th>\n",
                            "      <td>3.845052</td>\n",
                            "      <td>120.894531</td>\n",
                            "      <td>69.105469</td>\n",
                            "      <td>20.536458</td>\n",
                            "      <td>79.799479</td>\n",
                            "      <td>31.992578</td>\n",
                            "      <td>0.471876</td>\n",
                            "      <td>33.240885</td>\n",
                            "      <td>0.348958</td>\n",
                            "    </tr>\n",
                            "    <tr>\n",
                            "      <th>std</th>\n",
                            "      <td>3.369578</td>\n",
                            "      <td>31.972618</td>\n",
                            "      <td>19.355807</td>\n",
                            "      <td>15.952218</td>\n",
                            "      <td>115.244002</td>\n",
                            "      <td>7.884160</td>\n",
                            "      <td>0.331329</td>\n",
                            "      <td>11.760232</td>\n",
                            "      <td>0.476951</td>\n",
                            "    </tr>\n",
                            "    <tr>\n",
                            "      <th>min</th>\n",
                            "      <td>0.000000</td>\n",
                            "      <td>0.000000</td>\n",
                            "      <td>0.000000</td>\n",
                            "      <td>0.000000</td>\n",
                            "      <td>0.000000</td>\n",
                            "      <td>0.000000</td>\n",
                            "      <td>0.078000</td>\n",
                            "      <td>21.000000</td>\n",
                            "      <td>0.000000</td>\n",
                            "    </tr>\n",
                            "    <tr>\n",
                            "      <th>25%</th>\n",
                            "      <td>1.000000</td>\n",
                            "      <td>99.000000</td>\n",
                            "      <td>62.000000</td>\n",
                            "      <td>0.000000</td>\n",
                            "      <td>0.000000</td>\n",
                            "      <td>27.300000</td>\n",
                            "      <td>0.243750</td>\n",
                            "      <td>24.000000</td>\n",
                            "      <td>0.000000</td>\n",
                            "    </tr>\n",
                            "    <tr>\n",
                            "      <th>50%</th>\n",
                            "      <td>3.000000</td>\n",
                            "      <td>117.000000</td>\n",
                            "      <td>72.000000</td>\n",
                            "      <td>23.000000</td>\n",
                            "      <td>30.500000</td>\n",
                            "      <td>32.000000</td>\n",
                            "      <td>0.372500</td>\n",
                            "      <td>29.000000</td>\n",
                            "      <td>0.000000</td>\n",
                            "    </tr>\n",
                            "    <tr>\n",
                            "      <th>75%</th>\n",
                            "      <td>6.000000</td>\n",
                            "      <td>140.250000</td>\n",
                            "      <td>80.000000</td>\n",
                            "      <td>32.000000</td>\n",
                            "      <td>127.250000</td>\n",
                            "      <td>36.600000</td>\n",
                            "      <td>0.626250</td>\n",
                            "      <td>41.000000</td>\n",
                            "      <td>1.000000</td>\n",
                            "    </tr>\n",
                            "    <tr>\n",
                            "      <th>max</th>\n",
                            "      <td>17.000000</td>\n",
                            "      <td>199.000000</td>\n",
                            "      <td>122.000000</td>\n",
                            "      <td>99.000000</td>\n",
                            "      <td>846.000000</td>\n",
                            "      <td>67.100000</td>\n",
                            "      <td>2.420000</td>\n",
                            "      <td>81.000000</td>\n",
                            "      <td>1.000000</td>\n",
                            "    </tr>\n",
                            "  </tbody>\n",
                            "</table>\n",
                            "</div>"
                        ],
                        "text/plain": [
                            "       Pregnancies     Glucose  BloodPressure  SkinThickness     Insulin  \\\n",
                            "count   768.000000  768.000000     768.000000     768.000000  768.000000   \n",
                            "mean      3.845052  120.894531      69.105469      20.536458   79.799479   \n",
                            "std       3.369578   31.972618      19.355807      15.952218  115.244002   \n",
                            "min       0.000000    0.000000       0.000000       0.000000    0.000000   \n",
                            "25%       1.000000   99.000000      62.000000       0.000000    0.000000   \n",
                            "50%       3.000000  117.000000      72.000000      23.000000   30.500000   \n",
                            "75%       6.000000  140.250000      80.000000      32.000000  127.250000   \n",
                            "max      17.000000  199.000000     122.000000      99.000000  846.000000   \n",
                            "\n",
                            "              BMI  DiabetesPedigreeFunction         Age     Outcome  \n",
                            "count  768.000000                768.000000  768.000000  768.000000  \n",
                            "mean    31.992578                  0.471876   33.240885    0.348958  \n",
                            "std      7.884160                  0.331329   11.760232    0.476951  \n",
                            "min      0.000000                  0.078000   21.000000    0.000000  \n",
                            "25%     27.300000                  0.243750   24.000000    0.000000  \n",
                            "50%     32.000000                  0.372500   29.000000    0.000000  \n",
                            "75%     36.600000                  0.626250   41.000000    1.000000  \n",
                            "max     67.100000                  2.420000   81.000000    1.000000  "
                        ]
                    },
                    "execution_count": 378,
                    "metadata": {},
                    "output_type": "execute_result"
                }
            ],
            "source": [
                "df_raw.describe()"
            ]
        },
        {
            "cell_type": "code",
            "execution_count": 379,
            "metadata": {},
            "outputs": [
                {
                    "data": {
                        "image/png": "[encoded data removed]",
                        "text/plain": [
                            "<Figure size 864x864 with 9 Axes>"
                        ]
                    },
                    "metadata": {
                        "needs_background": "light"
                    },
                    "output_type": "display_data"
                }
            ],
            "source": [
                "df_raw.hist(figsize=(12,12))\n",
                "plt.show()"
            ]
        },
        {
            "cell_type": "code",
            "execution_count": 380,
            "metadata": {},
            "outputs": [
                {
                    "data": {
                        "text/html": [
                            "<div>\n",
                            "<style scoped>\n",
                            "    .dataframe tbody tr th:only-of-type {\n",
                            "        vertical-align: middle;\n",
                            "    }\n",
                            "\n",
                            "    .dataframe tbody tr th {\n",
                            "        vertical-align: top;\n",
                            "    }\n",
                            "\n",
                            "    .dataframe thead th {\n",
                            "        text-align: right;\n",
                            "    }\n",
                            "</style>\n",
                            "<table border=\"1\" class=\"dataframe\">\n",
                            "  <thead>\n",
                            "    <tr style=\"text-align: right;\">\n",
                            "      <th></th>\n",
                            "      <th>Pregnancies</th>\n",
                            "      <th>Glucose</th>\n",
                            "      <th>BloodPressure</th>\n",
                            "      <th>SkinThickness</th>\n",
                            "      <th>Insulin</th>\n",
                            "      <th>BMI</th>\n",
                            "      <th>DiabetesPedigreeFunction</th>\n",
                            "      <th>Age</th>\n",
                            "      <th>Outcome</th>\n",
                            "    </tr>\n",
                            "  </thead>\n",
                            "  <tbody>\n",
                            "    <tr>\n",
                            "      <th>7</th>\n",
                            "      <td>10</td>\n",
                            "      <td>115</td>\n",
                            "      <td>0</td>\n",
                            "      <td>0</td>\n",
                            "      <td>0</td>\n",
                            "      <td>35.3</td>\n",
                            "      <td>0.134</td>\n",
                            "      <td>29</td>\n",
                            "      <td>0</td>\n",
                            "    </tr>\n",
                            "    <tr>\n",
                            "      <th>406</th>\n",
                            "      <td>4</td>\n",
                            "      <td>115</td>\n",
                            "      <td>72</td>\n",
                            "      <td>0</td>\n",
                            "      <td>0</td>\n",
                            "      <td>28.9</td>\n",
                            "      <td>0.376</td>\n",
                            "      <td>46</td>\n",
                            "      <td>1</td>\n",
                            "    </tr>\n",
                            "    <tr>\n",
                            "      <th>149</th>\n",
                            "      <td>2</td>\n",
                            "      <td>90</td>\n",
                            "      <td>70</td>\n",
                            "      <td>17</td>\n",
                            "      <td>0</td>\n",
                            "      <td>27.3</td>\n",
                            "      <td>0.085</td>\n",
                            "      <td>22</td>\n",
                            "      <td>0</td>\n",
                            "    </tr>\n",
                            "    <tr>\n",
                            "      <th>245</th>\n",
                            "      <td>9</td>\n",
                            "      <td>184</td>\n",
                            "      <td>85</td>\n",
                            "      <td>15</td>\n",
                            "      <td>0</td>\n",
                            "      <td>30.0</td>\n",
                            "      <td>1.213</td>\n",
                            "      <td>49</td>\n",
                            "      <td>1</td>\n",
                            "    </tr>\n",
                            "    <tr>\n",
                            "      <th>419</th>\n",
                            "      <td>3</td>\n",
                            "      <td>129</td>\n",
                            "      <td>64</td>\n",
                            "      <td>29</td>\n",
                            "      <td>115</td>\n",
                            "      <td>26.4</td>\n",
                            "      <td>0.219</td>\n",
                            "      <td>28</td>\n",
                            "      <td>1</td>\n",
                            "    </tr>\n",
                            "  </tbody>\n",
                            "</table>\n",
                            "</div>"
                        ],
                        "text/plain": [
                            "     Pregnancies  Glucose  BloodPressure  SkinThickness  Insulin   BMI  \\\n",
                            "7             10      115              0              0        0  35.3   \n",
                            "406            4      115             72              0        0  28.9   \n",
                            "149            2       90             70             17        0  27.3   \n",
                            "245            9      184             85             15        0  30.0   \n",
                            "419            3      129             64             29      115  26.4   \n",
                            "\n",
                            "     DiabetesPedigreeFunction  Age  Outcome  \n",
                            "7                       0.134   29        0  \n",
                            "406                     0.376   46        1  \n",
                            "149                     0.085   22        0  \n",
                            "245                     1.213   49        1  \n",
                            "419                     0.219   28        1  "
                        ]
                    },
                    "execution_count": 380,
                    "metadata": {},
                    "output_type": "execute_result"
                }
            ],
            "source": [
                "df_raw.sample(5)"
            ]
        },
        {
            "cell_type": "code",
            "execution_count": 381,
            "metadata": {},
            "outputs": [
                {
                    "data": {
                        "text/plain": [
                            "0    500\n",
                            "1    268\n",
                            "Name: Outcome, dtype: int64"
                        ]
                    },
                    "execution_count": 381,
                    "metadata": {},
                    "output_type": "execute_result"
                }
            ],
            "source": [
                "df_raw[\"Outcome\"].value_counts()\n",
                "\n"
            ]
        },
        {
            "cell_type": "markdown",
            "metadata": {},
            "source": [
                "This dataset is ambalanced"
            ]
        },
        {
            "cell_type": "markdown",
            "metadata": {},
            "source": [
                "### See more about features"
            ]
        },
        {
            "cell_type": "code",
            "execution_count": 382,
            "metadata": {},
            "outputs": [
                {
                    "data": {
                        "text/html": [
                            "<div>\n",
                            "<style scoped>\n",
                            "    .dataframe tbody tr th:only-of-type {\n",
                            "        vertical-align: middle;\n",
                            "    }\n",
                            "\n",
                            "    .dataframe tbody tr th {\n",
                            "        vertical-align: top;\n",
                            "    }\n",
                            "\n",
                            "    .dataframe thead th {\n",
                            "        text-align: right;\n",
                            "    }\n",
                            "</style>\n",
                            "<table border=\"1\" class=\"dataframe\">\n",
                            "  <thead>\n",
                            "    <tr style=\"text-align: right;\">\n",
                            "      <th></th>\n",
                            "      <th>Pregnancies</th>\n",
                            "      <th>Glucose</th>\n",
                            "      <th>BloodPressure</th>\n",
                            "      <th>SkinThickness</th>\n",
                            "      <th>Insulin</th>\n",
                            "      <th>BMI</th>\n",
                            "      <th>DiabetesPedigreeFunction</th>\n",
                            "      <th>Age</th>\n",
                            "      <th>Outcome</th>\n",
                            "    </tr>\n",
                            "  </thead>\n",
                            "  <tbody>\n",
                            "    <tr>\n",
                            "      <th>4</th>\n",
                            "      <td>0</td>\n",
                            "      <td>137</td>\n",
                            "      <td>40</td>\n",
                            "      <td>35</td>\n",
                            "      <td>168</td>\n",
                            "      <td>43.1</td>\n",
                            "      <td>2.288</td>\n",
                            "      <td>33</td>\n",
                            "      <td>1</td>\n",
                            "    </tr>\n",
                            "    <tr>\n",
                            "      <th>16</th>\n",
                            "      <td>0</td>\n",
                            "      <td>118</td>\n",
                            "      <td>84</td>\n",
                            "      <td>47</td>\n",
                            "      <td>230</td>\n",
                            "      <td>45.8</td>\n",
                            "      <td>0.551</td>\n",
                            "      <td>31</td>\n",
                            "      <td>1</td>\n",
                            "    </tr>\n",
                            "    <tr>\n",
                            "      <th>45</th>\n",
                            "      <td>0</td>\n",
                            "      <td>180</td>\n",
                            "      <td>66</td>\n",
                            "      <td>39</td>\n",
                            "      <td>0</td>\n",
                            "      <td>42.0</td>\n",
                            "      <td>1.893</td>\n",
                            "      <td>25</td>\n",
                            "      <td>1</td>\n",
                            "    </tr>\n",
                            "    <tr>\n",
                            "      <th>57</th>\n",
                            "      <td>0</td>\n",
                            "      <td>100</td>\n",
                            "      <td>88</td>\n",
                            "      <td>60</td>\n",
                            "      <td>110</td>\n",
                            "      <td>46.8</td>\n",
                            "      <td>0.962</td>\n",
                            "      <td>31</td>\n",
                            "      <td>0</td>\n",
                            "    </tr>\n",
                            "    <tr>\n",
                            "      <th>58</th>\n",
                            "      <td>0</td>\n",
                            "      <td>146</td>\n",
                            "      <td>82</td>\n",
                            "      <td>0</td>\n",
                            "      <td>0</td>\n",
                            "      <td>40.5</td>\n",
                            "      <td>1.781</td>\n",
                            "      <td>44</td>\n",
                            "      <td>0</td>\n",
                            "    </tr>\n",
                            "    <tr>\n",
                            "      <th>...</th>\n",
                            "      <td>...</td>\n",
                            "      <td>...</td>\n",
                            "      <td>...</td>\n",
                            "      <td>...</td>\n",
                            "      <td>...</td>\n",
                            "      <td>...</td>\n",
                            "      <td>...</td>\n",
                            "      <td>...</td>\n",
                            "      <td>...</td>\n",
                            "    </tr>\n",
                            "    <tr>\n",
                            "      <th>713</th>\n",
                            "      <td>0</td>\n",
                            "      <td>134</td>\n",
                            "      <td>58</td>\n",
                            "      <td>20</td>\n",
                            "      <td>291</td>\n",
                            "      <td>26.4</td>\n",
                            "      <td>0.352</td>\n",
                            "      <td>21</td>\n",
                            "      <td>0</td>\n",
                            "    </tr>\n",
                            "    <tr>\n",
                            "      <th>727</th>\n",
                            "      <td>0</td>\n",
                            "      <td>141</td>\n",
                            "      <td>84</td>\n",
                            "      <td>26</td>\n",
                            "      <td>0</td>\n",
                            "      <td>32.4</td>\n",
                            "      <td>0.433</td>\n",
                            "      <td>22</td>\n",
                            "      <td>0</td>\n",
                            "    </tr>\n",
                            "    <tr>\n",
                            "      <th>736</th>\n",
                            "      <td>0</td>\n",
                            "      <td>126</td>\n",
                            "      <td>86</td>\n",
                            "      <td>27</td>\n",
                            "      <td>120</td>\n",
                            "      <td>27.4</td>\n",
                            "      <td>0.515</td>\n",
                            "      <td>21</td>\n",
                            "      <td>0</td>\n",
                            "    </tr>\n",
                            "    <tr>\n",
                            "      <th>753</th>\n",
                            "      <td>0</td>\n",
                            "      <td>181</td>\n",
                            "      <td>88</td>\n",
                            "      <td>44</td>\n",
                            "      <td>510</td>\n",
                            "      <td>43.3</td>\n",
                            "      <td>0.222</td>\n",
                            "      <td>26</td>\n",
                            "      <td>1</td>\n",
                            "    </tr>\n",
                            "    <tr>\n",
                            "      <th>757</th>\n",
                            "      <td>0</td>\n",
                            "      <td>123</td>\n",
                            "      <td>72</td>\n",
                            "      <td>0</td>\n",
                            "      <td>0</td>\n",
                            "      <td>36.3</td>\n",
                            "      <td>0.258</td>\n",
                            "      <td>52</td>\n",
                            "      <td>1</td>\n",
                            "    </tr>\n",
                            "  </tbody>\n",
                            "</table>\n",
                            "<p>111 rows × 9 columns</p>\n",
                            "</div>"
                        ],
                        "text/plain": [
                            "     Pregnancies  Glucose  BloodPressure  SkinThickness  Insulin   BMI  \\\n",
                            "4              0      137             40             35      168  43.1   \n",
                            "16             0      118             84             47      230  45.8   \n",
                            "45             0      180             66             39        0  42.0   \n",
                            "57             0      100             88             60      110  46.8   \n",
                            "58             0      146             82              0        0  40.5   \n",
                            "..           ...      ...            ...            ...      ...   ...   \n",
                            "713            0      134             58             20      291  26.4   \n",
                            "727            0      141             84             26        0  32.4   \n",
                            "736            0      126             86             27      120  27.4   \n",
                            "753            0      181             88             44      510  43.3   \n",
                            "757            0      123             72              0        0  36.3   \n",
                            "\n",
                            "     DiabetesPedigreeFunction  Age  Outcome  \n",
                            "4                       2.288   33        1  \n",
                            "16                      0.551   31        1  \n",
                            "45                      1.893   25        1  \n",
                            "57                      0.962   31        0  \n",
                            "58                      1.781   44        0  \n",
                            "..                        ...  ...      ...  \n",
                            "713                     0.352   21        0  \n",
                            "727                     0.433   22        0  \n",
                            "736                     0.515   21        0  \n",
                            "753                     0.222   26        1  \n",
                            "757                     0.258   52        1  \n",
                            "\n",
                            "[111 rows x 9 columns]"
                        ]
                    },
                    "execution_count": 382,
                    "metadata": {},
                    "output_type": "execute_result"
                }
            ],
            "source": [
                "df_raw[df_raw['Pregnancies']==0]\n"
            ]
        },
        {
            "cell_type": "code",
            "execution_count": 383,
            "metadata": {},
            "outputs": [
                {
                    "data": {
                        "text/plain": [
                            "35"
                        ]
                    },
                    "execution_count": 383,
                    "metadata": {},
                    "output_type": "execute_result"
                }
            ],
            "source": [
                "len(df_raw[df_raw['BloodPressure']==0])\n"
            ]
        },
        {
            "cell_type": "code",
            "execution_count": 384,
            "metadata": {},
            "outputs": [
                {
                    "data": {
                        "text/plain": [
                            "374"
                        ]
                    },
                    "execution_count": 384,
                    "metadata": {},
                    "output_type": "execute_result"
                }
            ],
            "source": [
                "len(df_raw[df_raw['Insulin']==0])\n"
            ]
        },
        {
            "cell_type": "code",
            "execution_count": 385,
            "metadata": {},
            "outputs": [
                {
                    "data": {
                        "text/plain": [
                            "0        0\n",
                            "1        0\n",
                            "2        0\n",
                            "3       94\n",
                            "4      168\n",
                            "      ... \n",
                            "763    180\n",
                            "764      0\n",
                            "765    112\n",
                            "766      0\n",
                            "767      0\n",
                            "Name: Insulin, Length: 768, dtype: int64"
                        ]
                    },
                    "execution_count": 385,
                    "metadata": {},
                    "output_type": "execute_result"
                }
            ],
            "source": [
                "df_raw['Insulin']"
            ]
        },
        {
            "cell_type": "code",
            "execution_count": 386,
            "metadata": {},
            "outputs": [
                {
                    "data": {
                        "text/plain": [
                            "0      374\n",
                            "105     11\n",
                            "130      9\n",
                            "140      9\n",
                            "120      8\n",
                            "      ... \n",
                            "73       1\n",
                            "171      1\n",
                            "255      1\n",
                            "52       1\n",
                            "112      1\n",
                            "Name: Insulin, Length: 186, dtype: int64"
                        ]
                    },
                    "execution_count": 386,
                    "metadata": {},
                    "output_type": "execute_result"
                }
            ],
            "source": [
                "df_raw['Insulin'].value_counts()\n"
            ]
        },
        {
            "cell_type": "code",
            "execution_count": 387,
            "metadata": {},
            "outputs": [
                {
                    "data": {
                        "text/plain": [
                            "11"
                        ]
                    },
                    "execution_count": 387,
                    "metadata": {},
                    "output_type": "execute_result"
                }
            ],
            "source": [
                "len(df_raw[df_raw['BMI']==0])\n"
            ]
        },
        {
            "cell_type": "markdown",
            "metadata": {},
            "source": [
                "### Clean the  DataSet"
            ]
        },
        {
            "cell_type": "code",
            "execution_count": 388,
            "metadata": {},
            "outputs": [],
            "source": [
                "\n",
                "#insulina\n",
                "df_0=df_raw[(df_raw['Outcome']==0) & (df_raw[\"Insulin\"] > 0)]\n",
                "insuline_mean_0=df_0['Insulin'].mean()\n",
                "\n",
                "df_no0=df_raw[(df_raw['Outcome']!=0) & (df_raw[\"Insulin\"] > 0)]\n",
                "insuline_mean_no0=df_no0['Insulin'].mean()"
            ]
        },
        {
            "cell_type": "code",
            "execution_count": 389,
            "metadata": {},
            "outputs": [],
            "source": [
                "def insulina(insulin_value, outcome_value, insuline_mean_0,insuline_mean_no0):\n",
                "    if outcome_value==0 and insulin_value==0:\n",
                "        return insuline_mean_0\n",
                "    elif outcome_value==1 and insulin_value==0:\n",
                "        return insuline_mean_no0\n",
                "    else:\n",
                "        return insulin_value"
            ]
        },
        {
            "cell_type": "code",
            "execution_count": 390,
            "metadata": {},
            "outputs": [],
            "source": [
                "df_raw['Insulin'] = df_raw.apply(lambda x: insulina(x['Insulin'], x['Outcome'],insuline_mean_0,insuline_mean_no0), axis=1)"
            ]
        },
        {
            "cell_type": "code",
            "execution_count": 391,
            "metadata": {},
            "outputs": [
                {
                    "data": {
                        "text/html": [
                            "<div>\n",
                            "<style scoped>\n",
                            "    .dataframe tbody tr th:only-of-type {\n",
                            "        vertical-align: middle;\n",
                            "    }\n",
                            "\n",
                            "    .dataframe tbody tr th {\n",
                            "        vertical-align: top;\n",
                            "    }\n",
                            "\n",
                            "    .dataframe thead th {\n",
                            "        text-align: right;\n",
                            "    }\n",
                            "</style>\n",
                            "<table border=\"1\" class=\"dataframe\">\n",
                            "  <thead>\n",
                            "    <tr style=\"text-align: right;\">\n",
                            "      <th></th>\n",
                            "      <th>Pregnancies</th>\n",
                            "      <th>Glucose</th>\n",
                            "      <th>BloodPressure</th>\n",
                            "      <th>SkinThickness</th>\n",
                            "      <th>Insulin</th>\n",
                            "      <th>BMI</th>\n",
                            "      <th>DiabetesPedigreeFunction</th>\n",
                            "      <th>Age</th>\n",
                            "      <th>Outcome</th>\n",
                            "    </tr>\n",
                            "  </thead>\n",
                            "  <tbody>\n",
                            "    <tr>\n",
                            "      <th>count</th>\n",
                            "      <td>768.000000</td>\n",
                            "      <td>768.000000</td>\n",
                            "      <td>768.000000</td>\n",
                            "      <td>768.000000</td>\n",
                            "      <td>768.000000</td>\n",
                            "      <td>768.000000</td>\n",
                            "      <td>768.000000</td>\n",
                            "      <td>768.000000</td>\n",
                            "      <td>768.000000</td>\n",
                            "    </tr>\n",
                            "    <tr>\n",
                            "      <th>mean</th>\n",
                            "      <td>3.845052</td>\n",
                            "      <td>120.894531</td>\n",
                            "      <td>69.105469</td>\n",
                            "      <td>20.536458</td>\n",
                            "      <td>157.003527</td>\n",
                            "      <td>31.992578</td>\n",
                            "      <td>0.471876</td>\n",
                            "      <td>33.240885</td>\n",
                            "      <td>0.348958</td>\n",
                            "    </tr>\n",
                            "    <tr>\n",
                            "      <th>std</th>\n",
                            "      <td>3.369578</td>\n",
                            "      <td>31.972618</td>\n",
                            "      <td>19.355807</td>\n",
                            "      <td>15.952218</td>\n",
                            "      <td>88.860914</td>\n",
                            "      <td>7.884160</td>\n",
                            "      <td>0.331329</td>\n",
                            "      <td>11.760232</td>\n",
                            "      <td>0.476951</td>\n",
                            "    </tr>\n",
                            "    <tr>\n",
                            "      <th>min</th>\n",
                            "      <td>0.000000</td>\n",
                            "      <td>0.000000</td>\n",
                            "      <td>0.000000</td>\n",
                            "      <td>0.000000</td>\n",
                            "      <td>14.000000</td>\n",
                            "      <td>0.000000</td>\n",
                            "      <td>0.078000</td>\n",
                            "      <td>21.000000</td>\n",
                            "      <td>0.000000</td>\n",
                            "    </tr>\n",
                            "    <tr>\n",
                            "      <th>25%</th>\n",
                            "      <td>1.000000</td>\n",
                            "      <td>99.000000</td>\n",
                            "      <td>62.000000</td>\n",
                            "      <td>0.000000</td>\n",
                            "      <td>121.500000</td>\n",
                            "      <td>27.300000</td>\n",
                            "      <td>0.243750</td>\n",
                            "      <td>24.000000</td>\n",
                            "      <td>0.000000</td>\n",
                            "    </tr>\n",
                            "    <tr>\n",
                            "      <th>50%</th>\n",
                            "      <td>3.000000</td>\n",
                            "      <td>117.000000</td>\n",
                            "      <td>72.000000</td>\n",
                            "      <td>23.000000</td>\n",
                            "      <td>130.287879</td>\n",
                            "      <td>32.000000</td>\n",
                            "      <td>0.372500</td>\n",
                            "      <td>29.000000</td>\n",
                            "      <td>0.000000</td>\n",
                            "    </tr>\n",
                            "    <tr>\n",
                            "      <th>75%</th>\n",
                            "      <td>6.000000</td>\n",
                            "      <td>140.250000</td>\n",
                            "      <td>80.000000</td>\n",
                            "      <td>32.000000</td>\n",
                            "      <td>206.846154</td>\n",
                            "      <td>36.600000</td>\n",
                            "      <td>0.626250</td>\n",
                            "      <td>41.000000</td>\n",
                            "      <td>1.000000</td>\n",
                            "    </tr>\n",
                            "    <tr>\n",
                            "      <th>max</th>\n",
                            "      <td>17.000000</td>\n",
                            "      <td>199.000000</td>\n",
                            "      <td>122.000000</td>\n",
                            "      <td>99.000000</td>\n",
                            "      <td>846.000000</td>\n",
                            "      <td>67.100000</td>\n",
                            "      <td>2.420000</td>\n",
                            "      <td>81.000000</td>\n",
                            "      <td>1.000000</td>\n",
                            "    </tr>\n",
                            "  </tbody>\n",
                            "</table>\n",
                            "</div>"
                        ],
                        "text/plain": [
                            "       Pregnancies     Glucose  BloodPressure  SkinThickness     Insulin  \\\n",
                            "count   768.000000  768.000000     768.000000     768.000000  768.000000   \n",
                            "mean      3.845052  120.894531      69.105469      20.536458  157.003527   \n",
                            "std       3.369578   31.972618      19.355807      15.952218   88.860914   \n",
                            "min       0.000000    0.000000       0.000000       0.000000   14.000000   \n",
                            "25%       1.000000   99.000000      62.000000       0.000000  121.500000   \n",
                            "50%       3.000000  117.000000      72.000000      23.000000  130.287879   \n",
                            "75%       6.000000  140.250000      80.000000      32.000000  206.846154   \n",
                            "max      17.000000  199.000000     122.000000      99.000000  846.000000   \n",
                            "\n",
                            "              BMI  DiabetesPedigreeFunction         Age     Outcome  \n",
                            "count  768.000000                768.000000  768.000000  768.000000  \n",
                            "mean    31.992578                  0.471876   33.240885    0.348958  \n",
                            "std      7.884160                  0.331329   11.760232    0.476951  \n",
                            "min      0.000000                  0.078000   21.000000    0.000000  \n",
                            "25%     27.300000                  0.243750   24.000000    0.000000  \n",
                            "50%     32.000000                  0.372500   29.000000    0.000000  \n",
                            "75%     36.600000                  0.626250   41.000000    1.000000  \n",
                            "max     67.100000                  2.420000   81.000000    1.000000  "
                        ]
                    },
                    "execution_count": 391,
                    "metadata": {},
                    "output_type": "execute_result"
                }
            ],
            "source": [
                "df_raw.describe()"
            ]
        },
        {
            "cell_type": "code",
            "execution_count": 392,
            "metadata": {},
            "outputs": [],
            "source": [
                "\n",
                "#bmi\n",
                "df_0=df_raw[(df_raw['Outcome']==0) & (df_raw[\"BMI\"] > 0)]\n",
                "bmi_mean_0=df_0['BMI'].mean()\n",
                "\n",
                "df_no0=df_raw[(df_raw['Outcome']!=0) & (df_raw[\"BMI\"] > 0)]\n",
                "bmi_mean_no0=df_no0['BMI'].mean()\n",
                "\n",
                "def BMI_fun(bmi_value, outcome_value, bmi_mean_0,bmi_mean_no0):\n",
                "    if outcome_value==0 and bmi_value==0:\n",
                "        return bmi_mean_0\n",
                "    elif outcome_value==1 and bmi_value==0:\n",
                "        return bmi_mean_no0\n",
                "    else:\n",
                "        return bmi_value"
            ]
        },
        {
            "cell_type": "code",
            "execution_count": 393,
            "metadata": {},
            "outputs": [],
            "source": [
                "df_raw['BMI'] = df_raw.apply(lambda x: BMI_fun(x['BMI'], x['Outcome'],bmi_mean_0,bmi_mean_no0), axis=1)"
            ]
        },
        {
            "cell_type": "code",
            "execution_count": 394,
            "metadata": {},
            "outputs": [
                {
                    "data": {
                        "text/html": [
                            "<div>\n",
                            "<style scoped>\n",
                            "    .dataframe tbody tr th:only-of-type {\n",
                            "        vertical-align: middle;\n",
                            "    }\n",
                            "\n",
                            "    .dataframe tbody tr th {\n",
                            "        vertical-align: top;\n",
                            "    }\n",
                            "\n",
                            "    .dataframe thead th {\n",
                            "        text-align: right;\n",
                            "    }\n",
                            "</style>\n",
                            "<table border=\"1\" class=\"dataframe\">\n",
                            "  <thead>\n",
                            "    <tr style=\"text-align: right;\">\n",
                            "      <th></th>\n",
                            "      <th>Pregnancies</th>\n",
                            "      <th>Glucose</th>\n",
                            "      <th>BloodPressure</th>\n",
                            "      <th>SkinThickness</th>\n",
                            "      <th>Insulin</th>\n",
                            "      <th>BMI</th>\n",
                            "      <th>DiabetesPedigreeFunction</th>\n",
                            "      <th>Age</th>\n",
                            "      <th>Outcome</th>\n",
                            "    </tr>\n",
                            "  </thead>\n",
                            "  <tbody>\n",
                            "    <tr>\n",
                            "      <th>count</th>\n",
                            "      <td>768.000000</td>\n",
                            "      <td>768.000000</td>\n",
                            "      <td>768.000000</td>\n",
                            "      <td>768.000000</td>\n",
                            "      <td>768.000000</td>\n",
                            "      <td>768.00000</td>\n",
                            "      <td>768.000000</td>\n",
                            "      <td>768.000000</td>\n",
                            "      <td>768.000000</td>\n",
                            "    </tr>\n",
                            "    <tr>\n",
                            "      <th>mean</th>\n",
                            "      <td>3.845052</td>\n",
                            "      <td>120.894531</td>\n",
                            "      <td>69.105469</td>\n",
                            "      <td>20.536458</td>\n",
                            "      <td>157.003527</td>\n",
                            "      <td>32.44642</td>\n",
                            "      <td>0.471876</td>\n",
                            "      <td>33.240885</td>\n",
                            "      <td>0.348958</td>\n",
                            "    </tr>\n",
                            "    <tr>\n",
                            "      <th>std</th>\n",
                            "      <td>3.369578</td>\n",
                            "      <td>31.972618</td>\n",
                            "      <td>19.355807</td>\n",
                            "      <td>15.952218</td>\n",
                            "      <td>88.860914</td>\n",
                            "      <td>6.87897</td>\n",
                            "      <td>0.331329</td>\n",
                            "      <td>11.760232</td>\n",
                            "      <td>0.476951</td>\n",
                            "    </tr>\n",
                            "    <tr>\n",
                            "      <th>min</th>\n",
                            "      <td>0.000000</td>\n",
                            "      <td>0.000000</td>\n",
                            "      <td>0.000000</td>\n",
                            "      <td>0.000000</td>\n",
                            "      <td>14.000000</td>\n",
                            "      <td>18.20000</td>\n",
                            "      <td>0.078000</td>\n",
                            "      <td>21.000000</td>\n",
                            "      <td>0.000000</td>\n",
                            "    </tr>\n",
                            "    <tr>\n",
                            "      <th>25%</th>\n",
                            "      <td>1.000000</td>\n",
                            "      <td>99.000000</td>\n",
                            "      <td>62.000000</td>\n",
                            "      <td>0.000000</td>\n",
                            "      <td>121.500000</td>\n",
                            "      <td>27.50000</td>\n",
                            "      <td>0.243750</td>\n",
                            "      <td>24.000000</td>\n",
                            "      <td>0.000000</td>\n",
                            "    </tr>\n",
                            "    <tr>\n",
                            "      <th>50%</th>\n",
                            "      <td>3.000000</td>\n",
                            "      <td>117.000000</td>\n",
                            "      <td>72.000000</td>\n",
                            "      <td>23.000000</td>\n",
                            "      <td>130.287879</td>\n",
                            "      <td>32.05000</td>\n",
                            "      <td>0.372500</td>\n",
                            "      <td>29.000000</td>\n",
                            "      <td>0.000000</td>\n",
                            "    </tr>\n",
                            "    <tr>\n",
                            "      <th>75%</th>\n",
                            "      <td>6.000000</td>\n",
                            "      <td>140.250000</td>\n",
                            "      <td>80.000000</td>\n",
                            "      <td>32.000000</td>\n",
                            "      <td>206.846154</td>\n",
                            "      <td>36.60000</td>\n",
                            "      <td>0.626250</td>\n",
                            "      <td>41.000000</td>\n",
                            "      <td>1.000000</td>\n",
                            "    </tr>\n",
                            "    <tr>\n",
                            "      <th>max</th>\n",
                            "      <td>17.000000</td>\n",
                            "      <td>199.000000</td>\n",
                            "      <td>122.000000</td>\n",
                            "      <td>99.000000</td>\n",
                            "      <td>846.000000</td>\n",
                            "      <td>67.10000</td>\n",
                            "      <td>2.420000</td>\n",
                            "      <td>81.000000</td>\n",
                            "      <td>1.000000</td>\n",
                            "    </tr>\n",
                            "  </tbody>\n",
                            "</table>\n",
                            "</div>"
                        ],
                        "text/plain": [
                            "       Pregnancies     Glucose  BloodPressure  SkinThickness     Insulin  \\\n",
                            "count   768.000000  768.000000     768.000000     768.000000  768.000000   \n",
                            "mean      3.845052  120.894531      69.105469      20.536458  157.003527   \n",
                            "std       3.369578   31.972618      19.355807      15.952218   88.860914   \n",
                            "min       0.000000    0.000000       0.000000       0.000000   14.000000   \n",
                            "25%       1.000000   99.000000      62.000000       0.000000  121.500000   \n",
                            "50%       3.000000  117.000000      72.000000      23.000000  130.287879   \n",
                            "75%       6.000000  140.250000      80.000000      32.000000  206.846154   \n",
                            "max      17.000000  199.000000     122.000000      99.000000  846.000000   \n",
                            "\n",
                            "             BMI  DiabetesPedigreeFunction         Age     Outcome  \n",
                            "count  768.00000                768.000000  768.000000  768.000000  \n",
                            "mean    32.44642                  0.471876   33.240885    0.348958  \n",
                            "std      6.87897                  0.331329   11.760232    0.476951  \n",
                            "min     18.20000                  0.078000   21.000000    0.000000  \n",
                            "25%     27.50000                  0.243750   24.000000    0.000000  \n",
                            "50%     32.05000                  0.372500   29.000000    0.000000  \n",
                            "75%     36.60000                  0.626250   41.000000    1.000000  \n",
                            "max     67.10000                  2.420000   81.000000    1.000000  "
                        ]
                    },
                    "execution_count": 394,
                    "metadata": {},
                    "output_type": "execute_result"
                }
            ],
            "source": [
                "df_raw.describe()"
            ]
        },
        {
            "cell_type": "code",
            "execution_count": 395,
            "metadata": {},
            "outputs": [],
            "source": [
                "\n",
                "#Glucose\n",
                "df_0=df_raw[(df_raw['Outcome']==0) & (df_raw[\"Glucose\"] > 0)]\n",
                "glucose_mean_0=df_0['Glucose'].mean()\n",
                "\n",
                "df_no0=df_raw[(df_raw['Outcome']!=0) & (df_raw[\"Glucose\"] > 0)]\n",
                "glucose_mean_no0=df_no0['Glucose'].mean()\n",
                "\n",
                "def glucose_fun(glucose_value, outcome_value, glucose_mean_0,glucose_mean_no0):\n",
                "    if outcome_value==0 and glucose_value==0:\n",
                "        return glucose_mean_0\n",
                "    elif outcome_value==1 and glucose_value==0:\n",
                "        return glucose_mean_no0\n",
                "    else:\n",
                "        return glucose_value"
            ]
        },
        {
            "cell_type": "code",
            "execution_count": 396,
            "metadata": {},
            "outputs": [],
            "source": [
                "df_raw['Glucose'] = df_raw.apply(lambda x: glucose_fun(x['Glucose'], x['Outcome'],glucose_mean_0,glucose_mean_no0), axis=1)"
            ]
        },
        {
            "cell_type": "code",
            "execution_count": 397,
            "metadata": {},
            "outputs": [
                {
                    "data": {
                        "text/html": [
                            "<div>\n",
                            "<style scoped>\n",
                            "    .dataframe tbody tr th:only-of-type {\n",
                            "        vertical-align: middle;\n",
                            "    }\n",
                            "\n",
                            "    .dataframe tbody tr th {\n",
                            "        vertical-align: top;\n",
                            "    }\n",
                            "\n",
                            "    .dataframe thead th {\n",
                            "        text-align: right;\n",
                            "    }\n",
                            "</style>\n",
                            "<table border=\"1\" class=\"dataframe\">\n",
                            "  <thead>\n",
                            "    <tr style=\"text-align: right;\">\n",
                            "      <th></th>\n",
                            "      <th>Pregnancies</th>\n",
                            "      <th>Glucose</th>\n",
                            "      <th>BloodPressure</th>\n",
                            "      <th>SkinThickness</th>\n",
                            "      <th>Insulin</th>\n",
                            "      <th>BMI</th>\n",
                            "      <th>DiabetesPedigreeFunction</th>\n",
                            "      <th>Age</th>\n",
                            "      <th>Outcome</th>\n",
                            "    </tr>\n",
                            "  </thead>\n",
                            "  <tbody>\n",
                            "    <tr>\n",
                            "      <th>count</th>\n",
                            "      <td>768.000000</td>\n",
                            "      <td>768.000000</td>\n",
                            "      <td>768.000000</td>\n",
                            "      <td>768.000000</td>\n",
                            "      <td>768.000000</td>\n",
                            "      <td>768.00000</td>\n",
                            "      <td>768.000000</td>\n",
                            "      <td>768.000000</td>\n",
                            "      <td>768.000000</td>\n",
                            "    </tr>\n",
                            "    <tr>\n",
                            "      <th>mean</th>\n",
                            "      <td>3.845052</td>\n",
                            "      <td>121.697358</td>\n",
                            "      <td>69.105469</td>\n",
                            "      <td>20.536458</td>\n",
                            "      <td>157.003527</td>\n",
                            "      <td>32.44642</td>\n",
                            "      <td>0.471876</td>\n",
                            "      <td>33.240885</td>\n",
                            "      <td>0.348958</td>\n",
                            "    </tr>\n",
                            "    <tr>\n",
                            "      <th>std</th>\n",
                            "      <td>3.369578</td>\n",
                            "      <td>30.462008</td>\n",
                            "      <td>19.355807</td>\n",
                            "      <td>15.952218</td>\n",
                            "      <td>88.860914</td>\n",
                            "      <td>6.87897</td>\n",
                            "      <td>0.331329</td>\n",
                            "      <td>11.760232</td>\n",
                            "      <td>0.476951</td>\n",
                            "    </tr>\n",
                            "    <tr>\n",
                            "      <th>min</th>\n",
                            "      <td>0.000000</td>\n",
                            "      <td>44.000000</td>\n",
                            "      <td>0.000000</td>\n",
                            "      <td>0.000000</td>\n",
                            "      <td>14.000000</td>\n",
                            "      <td>18.20000</td>\n",
                            "      <td>0.078000</td>\n",
                            "      <td>21.000000</td>\n",
                            "      <td>0.000000</td>\n",
                            "    </tr>\n",
                            "    <tr>\n",
                            "      <th>25%</th>\n",
                            "      <td>1.000000</td>\n",
                            "      <td>99.750000</td>\n",
                            "      <td>62.000000</td>\n",
                            "      <td>0.000000</td>\n",
                            "      <td>121.500000</td>\n",
                            "      <td>27.50000</td>\n",
                            "      <td>0.243750</td>\n",
                            "      <td>24.000000</td>\n",
                            "      <td>0.000000</td>\n",
                            "    </tr>\n",
                            "    <tr>\n",
                            "      <th>50%</th>\n",
                            "      <td>3.000000</td>\n",
                            "      <td>117.000000</td>\n",
                            "      <td>72.000000</td>\n",
                            "      <td>23.000000</td>\n",
                            "      <td>130.287879</td>\n",
                            "      <td>32.05000</td>\n",
                            "      <td>0.372500</td>\n",
                            "      <td>29.000000</td>\n",
                            "      <td>0.000000</td>\n",
                            "    </tr>\n",
                            "    <tr>\n",
                            "      <th>75%</th>\n",
                            "      <td>6.000000</td>\n",
                            "      <td>141.000000</td>\n",
                            "      <td>80.000000</td>\n",
                            "      <td>32.000000</td>\n",
                            "      <td>206.846154</td>\n",
                            "      <td>36.60000</td>\n",
                            "      <td>0.626250</td>\n",
                            "      <td>41.000000</td>\n",
                            "      <td>1.000000</td>\n",
                            "    </tr>\n",
                            "    <tr>\n",
                            "      <th>max</th>\n",
                            "      <td>17.000000</td>\n",
                            "      <td>199.000000</td>\n",
                            "      <td>122.000000</td>\n",
                            "      <td>99.000000</td>\n",
                            "      <td>846.000000</td>\n",
                            "      <td>67.10000</td>\n",
                            "      <td>2.420000</td>\n",
                            "      <td>81.000000</td>\n",
                            "      <td>1.000000</td>\n",
                            "    </tr>\n",
                            "  </tbody>\n",
                            "</table>\n",
                            "</div>"
                        ],
                        "text/plain": [
                            "       Pregnancies     Glucose  BloodPressure  SkinThickness     Insulin  \\\n",
                            "count   768.000000  768.000000     768.000000     768.000000  768.000000   \n",
                            "mean      3.845052  121.697358      69.105469      20.536458  157.003527   \n",
                            "std       3.369578   30.462008      19.355807      15.952218   88.860914   \n",
                            "min       0.000000   44.000000       0.000000       0.000000   14.000000   \n",
                            "25%       1.000000   99.750000      62.000000       0.000000  121.500000   \n",
                            "50%       3.000000  117.000000      72.000000      23.000000  130.287879   \n",
                            "75%       6.000000  141.000000      80.000000      32.000000  206.846154   \n",
                            "max      17.000000  199.000000     122.000000      99.000000  846.000000   \n",
                            "\n",
                            "             BMI  DiabetesPedigreeFunction         Age     Outcome  \n",
                            "count  768.00000                768.000000  768.000000  768.000000  \n",
                            "mean    32.44642                  0.471876   33.240885    0.348958  \n",
                            "std      6.87897                  0.331329   11.760232    0.476951  \n",
                            "min     18.20000                  0.078000   21.000000    0.000000  \n",
                            "25%     27.50000                  0.243750   24.000000    0.000000  \n",
                            "50%     32.05000                  0.372500   29.000000    0.000000  \n",
                            "75%     36.60000                  0.626250   41.000000    1.000000  \n",
                            "max     67.10000                  2.420000   81.000000    1.000000  "
                        ]
                    },
                    "execution_count": 397,
                    "metadata": {},
                    "output_type": "execute_result"
                }
            ],
            "source": [
                "df_raw.describe()"
            ]
        },
        {
            "cell_type": "code",
            "execution_count": 398,
            "metadata": {},
            "outputs": [],
            "source": [
                "\n",
                "#BloodPressure\n",
                "df_0=df_raw[(df_raw['Outcome']==0) & (df_raw[\"BloodPressure\"] > 0)]\n",
                "BloodPressure_mean_0=df_0['BloodPressure'].mean()\n",
                "\n",
                "df_no0=df_raw[(df_raw['Outcome']!=0) & (df_raw[\"BloodPressure\"] > 0)]\n",
                "BloodPressure_mean_no0=df_no0['BloodPressure'].mean()\n",
                "\n",
                "def BloodPressure_fun(BloodPressure_value, outcome_value, BloodPressure_mean_0,BloodPressure_mean_no0):\n",
                "    if outcome_value==0 and BloodPressure_value==0:\n",
                "        return BloodPressure_mean_0\n",
                "    elif outcome_value==1 and BloodPressure_value==0:\n",
                "        return BloodPressure_mean_no0\n",
                "    else:\n",
                "        return BloodPressure_value"
            ]
        },
        {
            "cell_type": "code",
            "execution_count": 399,
            "metadata": {},
            "outputs": [],
            "source": [
                "df_raw['BloodPressure'] = df_raw.apply(lambda x: BloodPressure_fun(x['BloodPressure'], x['Outcome'],BloodPressure_mean_0,BloodPressure_mean_no0), axis=1)"
            ]
        },
        {
            "cell_type": "code",
            "execution_count": 400,
            "metadata": {},
            "outputs": [
                {
                    "data": {
                        "text/html": [
                            "<div>\n",
                            "<style scoped>\n",
                            "    .dataframe tbody tr th:only-of-type {\n",
                            "        vertical-align: middle;\n",
                            "    }\n",
                            "\n",
                            "    .dataframe tbody tr th {\n",
                            "        vertical-align: top;\n",
                            "    }\n",
                            "\n",
                            "    .dataframe thead th {\n",
                            "        text-align: right;\n",
                            "    }\n",
                            "</style>\n",
                            "<table border=\"1\" class=\"dataframe\">\n",
                            "  <thead>\n",
                            "    <tr style=\"text-align: right;\">\n",
                            "      <th></th>\n",
                            "      <th>Pregnancies</th>\n",
                            "      <th>Glucose</th>\n",
                            "      <th>BloodPressure</th>\n",
                            "      <th>SkinThickness</th>\n",
                            "      <th>Insulin</th>\n",
                            "      <th>BMI</th>\n",
                            "      <th>DiabetesPedigreeFunction</th>\n",
                            "      <th>Age</th>\n",
                            "      <th>Outcome</th>\n",
                            "    </tr>\n",
                            "  </thead>\n",
                            "  <tbody>\n",
                            "    <tr>\n",
                            "      <th>count</th>\n",
                            "      <td>768.000000</td>\n",
                            "      <td>768.000000</td>\n",
                            "      <td>768.000000</td>\n",
                            "      <td>768.000000</td>\n",
                            "      <td>768.000000</td>\n",
                            "      <td>768.00000</td>\n",
                            "      <td>768.000000</td>\n",
                            "      <td>768.000000</td>\n",
                            "      <td>768.000000</td>\n",
                            "    </tr>\n",
                            "    <tr>\n",
                            "      <th>mean</th>\n",
                            "      <td>3.845052</td>\n",
                            "      <td>121.697358</td>\n",
                            "      <td>72.428141</td>\n",
                            "      <td>20.536458</td>\n",
                            "      <td>157.003527</td>\n",
                            "      <td>32.44642</td>\n",
                            "      <td>0.471876</td>\n",
                            "      <td>33.240885</td>\n",
                            "      <td>0.348958</td>\n",
                            "    </tr>\n",
                            "    <tr>\n",
                            "      <th>std</th>\n",
                            "      <td>3.369578</td>\n",
                            "      <td>30.462008</td>\n",
                            "      <td>12.106044</td>\n",
                            "      <td>15.952218</td>\n",
                            "      <td>88.860914</td>\n",
                            "      <td>6.87897</td>\n",
                            "      <td>0.331329</td>\n",
                            "      <td>11.760232</td>\n",
                            "      <td>0.476951</td>\n",
                            "    </tr>\n",
                            "    <tr>\n",
                            "      <th>min</th>\n",
                            "      <td>0.000000</td>\n",
                            "      <td>44.000000</td>\n",
                            "      <td>24.000000</td>\n",
                            "      <td>0.000000</td>\n",
                            "      <td>14.000000</td>\n",
                            "      <td>18.20000</td>\n",
                            "      <td>0.078000</td>\n",
                            "      <td>21.000000</td>\n",
                            "      <td>0.000000</td>\n",
                            "    </tr>\n",
                            "    <tr>\n",
                            "      <th>25%</th>\n",
                            "      <td>1.000000</td>\n",
                            "      <td>99.750000</td>\n",
                            "      <td>64.000000</td>\n",
                            "      <td>0.000000</td>\n",
                            "      <td>121.500000</td>\n",
                            "      <td>27.50000</td>\n",
                            "      <td>0.243750</td>\n",
                            "      <td>24.000000</td>\n",
                            "      <td>0.000000</td>\n",
                            "    </tr>\n",
                            "    <tr>\n",
                            "      <th>50%</th>\n",
                            "      <td>3.000000</td>\n",
                            "      <td>117.000000</td>\n",
                            "      <td>72.000000</td>\n",
                            "      <td>23.000000</td>\n",
                            "      <td>130.287879</td>\n",
                            "      <td>32.05000</td>\n",
                            "      <td>0.372500</td>\n",
                            "      <td>29.000000</td>\n",
                            "      <td>0.000000</td>\n",
                            "    </tr>\n",
                            "    <tr>\n",
                            "      <th>75%</th>\n",
                            "      <td>6.000000</td>\n",
                            "      <td>141.000000</td>\n",
                            "      <td>80.000000</td>\n",
                            "      <td>32.000000</td>\n",
                            "      <td>206.846154</td>\n",
                            "      <td>36.60000</td>\n",
                            "      <td>0.626250</td>\n",
                            "      <td>41.000000</td>\n",
                            "      <td>1.000000</td>\n",
                            "    </tr>\n",
                            "    <tr>\n",
                            "      <th>max</th>\n",
                            "      <td>17.000000</td>\n",
                            "      <td>199.000000</td>\n",
                            "      <td>122.000000</td>\n",
                            "      <td>99.000000</td>\n",
                            "      <td>846.000000</td>\n",
                            "      <td>67.10000</td>\n",
                            "      <td>2.420000</td>\n",
                            "      <td>81.000000</td>\n",
                            "      <td>1.000000</td>\n",
                            "    </tr>\n",
                            "  </tbody>\n",
                            "</table>\n",
                            "</div>"
                        ],
                        "text/plain": [
                            "       Pregnancies     Glucose  BloodPressure  SkinThickness     Insulin  \\\n",
                            "count   768.000000  768.000000     768.000000     768.000000  768.000000   \n",
                            "mean      3.845052  121.697358      72.428141      20.536458  157.003527   \n",
                            "std       3.369578   30.462008      12.106044      15.952218   88.860914   \n",
                            "min       0.000000   44.000000      24.000000       0.000000   14.000000   \n",
                            "25%       1.000000   99.750000      64.000000       0.000000  121.500000   \n",
                            "50%       3.000000  117.000000      72.000000      23.000000  130.287879   \n",
                            "75%       6.000000  141.000000      80.000000      32.000000  206.846154   \n",
                            "max      17.000000  199.000000     122.000000      99.000000  846.000000   \n",
                            "\n",
                            "             BMI  DiabetesPedigreeFunction         Age     Outcome  \n",
                            "count  768.00000                768.000000  768.000000  768.000000  \n",
                            "mean    32.44642                  0.471876   33.240885    0.348958  \n",
                            "std      6.87897                  0.331329   11.760232    0.476951  \n",
                            "min     18.20000                  0.078000   21.000000    0.000000  \n",
                            "25%     27.50000                  0.243750   24.000000    0.000000  \n",
                            "50%     32.05000                  0.372500   29.000000    0.000000  \n",
                            "75%     36.60000                  0.626250   41.000000    1.000000  \n",
                            "max     67.10000                  2.420000   81.000000    1.000000  "
                        ]
                    },
                    "execution_count": 400,
                    "metadata": {},
                    "output_type": "execute_result"
                }
            ],
            "source": [
                "df_raw.describe()"
            ]
        },
        {
            "cell_type": "code",
            "execution_count": 401,
            "metadata": {},
            "outputs": [],
            "source": [
                "\n",
                "#SkinThickness\n",
                "df_0=df_raw[(df_raw['Outcome']==0) & (df_raw[\"SkinThickness\"] > 0)]\n",
                "SkinThickness_mean_0=df_0['SkinThickness'].mean()\n",
                "\n",
                "df_no0=df_raw[(df_raw['Outcome']!=0) & (df_raw[\"SkinThickness\"] > 0)]\n",
                "SkinThickness_mean_no0=df_no0['SkinThickness'].mean()\n",
                "\n",
                "def SkinThickness_fun(SkinThickness_value, outcome_value, SkinThickness_mean_0,SkinThickness_mean_no0):\n",
                "    if outcome_value==0 and SkinThickness_value==0:\n",
                "        return SkinThickness_mean_0\n",
                "    elif outcome_value==1 and SkinThickness_value==0:\n",
                "        return SkinThickness_mean_no0\n",
                "    else:\n",
                "        return SkinThickness_value"
            ]
        },
        {
            "cell_type": "code",
            "execution_count": 402,
            "metadata": {},
            "outputs": [],
            "source": [
                "df_raw['SkinThickness'] = df_raw.apply(lambda x: SkinThickness_fun(x['SkinThickness'], x['Outcome'],SkinThickness_mean_0,SkinThickness_mean_no0), axis=1)"
            ]
        },
        {
            "cell_type": "code",
            "execution_count": 403,
            "metadata": {},
            "outputs": [
                {
                    "data": {
                        "text/html": [
                            "<div>\n",
                            "<style scoped>\n",
                            "    .dataframe tbody tr th:only-of-type {\n",
                            "        vertical-align: middle;\n",
                            "    }\n",
                            "\n",
                            "    .dataframe tbody tr th {\n",
                            "        vertical-align: top;\n",
                            "    }\n",
                            "\n",
                            "    .dataframe thead th {\n",
                            "        text-align: right;\n",
                            "    }\n",
                            "</style>\n",
                            "<table border=\"1\" class=\"dataframe\">\n",
                            "  <thead>\n",
                            "    <tr style=\"text-align: right;\">\n",
                            "      <th></th>\n",
                            "      <th>Pregnancies</th>\n",
                            "      <th>Glucose</th>\n",
                            "      <th>BloodPressure</th>\n",
                            "      <th>SkinThickness</th>\n",
                            "      <th>Insulin</th>\n",
                            "      <th>BMI</th>\n",
                            "      <th>DiabetesPedigreeFunction</th>\n",
                            "      <th>Age</th>\n",
                            "      <th>Outcome</th>\n",
                            "    </tr>\n",
                            "  </thead>\n",
                            "  <tbody>\n",
                            "    <tr>\n",
                            "      <th>count</th>\n",
                            "      <td>768.000000</td>\n",
                            "      <td>768.000000</td>\n",
                            "      <td>768.000000</td>\n",
                            "      <td>768.000000</td>\n",
                            "      <td>768.000000</td>\n",
                            "      <td>768.00000</td>\n",
                            "      <td>768.000000</td>\n",
                            "      <td>768.000000</td>\n",
                            "      <td>768.000000</td>\n",
                            "    </tr>\n",
                            "    <tr>\n",
                            "      <th>mean</th>\n",
                            "      <td>3.845052</td>\n",
                            "      <td>121.697358</td>\n",
                            "      <td>72.428141</td>\n",
                            "      <td>29.247042</td>\n",
                            "      <td>157.003527</td>\n",
                            "      <td>32.44642</td>\n",
                            "      <td>0.471876</td>\n",
                            "      <td>33.240885</td>\n",
                            "      <td>0.348958</td>\n",
                            "    </tr>\n",
                            "    <tr>\n",
                            "      <th>std</th>\n",
                            "      <td>3.369578</td>\n",
                            "      <td>30.462008</td>\n",
                            "      <td>12.106044</td>\n",
                            "      <td>8.923908</td>\n",
                            "      <td>88.860914</td>\n",
                            "      <td>6.87897</td>\n",
                            "      <td>0.331329</td>\n",
                            "      <td>11.760232</td>\n",
                            "      <td>0.476951</td>\n",
                            "    </tr>\n",
                            "    <tr>\n",
                            "      <th>min</th>\n",
                            "      <td>0.000000</td>\n",
                            "      <td>44.000000</td>\n",
                            "      <td>24.000000</td>\n",
                            "      <td>7.000000</td>\n",
                            "      <td>14.000000</td>\n",
                            "      <td>18.20000</td>\n",
                            "      <td>0.078000</td>\n",
                            "      <td>21.000000</td>\n",
                            "      <td>0.000000</td>\n",
                            "    </tr>\n",
                            "    <tr>\n",
                            "      <th>25%</th>\n",
                            "      <td>1.000000</td>\n",
                            "      <td>99.750000</td>\n",
                            "      <td>64.000000</td>\n",
                            "      <td>25.000000</td>\n",
                            "      <td>121.500000</td>\n",
                            "      <td>27.50000</td>\n",
                            "      <td>0.243750</td>\n",
                            "      <td>24.000000</td>\n",
                            "      <td>0.000000</td>\n",
                            "    </tr>\n",
                            "    <tr>\n",
                            "      <th>50%</th>\n",
                            "      <td>3.000000</td>\n",
                            "      <td>117.000000</td>\n",
                            "      <td>72.000000</td>\n",
                            "      <td>28.000000</td>\n",
                            "      <td>130.287879</td>\n",
                            "      <td>32.05000</td>\n",
                            "      <td>0.372500</td>\n",
                            "      <td>29.000000</td>\n",
                            "      <td>0.000000</td>\n",
                            "    </tr>\n",
                            "    <tr>\n",
                            "      <th>75%</th>\n",
                            "      <td>6.000000</td>\n",
                            "      <td>141.000000</td>\n",
                            "      <td>80.000000</td>\n",
                            "      <td>33.000000</td>\n",
                            "      <td>206.846154</td>\n",
                            "      <td>36.60000</td>\n",
                            "      <td>0.626250</td>\n",
                            "      <td>41.000000</td>\n",
                            "      <td>1.000000</td>\n",
                            "    </tr>\n",
                            "    <tr>\n",
                            "      <th>max</th>\n",
                            "      <td>17.000000</td>\n",
                            "      <td>199.000000</td>\n",
                            "      <td>122.000000</td>\n",
                            "      <td>99.000000</td>\n",
                            "      <td>846.000000</td>\n",
                            "      <td>67.10000</td>\n",
                            "      <td>2.420000</td>\n",
                            "      <td>81.000000</td>\n",
                            "      <td>1.000000</td>\n",
                            "    </tr>\n",
                            "  </tbody>\n",
                            "</table>\n",
                            "</div>"
                        ],
                        "text/plain": [
                            "       Pregnancies     Glucose  BloodPressure  SkinThickness     Insulin  \\\n",
                            "count   768.000000  768.000000     768.000000     768.000000  768.000000   \n",
                            "mean      3.845052  121.697358      72.428141      29.247042  157.003527   \n",
                            "std       3.369578   30.462008      12.106044       8.923908   88.860914   \n",
                            "min       0.000000   44.000000      24.000000       7.000000   14.000000   \n",
                            "25%       1.000000   99.750000      64.000000      25.000000  121.500000   \n",
                            "50%       3.000000  117.000000      72.000000      28.000000  130.287879   \n",
                            "75%       6.000000  141.000000      80.000000      33.000000  206.846154   \n",
                            "max      17.000000  199.000000     122.000000      99.000000  846.000000   \n",
                            "\n",
                            "             BMI  DiabetesPedigreeFunction         Age     Outcome  \n",
                            "count  768.00000                768.000000  768.000000  768.000000  \n",
                            "mean    32.44642                  0.471876   33.240885    0.348958  \n",
                            "std      6.87897                  0.331329   11.760232    0.476951  \n",
                            "min     18.20000                  0.078000   21.000000    0.000000  \n",
                            "25%     27.50000                  0.243750   24.000000    0.000000  \n",
                            "50%     32.05000                  0.372500   29.000000    0.000000  \n",
                            "75%     36.60000                  0.626250   41.000000    1.000000  \n",
                            "max     67.10000                  2.420000   81.000000    1.000000  "
                        ]
                    },
                    "execution_count": 403,
                    "metadata": {},
                    "output_type": "execute_result"
                }
            ],
            "source": [
                "df_raw.describe()"
            ]
        },
        {
            "cell_type": "code",
            "execution_count": 404,
            "metadata": {},
            "outputs": [
                {
                    "data": {
                        "text/plain": [
                            "\"def set_value (data_value, outcome_value,mean_nodiab,mean_diab):\\n    if (outcome_value == 0 and data_value==0):\\n        return mean_nodiab\\n    elif (outcome_value ==1 and data_value ==0):\\n        return mean_diab\\n    else:\\n        return data_value\\n\\ndef set_use_mean (name_col):\\n    #calc the mean for diabetic and not diabetic that the data is not 0\\n    meanNoDiab = df_raw[(df_raw[name_col]>0) & (df_raw['Outcome']==0)][name_col].mean()\\n    meanDiab = df_raw[(df_raw[name_col]>0) & (df_raw['Outcome']==1)][name_col].mean()\\n\\n    df_raw[name_col] = df_raw.apply(lambda x: set_value(x[name_col], x['Outcome'],meanNoDiab,meanDiab), axis=1)\\n\\nset_use_mean('Insulin')\\nset_use_mean('Glucose')\\nset_use_mean('BloodPressure')\\nset_use_mean('SkinThickness')\\nset_use_mean('BMI')\""
                        ]
                    },
                    "execution_count": 404,
                    "metadata": {},
                    "output_type": "execute_result"
                }
            ],
            "source": [
                "\n",
                "#Genérico, en los pasos anteriores se fue haciendo uno a uno\n",
                "#if value =0 and diabetic, set the mean of diabetic, else if value=0 and not diabeti, set the mean of not diabetic, \n",
                "# rest of the case use the data value\n",
                "\n",
                "\"\"\"def set_value (data_value, outcome_value,mean_nodiab,mean_diab):\n",
                "    if (outcome_value == 0 and data_value==0):\n",
                "        return mean_nodiab\n",
                "    elif (outcome_value ==1 and data_value ==0):\n",
                "        return mean_diab\n",
                "    else:\n",
                "        return data_value\n",
                "\n",
                "def set_use_mean (name_col):\n",
                "    #calc the mean for diabetic and not diabetic that the data is not 0\n",
                "    meanNoDiab = df_raw[(df_raw[name_col]>0) & (df_raw['Outcome']==0)][name_col].mean()\n",
                "    meanDiab = df_raw[(df_raw[name_col]>0) & (df_raw['Outcome']==1)][name_col].mean()\n",
                "\n",
                "    df_raw[name_col] = df_raw.apply(lambda x: set_value(x[name_col], x['Outcome'],meanNoDiab,meanDiab), axis=1)\n",
                "\n",
                "set_use_mean('Insulin')\n",
                "set_use_mean('Glucose')\n",
                "set_use_mean('BloodPressure')\n",
                "set_use_mean('SkinThickness')\n",
                "set_use_mean('BMI')\"\"\""
            ]
        },
        {
            "cell_type": "markdown",
            "metadata": {},
            "source": [
                "Study Correlation, find them"
            ]
        },
        {
            "cell_type": "code",
            "execution_count": 405,
            "metadata": {},
            "outputs": [
                {
                    "name": "stdout",
                    "output_type": "stream",
                    "text": [
                        "                          Pregnancies   Glucose  BloodPressure  SkinThickness  \\\n",
                        "Pregnancies                  1.000000  0.129867       0.208935       0.094172   \n",
                        "Glucose                      0.129867  1.000000       0.224356       0.235040   \n",
                        "BloodPressure                0.208935  0.224356       1.000000       0.203453   \n",
                        "SkinThickness                0.094172  0.235040       0.203453       1.000000   \n",
                        "Insulin                      0.093546  0.497789       0.099996       0.212573   \n",
                        "BMI                          0.024127  0.235253       0.286518       0.565443   \n",
                        "DiabetesPedigreeFunction    -0.033523  0.138125      -0.002264       0.102426   \n",
                        "Age                          0.544341  0.268566       0.324439       0.135916   \n",
                        "Outcome                      0.221898  0.495954       0.175087       0.308094   \n",
                        "\n",
                        "                           Insulin       BMI  DiabetesPedigreeFunction  \\\n",
                        "Pregnancies               0.093546  0.024127                 -0.033523   \n",
                        "Glucose                   0.497789  0.235253                  0.138125   \n",
                        "BloodPressure             0.099996  0.286518                 -0.002264   \n",
                        "SkinThickness             0.212573  0.565443                  0.102426   \n",
                        "Insulin                   1.000000  0.231533                  0.121716   \n",
                        "BMI                       0.231533  1.000000                  0.152530   \n",
                        "DiabetesPedigreeFunction  0.121716  0.152530                  1.000000   \n",
                        "Age                       0.165149  0.027578                  0.033561   \n",
                        "Outcome                   0.410918  0.315271                  0.173844   \n",
                        "\n",
                        "                               Age   Outcome  \n",
                        "Pregnancies               0.544341  0.221898  \n",
                        "Glucose                   0.268566  0.495954  \n",
                        "BloodPressure             0.324439  0.175087  \n",
                        "SkinThickness             0.135916  0.308094  \n",
                        "Insulin                   0.165149  0.410918  \n",
                        "BMI                       0.027578  0.315271  \n",
                        "DiabetesPedigreeFunction  0.033561  0.173844  \n",
                        "Age                       1.000000  0.238356  \n",
                        "Outcome                   0.238356  1.000000  \n"
                    ]
                },
                {
                    "data": {
                        "image/png": "[encoded data removed]",
                        "text/plain": [
                            "<Figure size 1152x864 with 2 Axes>"
                        ]
                    },
                    "metadata": {
                        "needs_background": "light"
                    },
                    "output_type": "display_data"
                }
            ],
            "source": [
                "print(df_raw.corr())\n",
                "f, ax = plt.subplots(figsize=(16, 12))\n",
                "sns.heatmap(df_raw.corr(),annot=True,linewidths=0.5,linecolor=\"black\",fmt=\".1f\",ax=ax)\n",
                "plt.show()"
            ]
        },
        {
            "cell_type": "markdown",
            "metadata": {},
            "source": [
                "Exist a correlation: Age-Pregnacies\n"
            ]
        },
        {
            "cell_type": "code",
            "execution_count": 406,
            "metadata": {},
            "outputs": [],
            "source": [
                "### sns.pairplot(df_raw)\n",
                "### no se puede usar porque tiene duplicates labels"
            ]
        },
        {
            "cell_type": "markdown",
            "metadata": {},
            "source": [
                "Resample the data to make a more balanced dataset"
            ]
        },
        {
            "cell_type": "code",
            "execution_count": 407,
            "metadata": {},
            "outputs": [
                {
                    "data": {
                        "text/plain": [
                            "1    500\n",
                            "0    500\n",
                            "Name: Outcome, dtype: int64"
                        ]
                    },
                    "execution_count": 407,
                    "metadata": {},
                    "output_type": "execute_result"
                }
            ],
            "source": [
                "from sklearn.utils import resample\n",
                "df_majority = df_raw[(df_raw[\"Outcome\"]==0)]\n",
                "df_minority = df_raw[(df_raw[\"Outcome\"]==1)]\n",
                "df_minority_upsampled = resample(df_minority,replace=True,n_samples=500,random_state=42)\n",
                "df_raw = pd.concat([df_minority_upsampled,df_majority])\n",
                "df_raw[\"Outcome\"].value_counts()"
            ]
        },
        {
            "cell_type": "code",
            "execution_count": 408,
            "metadata": {},
            "outputs": [
                {
                    "data": {
                        "text/html": [
                            "<div>\n",
                            "<style scoped>\n",
                            "    .dataframe tbody tr th:only-of-type {\n",
                            "        vertical-align: middle;\n",
                            "    }\n",
                            "\n",
                            "    .dataframe tbody tr th {\n",
                            "        vertical-align: top;\n",
                            "    }\n",
                            "\n",
                            "    .dataframe thead th {\n",
                            "        text-align: right;\n",
                            "    }\n",
                            "</style>\n",
                            "<table border=\"1\" class=\"dataframe\">\n",
                            "  <thead>\n",
                            "    <tr style=\"text-align: right;\">\n",
                            "      <th></th>\n",
                            "      <th>Pregnancies</th>\n",
                            "      <th>Glucose</th>\n",
                            "      <th>BloodPressure</th>\n",
                            "      <th>SkinThickness</th>\n",
                            "      <th>Insulin</th>\n",
                            "      <th>BMI</th>\n",
                            "      <th>DiabetesPedigreeFunction</th>\n",
                            "      <th>Age</th>\n",
                            "      <th>Outcome</th>\n",
                            "    </tr>\n",
                            "  </thead>\n",
                            "  <tbody>\n",
                            "    <tr>\n",
                            "      <th>count</th>\n",
                            "      <td>1000.000000</td>\n",
                            "      <td>1000.000000</td>\n",
                            "      <td>1000.000000</td>\n",
                            "      <td>1000.000000</td>\n",
                            "      <td>1000.000000</td>\n",
                            "      <td>1000.000000</td>\n",
                            "      <td>1000.000000</td>\n",
                            "      <td>1000.000000</td>\n",
                            "      <td>1000.00000</td>\n",
                            "    </tr>\n",
                            "    <tr>\n",
                            "      <th>mean</th>\n",
                            "      <td>4.191000</td>\n",
                            "      <td>124.947890</td>\n",
                            "      <td>73.365705</td>\n",
                            "      <td>30.047729</td>\n",
                            "      <td>168.625093</td>\n",
                            "      <td>32.805051</td>\n",
                            "      <td>0.476622</td>\n",
                            "      <td>34.273000</td>\n",
                            "      <td>0.50000</td>\n",
                            "    </tr>\n",
                            "    <tr>\n",
                            "      <th>std</th>\n",
                            "      <td>3.566685</td>\n",
                            "      <td>29.735108</td>\n",
                            "      <td>11.976395</td>\n",
                            "      <td>8.466625</td>\n",
                            "      <td>89.528777</td>\n",
                            "      <td>6.768389</td>\n",
                            "      <td>0.327363</td>\n",
                            "      <td>11.623751</td>\n",
                            "      <td>0.50025</td>\n",
                            "    </tr>\n",
                            "    <tr>\n",
                            "      <th>min</th>\n",
                            "      <td>0.000000</td>\n",
                            "      <td>44.000000</td>\n",
                            "      <td>24.000000</td>\n",
                            "      <td>7.000000</td>\n",
                            "      <td>14.000000</td>\n",
                            "      <td>18.200000</td>\n",
                            "      <td>0.078000</td>\n",
                            "      <td>21.000000</td>\n",
                            "      <td>0.00000</td>\n",
                            "    </tr>\n",
                            "    <tr>\n",
                            "      <th>25%</th>\n",
                            "      <td>1.000000</td>\n",
                            "      <td>103.000000</td>\n",
                            "      <td>66.000000</td>\n",
                            "      <td>27.000000</td>\n",
                            "      <td>130.287879</td>\n",
                            "      <td>28.000000</td>\n",
                            "      <td>0.246750</td>\n",
                            "      <td>25.000000</td>\n",
                            "      <td>0.00000</td>\n",
                            "    </tr>\n",
                            "    <tr>\n",
                            "      <th>50%</th>\n",
                            "      <td>3.000000</td>\n",
                            "      <td>122.000000</td>\n",
                            "      <td>74.000000</td>\n",
                            "      <td>31.000000</td>\n",
                            "      <td>145.000000</td>\n",
                            "      <td>32.400000</td>\n",
                            "      <td>0.370000</td>\n",
                            "      <td>31.000000</td>\n",
                            "      <td>0.50000</td>\n",
                            "    </tr>\n",
                            "    <tr>\n",
                            "      <th>75%</th>\n",
                            "      <td>7.000000</td>\n",
                            "      <td>144.000000</td>\n",
                            "      <td>80.000000</td>\n",
                            "      <td>33.000000</td>\n",
                            "      <td>206.846154</td>\n",
                            "      <td>36.600000</td>\n",
                            "      <td>0.645250</td>\n",
                            "      <td>42.000000</td>\n",
                            "      <td>1.00000</td>\n",
                            "    </tr>\n",
                            "    <tr>\n",
                            "      <th>max</th>\n",
                            "      <td>17.000000</td>\n",
                            "      <td>199.000000</td>\n",
                            "      <td>122.000000</td>\n",
                            "      <td>63.000000</td>\n",
                            "      <td>744.000000</td>\n",
                            "      <td>67.100000</td>\n",
                            "      <td>2.420000</td>\n",
                            "      <td>81.000000</td>\n",
                            "      <td>1.00000</td>\n",
                            "    </tr>\n",
                            "  </tbody>\n",
                            "</table>\n",
                            "</div>"
                        ],
                        "text/plain": [
                            "       Pregnancies      Glucose  BloodPressure  SkinThickness      Insulin  \\\n",
                            "count  1000.000000  1000.000000    1000.000000    1000.000000  1000.000000   \n",
                            "mean      4.191000   124.947890      73.365705      30.047729   168.625093   \n",
                            "std       3.566685    29.735108      11.976395       8.466625    89.528777   \n",
                            "min       0.000000    44.000000      24.000000       7.000000    14.000000   \n",
                            "25%       1.000000   103.000000      66.000000      27.000000   130.287879   \n",
                            "50%       3.000000   122.000000      74.000000      31.000000   145.000000   \n",
                            "75%       7.000000   144.000000      80.000000      33.000000   206.846154   \n",
                            "max      17.000000   199.000000     122.000000      63.000000   744.000000   \n",
                            "\n",
                            "               BMI  DiabetesPedigreeFunction          Age     Outcome  \n",
                            "count  1000.000000               1000.000000  1000.000000  1000.00000  \n",
                            "mean     32.805051                  0.476622    34.273000     0.50000  \n",
                            "std       6.768389                  0.327363    11.623751     0.50025  \n",
                            "min      18.200000                  0.078000    21.000000     0.00000  \n",
                            "25%      28.000000                  0.246750    25.000000     0.00000  \n",
                            "50%      32.400000                  0.370000    31.000000     0.50000  \n",
                            "75%      36.600000                  0.645250    42.000000     1.00000  \n",
                            "max      67.100000                  2.420000    81.000000     1.00000  "
                        ]
                    },
                    "execution_count": 408,
                    "metadata": {},
                    "output_type": "execute_result"
                }
            ],
            "source": [
                "df_raw.describe()\n",
                "\n"
            ]
        },
        {
            "cell_type": "markdown",
            "metadata": {},
            "source": [
                "Eliminating Outliers with IQR Method"
            ]
        },
        {
            "cell_type": "code",
            "execution_count": 409,
            "metadata": {},
            "outputs": [
                {
                    "data": {
                        "image/png": "[encoded data removed]",
                        "text/plain": [
                            "<Figure size 936x360 with 1 Axes>"
                        ]
                    },
                    "metadata": {
                        "needs_background": "light"
                    },
                    "output_type": "display_data"
                }
            ],
            "source": [
                "q1 = df_raw['Insulin'].quantile(0.25)\n",
                "q3 = df_raw['Insulin'].quantile(0.75)\n",
                "IQR = q3 - q1\n",
                "lower_limit = q1 - 1.5 * IQR\n",
                "upper_limit = q3 + 1.5 * IQR\n",
                "\n",
                "df_raw = df_raw[(df_raw['Insulin'] > lower_limit) & (df_raw['Insulin'] < upper_limit)]\n",
                "\n",
                "q1 = df_raw['Age'].quantile(0.25)\n",
                "q3 = df_raw['Age'].quantile(0.75)\n",
                "IQR = q3 - q1\n",
                "lower_limit = q1 - 1.5 * IQR\n",
                "upper_limit = q3 + 1.5 * IQR\n",
                "\n",
                "df_raw = df_raw[(df_raw['Age'] > lower_limit) & (df_raw['Age'] < upper_limit)]\n",
                "\n",
                "q1 = df_raw['Glucose'].quantile(0.25)\n",
                "q3 = df_raw['Glucose'].quantile(0.75)\n",
                "IQR = q3 - q1\n",
                "lower_limit = q1 - 1.5 * IQR\n",
                "upper_limit = q3 + 1.5 * IQR\n",
                "\n",
                "df_raw = df_raw[(df_raw['Glucose'] > lower_limit) & (df_raw['Glucose'] < upper_limit)]\n",
                "\n",
                "q1 = df_raw['BMI'].quantile(0.25)\n",
                "q3 = df_raw['BMI'].quantile(0.75)\n",
                "IQR = q3 - q1\n",
                "lower_limit = q1 - 1.5 * IQR\n",
                "upper_limit = q3 + 1.5 * IQR\n",
                "\n",
                "df_raw = df_raw[(df_raw['BMI'] > lower_limit) & (df_raw['BMI'] < upper_limit)]\n",
                "\n",
                "q1 = df_raw['Pregnancies'].quantile(0.25)\n",
                "q3 = df_raw['Pregnancies'].quantile(0.75)\n",
                "IQR = q3 - q1\n",
                "lower_limit = q1 - 1.5 * IQR\n",
                "upper_limit = q3 + 1.5 * IQR\n",
                "\n",
                "df_raw = df_raw[(df_raw['Pregnancies'] > lower_limit) & (df_raw['Pregnancies'] < upper_limit)]\n",
                "\n",
                "q1 = df_raw['DiabetesPedigreeFunction'].quantile(0.25)\n",
                "q3 = df_raw['DiabetesPedigreeFunction'].quantile(0.75)\n",
                "IQR = q3 - q1\n",
                "lower_limit = q1 - 1.5 * IQR\n",
                "upper_limit = q3 + 1.5 * IQR\n",
                "\n",
                "df_raw = df_raw[(df_raw['DiabetesPedigreeFunction'] > lower_limit) & (df_raw['DiabetesPedigreeFunction'] < upper_limit)]\n",
                "plt.figure(figsize=(13,5))\n",
                "sns.boxplot(data=df_raw,orient='h')\n",
                "plt.show()"
            ]
        },
        {
            "cell_type": "markdown",
            "metadata": {},
            "source": [
                " Separate features from target\n",
                "\n"
            ]
        },
        {
            "cell_type": "code",
            "execution_count": 410,
            "metadata": {},
            "outputs": [],
            "source": [
                "X=df_raw.drop('Outcome',axis='columns')\n",
                "Y=df_raw[\"Outcome\"]"
            ]
        },
        {
            "cell_type": "markdown",
            "metadata": {},
            "source": [
                "Scale the features"
            ]
        },
        {
            "cell_type": "code",
            "execution_count": 411,
            "metadata": {},
            "outputs": [
                {
                    "data": {
                        "text/plain": [
                            "array([[-0.60658295,  0.78725096,  0.18660615, ..., -0.78990628,\n",
                            "        -0.7577477 , -0.52483659],\n",
                            "       [ 0.81579347,  1.30222902,  1.0972518 , ..., -0.31917233,\n",
                            "        -1.0419684 ,  1.20266982],\n",
                            "       [ 0.2468429 ,  1.19923341,  0.9266961 , ...,  1.14172613,\n",
                            "        -0.17035824, -0.4339152 ],\n",
                            "       ...,\n",
                            "       [-0.60658295, -0.03671394, -0.26719385, ...,  0.7196888 ,\n",
                            "        -0.37878675, -0.61575798],\n",
                            "       [ 0.2468429 , -0.07104581, -0.09663815, ..., -1.00092495,\n",
                            "        -0.73879965, -0.34299381],\n",
                            "       [-0.89105823, -1.0323382 , -0.26719385, ..., -0.31917233,\n",
                            "        -0.47352699, -0.97944354]])"
                        ]
                    },
                    "execution_count": 411,
                    "metadata": {},
                    "output_type": "execute_result"
                }
            ],
            "source": [
                "from sklearn.preprocessing import StandardScaler\n",
                "scaler = StandardScaler()\n",
                "scaler.fit_transform(X)\n"
            ]
        },
        {
            "cell_type": "markdown",
            "metadata": {},
            "source": [
                " Split the data"
            ]
        },
        {
            "cell_type": "code",
            "execution_count": 412,
            "metadata": {},
            "outputs": [],
            "source": [
                "X_train,X_test,Y_train,Y_test=train_test_split(X,Y,test_size=0.30)"
            ]
        },
        {
            "cell_type": "markdown",
            "metadata": {},
            "source": [
                "\n",
                "### Modeling with Decision Tree"
            ]
        },
        {
            "cell_type": "markdown",
            "metadata": {},
            "source": [
                "Fit the data"
            ]
        },
        {
            "cell_type": "code",
            "execution_count": 413,
            "metadata": {},
            "outputs": [
                {
                    "data": {
                        "text/html": [
                            "<style>#sk-container-id-14 {color: black;background-color: white;}#sk-container-id-14 pre{padding: 0;}#sk-container-id-14 div.sk-toggleable {background-color: white;}#sk-container-id-14 label.sk-toggleable__label {cursor: pointer;display: block;width: 100%;margin-bottom: 0;padding: 0.3em;box-sizing: border-box;text-align: center;}#sk-container-id-14 label.sk-toggleable__label-arrow:before {content: \"▸\";float: left;margin-right: 0.25em;color: #696969;}#sk-container-id-14 label.sk-toggleable__label-arrow:hover:before {color: black;}#sk-container-id-14 div.sk-estimator:hover label.sk-toggleable__label-arrow:before {color: black;}#sk-container-id-14 div.sk-toggleable__content {max-height: 0;max-width: 0;overflow: hidden;text-align: left;background-color: #f0f8ff;}#sk-container-id-14 div.sk-toggleable__content pre {margin: 0.2em;color: black;border-radius: 0.25em;background-color: #f0f8ff;}#sk-container-id-14 input.sk-toggleable__control:checked~div.sk-toggleable__content {max-height: 200px;max-width: 100%;overflow: auto;}#sk-container-id-14 input.sk-toggleable__control:checked~label.sk-toggleable__label-arrow:before {content: \"▾\";}#sk-container-id-14 div.sk-estimator input.sk-toggleable__control:checked~label.sk-toggleable__label {background-color: #d4ebff;}#sk-container-id-14 div.sk-label input.sk-toggleable__control:checked~label.sk-toggleable__label {background-color: #d4ebff;}#sk-container-id-14 input.sk-hidden--visually {border: 0;clip: rect(1px 1px 1px 1px);clip: rect(1px, 1px, 1px, 1px);height: 1px;margin: -1px;overflow: hidden;padding: 0;position: absolute;width: 1px;}#sk-container-id-14 div.sk-estimator {font-family: monospace;background-color: #f0f8ff;border: 1px dotted black;border-radius: 0.25em;box-sizing: border-box;margin-bottom: 0.5em;}#sk-container-id-14 div.sk-estimator:hover {background-color: #d4ebff;}#sk-container-id-14 div.sk-parallel-item::after {content: \"\";width: 100%;border-bottom: 1px solid gray;flex-grow: 1;}#sk-container-id-14 div.sk-label:hover label.sk-toggleable__label {background-color: #d4ebff;}#sk-container-id-14 div.sk-serial::before {content: \"\";position: absolute;border-left: 1px solid gray;box-sizing: border-box;top: 0;bottom: 0;left: 50%;z-index: 0;}#sk-container-id-14 div.sk-serial {display: flex;flex-direction: column;align-items: center;background-color: white;padding-right: 0.2em;padding-left: 0.2em;position: relative;}#sk-container-id-14 div.sk-item {position: relative;z-index: 1;}#sk-container-id-14 div.sk-parallel {display: flex;align-items: stretch;justify-content: center;background-color: white;position: relative;}#sk-container-id-14 div.sk-item::before, #sk-container-id-14 div.sk-parallel-item::before {content: \"\";position: absolute;border-left: 1px solid gray;box-sizing: border-box;top: 0;bottom: 0;left: 50%;z-index: -1;}#sk-container-id-14 div.sk-parallel-item {display: flex;flex-direction: column;z-index: 1;position: relative;background-color: white;}#sk-container-id-14 div.sk-parallel-item:first-child::after {align-self: flex-end;width: 50%;}#sk-container-id-14 div.sk-parallel-item:last-child::after {align-self: flex-start;width: 50%;}#sk-container-id-14 div.sk-parallel-item:only-child::after {width: 0;}#sk-container-id-14 div.sk-dashed-wrapped {border: 1px dashed gray;margin: 0 0.4em 0.5em 0.4em;box-sizing: border-box;padding-bottom: 0.4em;background-color: white;}#sk-container-id-14 div.sk-label label {font-family: monospace;font-weight: bold;display: inline-block;line-height: 1.2em;}#sk-container-id-14 div.sk-label-container {text-align: center;}#sk-container-id-14 div.sk-container {/* jupyter's `normalize.less` sets `[hidden] { display: none; }` but bootstrap.min.css set `[hidden] { display: none !important; }` so we also need the `!important` here to be able to override the default hidden behavior on the sphinx rendered scikit-learn.org. See: https://github.com/scikit-learn/scikit-learn/issues/21755 */display: inline-block !important;position: relative;}#sk-container-id-14 div.sk-text-repr-fallback {display: none;}</style><div id=\"sk-container-id-14\" class=\"sk-top-container\"><div class=\"sk-text-repr-fallback\"><pre>DecisionTreeClassifier()</pre><b>In a Jupyter environment, please rerun this cell to show the HTML representation or trust the notebook. <br />On GitHub, the HTML representation is unable to render, please try loading this page with nbviewer.org.</b></div><div class=\"sk-container\" hidden><div class=\"sk-item\"><div class=\"sk-estimator sk-toggleable\"><input class=\"sk-toggleable__control sk-hidden--visually\" id=\"sk-estimator-id-20\" type=\"checkbox\" checked><label for=\"sk-estimator-id-20\" class=\"sk-toggleable__label sk-toggleable__label-arrow\">DecisionTreeClassifier</label><div class=\"sk-toggleable__content\"><pre>DecisionTreeClassifier()</pre></div></div></div></div></div>"
                        ],
                        "text/plain": [
                            "DecisionTreeClassifier()"
                        ]
                    },
                    "execution_count": 413,
                    "metadata": {},
                    "output_type": "execute_result"
                }
            ],
            "source": [
                "model = DecisionTreeClassifier()\n",
                "model.fit(X_train,Y_train)"
            ]
        },
        {
            "cell_type": "markdown",
            "metadata": {},
            "source": [
                "Get the score of train data just to verify its 1."
            ]
        },
        {
            "cell_type": "code",
            "execution_count": 414,
            "metadata": {},
            "outputs": [
                {
                    "data": {
                        "text/plain": [
                            "1.0"
                        ]
                    },
                    "execution_count": 414,
                    "metadata": {},
                    "output_type": "execute_result"
                }
            ],
            "source": [
                "model.score(X_train,Y_train)"
            ]
        },
        {
            "cell_type": "markdown",
            "metadata": {},
            "source": [
                "Get the score of your predictions"
            ]
        },
        {
            "cell_type": "code",
            "execution_count": 415,
            "metadata": {},
            "outputs": [
                {
                    "data": {
                        "text/plain": [
                            "0.914179104477612"
                        ]
                    },
                    "execution_count": 415,
                    "metadata": {},
                    "output_type": "execute_result"
                }
            ],
            "source": [
                "model.score(X_test,Y_test)"
            ]
        },
        {
            "cell_type": "markdown",
            "metadata": {},
            "source": [
                "Get the confusion matrix"
            ]
        },
        {
            "cell_type": "code",
            "execution_count": 416,
            "metadata": {},
            "outputs": [
                {
                    "name": "stdout",
                    "output_type": "stream",
                    "text": [
                        "[[129  16]\n",
                        " [  7 116]]\n"
                    ]
                },
                {
                    "data": {
                        "image/png": "[encoded data removed]",
                        "text/plain": [
                            "<Figure size 432x288 with 2 Axes>"
                        ]
                    },
                    "metadata": {
                        "needs_background": "light"
                    },
                    "output_type": "display_data"
                }
            ],
            "source": [
                "print(confusion_matrix(Y_test,model.predict(X_test)))\n",
                "sns.heatmap(confusion_matrix(Y_test,model.predict(X_test)), annot=True)\n",
                "plt.show()\n",
                "\n"
            ]
        },
        {
            "cell_type": "markdown",
            "metadata": {},
            "source": [
                "Print the classification report"
            ]
        },
        {
            "cell_type": "code",
            "execution_count": 417,
            "metadata": {},
            "outputs": [
                {
                    "name": "stdout",
                    "output_type": "stream",
                    "text": [
                        "              precision    recall  f1-score   support\n",
                        "\n",
                        "           0       0.95      0.89      0.92       145\n",
                        "           1       0.88      0.94      0.91       123\n",
                        "\n",
                        "    accuracy                           0.91       268\n",
                        "   macro avg       0.91      0.92      0.91       268\n",
                        "weighted avg       0.92      0.91      0.91       268\n",
                        "\n"
                    ]
                }
            ],
            "source": [
                "print(classification_report(Y_test, model.predict(X_test)))"
            ]
        },
        {
            "cell_type": "markdown",
            "metadata": {},
            "source": [
                "Print feature importance"
            ]
        },
        {
            "cell_type": "code",
            "execution_count": 418,
            "metadata": {},
            "outputs": [
                {
                    "name": "stdout",
                    "output_type": "stream",
                    "text": [
                        "[0.01350181 0.08444478 0.         0.05789156 0.70892972 0.04223985\n",
                        " 0.0295944  0.06339786]\n"
                    ]
                }
            ],
            "source": [
                "print(model.feature_importances_)"
            ]
        },
        {
            "cell_type": "markdown",
            "metadata": {},
            "source": [
                "Get the number of leaves"
            ]
        },
        {
            "cell_type": "code",
            "execution_count": 419,
            "metadata": {},
            "outputs": [
                {
                    "name": "stdout",
                    "output_type": "stream",
                    "text": [
                        "44\n"
                    ]
                }
            ],
            "source": [
                "print(model.get_n_leaves())"
            ]
        },
        {
            "cell_type": "markdown",
            "metadata": {},
            "source": [
                " Get your tree params"
            ]
        },
        {
            "cell_type": "code",
            "execution_count": 420,
            "metadata": {},
            "outputs": [
                {
                    "name": "stdout",
                    "output_type": "stream",
                    "text": [
                        "{'ccp_alpha': 0.0, 'class_weight': None, 'criterion': 'gini', 'max_depth': None, 'max_features': None, 'max_leaf_nodes': None, 'min_impurity_decrease': 0.0, 'min_samples_leaf': 1, 'min_samples_split': 2, 'min_weight_fraction_leaf': 0.0, 'random_state': None, 'splitter': 'best'}\n"
                    ]
                }
            ],
            "source": [
                "print(model.get_params())"
            ]
        },
        {
            "cell_type": "markdown",
            "metadata": {},
            "source": [
                "Get your tree depth"
            ]
        },
        {
            "cell_type": "code",
            "execution_count": 421,
            "metadata": {},
            "outputs": [
                {
                    "name": "stdout",
                    "output_type": "stream",
                    "text": [
                        "10\n"
                    ]
                }
            ],
            "source": [
                "print(model.get_depth())"
            ]
        },
        {
            "cell_type": "markdown",
            "metadata": {},
            "source": [
                "*Train Decision tree with entropy criterion*"
            ]
        },
        {
            "cell_type": "code",
            "execution_count": 422,
            "metadata": {},
            "outputs": [
                {
                    "data": {
                        "text/html": [
                            "<style>#sk-container-id-15 {color: black;background-color: white;}#sk-container-id-15 pre{padding: 0;}#sk-container-id-15 div.sk-toggleable {background-color: white;}#sk-container-id-15 label.sk-toggleable__label {cursor: pointer;display: block;width: 100%;margin-bottom: 0;padding: 0.3em;box-sizing: border-box;text-align: center;}#sk-container-id-15 label.sk-toggleable__label-arrow:before {content: \"▸\";float: left;margin-right: 0.25em;color: #696969;}#sk-container-id-15 label.sk-toggleable__label-arrow:hover:before {color: black;}#sk-container-id-15 div.sk-estimator:hover label.sk-toggleable__label-arrow:before {color: black;}#sk-container-id-15 div.sk-toggleable__content {max-height: 0;max-width: 0;overflow: hidden;text-align: left;background-color: #f0f8ff;}#sk-container-id-15 div.sk-toggleable__content pre {margin: 0.2em;color: black;border-radius: 0.25em;background-color: #f0f8ff;}#sk-container-id-15 input.sk-toggleable__control:checked~div.sk-toggleable__content {max-height: 200px;max-width: 100%;overflow: auto;}#sk-container-id-15 input.sk-toggleable__control:checked~label.sk-toggleable__label-arrow:before {content: \"▾\";}#sk-container-id-15 div.sk-estimator input.sk-toggleable__control:checked~label.sk-toggleable__label {background-color: #d4ebff;}#sk-container-id-15 div.sk-label input.sk-toggleable__control:checked~label.sk-toggleable__label {background-color: #d4ebff;}#sk-container-id-15 input.sk-hidden--visually {border: 0;clip: rect(1px 1px 1px 1px);clip: rect(1px, 1px, 1px, 1px);height: 1px;margin: -1px;overflow: hidden;padding: 0;position: absolute;width: 1px;}#sk-container-id-15 div.sk-estimator {font-family: monospace;background-color: #f0f8ff;border: 1px dotted black;border-radius: 0.25em;box-sizing: border-box;margin-bottom: 0.5em;}#sk-container-id-15 div.sk-estimator:hover {background-color: #d4ebff;}#sk-container-id-15 div.sk-parallel-item::after {content: \"\";width: 100%;border-bottom: 1px solid gray;flex-grow: 1;}#sk-container-id-15 div.sk-label:hover label.sk-toggleable__label {background-color: #d4ebff;}#sk-container-id-15 div.sk-serial::before {content: \"\";position: absolute;border-left: 1px solid gray;box-sizing: border-box;top: 0;bottom: 0;left: 50%;z-index: 0;}#sk-container-id-15 div.sk-serial {display: flex;flex-direction: column;align-items: center;background-color: white;padding-right: 0.2em;padding-left: 0.2em;position: relative;}#sk-container-id-15 div.sk-item {position: relative;z-index: 1;}#sk-container-id-15 div.sk-parallel {display: flex;align-items: stretch;justify-content: center;background-color: white;position: relative;}#sk-container-id-15 div.sk-item::before, #sk-container-id-15 div.sk-parallel-item::before {content: \"\";position: absolute;border-left: 1px solid gray;box-sizing: border-box;top: 0;bottom: 0;left: 50%;z-index: -1;}#sk-container-id-15 div.sk-parallel-item {display: flex;flex-direction: column;z-index: 1;position: relative;background-color: white;}#sk-container-id-15 div.sk-parallel-item:first-child::after {align-self: flex-end;width: 50%;}#sk-container-id-15 div.sk-parallel-item:last-child::after {align-self: flex-start;width: 50%;}#sk-container-id-15 div.sk-parallel-item:only-child::after {width: 0;}#sk-container-id-15 div.sk-dashed-wrapped {border: 1px dashed gray;margin: 0 0.4em 0.5em 0.4em;box-sizing: border-box;padding-bottom: 0.4em;background-color: white;}#sk-container-id-15 div.sk-label label {font-family: monospace;font-weight: bold;display: inline-block;line-height: 1.2em;}#sk-container-id-15 div.sk-label-container {text-align: center;}#sk-container-id-15 div.sk-container {/* jupyter's `normalize.less` sets `[hidden] { display: none; }` but bootstrap.min.css set `[hidden] { display: none !important; }` so we also need the `!important` here to be able to override the default hidden behavior on the sphinx rendered scikit-learn.org. See: https://github.com/scikit-learn/scikit-learn/issues/21755 */display: inline-block !important;position: relative;}#sk-container-id-15 div.sk-text-repr-fallback {display: none;}</style><div id=\"sk-container-id-15\" class=\"sk-top-container\"><div class=\"sk-text-repr-fallback\"><pre>DecisionTreeClassifier(criterion=&#x27;entropy&#x27;)</pre><b>In a Jupyter environment, please rerun this cell to show the HTML representation or trust the notebook. <br />On GitHub, the HTML representation is unable to render, please try loading this page with nbviewer.org.</b></div><div class=\"sk-container\" hidden><div class=\"sk-item\"><div class=\"sk-estimator sk-toggleable\"><input class=\"sk-toggleable__control sk-hidden--visually\" id=\"sk-estimator-id-21\" type=\"checkbox\" checked><label for=\"sk-estimator-id-21\" class=\"sk-toggleable__label sk-toggleable__label-arrow\">DecisionTreeClassifier</label><div class=\"sk-toggleable__content\"><pre>DecisionTreeClassifier(criterion=&#x27;entropy&#x27;)</pre></div></div></div></div></div>"
                        ],
                        "text/plain": [
                            "DecisionTreeClassifier(criterion='entropy')"
                        ]
                    },
                    "execution_count": 422,
                    "metadata": {},
                    "output_type": "execute_result"
                }
            ],
            "source": [
                "dt_model = DecisionTreeClassifier(criterion=\"entropy\")\n",
                "dt_model.fit(X_train,Y_train)"
            ]
        },
        {
            "cell_type": "code",
            "execution_count": 423,
            "metadata": {},
            "outputs": [
                {
                    "data": {
                        "text/plain": [
                            "1.0"
                        ]
                    },
                    "execution_count": 423,
                    "metadata": {},
                    "output_type": "execute_result"
                }
            ],
            "source": [
                "dt_model.score(X_train,Y_train)"
            ]
        },
        {
            "cell_type": "code",
            "execution_count": 424,
            "metadata": {},
            "outputs": [
                {
                    "name": "stdout",
                    "output_type": "stream",
                    "text": [
                        "[[127  18]\n",
                        " [  8 115]]\n"
                    ]
                }
            ],
            "source": [
                "print(confusion_matrix(Y_test,dt_model.predict(X_test)))"
            ]
        },
        {
            "cell_type": "code",
            "execution_count": 425,
            "metadata": {},
            "outputs": [
                {
                    "name": "stdout",
                    "output_type": "stream",
                    "text": [
                        "              precision    recall  f1-score   support\n",
                        "\n",
                        "           0       0.94      0.88      0.91       145\n",
                        "           1       0.86      0.93      0.90       123\n",
                        "\n",
                        "    accuracy                           0.90       268\n",
                        "   macro avg       0.90      0.91      0.90       268\n",
                        "weighted avg       0.91      0.90      0.90       268\n",
                        "\n"
                    ]
                }
            ],
            "source": [
                "print(classification_report(Y_test, dt_model.predict(X_test)))\n"
            ]
        },
        {
            "cell_type": "code",
            "execution_count": 426,
            "metadata": {},
            "outputs": [
                {
                    "name": "stdout",
                    "output_type": "stream",
                    "text": [
                        "0.9029850746268657\n"
                    ]
                }
            ],
            "source": [
                "print(accuracy_score(Y_test,dt_model.predict(X_test)))\n"
            ]
        },
        {
            "cell_type": "code",
            "execution_count": 427,
            "metadata": {},
            "outputs": [
                {
                    "name": "stdout",
                    "output_type": "stream",
                    "text": [
                        "[0.02323874 0.11837284 0.0058778  0.07623395 0.60570524 0.04866322\n",
                        " 0.03287496 0.08903326]\n"
                    ]
                }
            ],
            "source": [
                "print(dt_model.feature_importances_)\n"
            ]
        },
        {
            "cell_type": "code",
            "execution_count": 428,
            "metadata": {},
            "outputs": [
                {
                    "name": "stdout",
                    "output_type": "stream",
                    "text": [
                        "43\n"
                    ]
                }
            ],
            "source": [
                "print(dt_model.get_n_leaves())"
            ]
        },
        {
            "cell_type": "code",
            "execution_count": 429,
            "metadata": {},
            "outputs": [
                {
                    "name": "stdout",
                    "output_type": "stream",
                    "text": [
                        "{'ccp_alpha': 0.0, 'class_weight': None, 'criterion': 'entropy', 'max_depth': None, 'max_features': None, 'max_leaf_nodes': None, 'min_impurity_decrease': 0.0, 'min_samples_leaf': 1, 'min_samples_split': 2, 'min_weight_fraction_leaf': 0.0, 'random_state': None, 'splitter': 'best'}\n"
                    ]
                }
            ],
            "source": [
                "print(dt_model.get_params())"
            ]
        },
        {
            "cell_type": "code",
            "execution_count": 430,
            "metadata": {},
            "outputs": [
                {
                    "name": "stdout",
                    "output_type": "stream",
                    "text": [
                        "10\n"
                    ]
                }
            ],
            "source": [
                "print(dt_model.get_depth())\n"
            ]
        },
        {
            "cell_type": "markdown",
            "metadata": {},
            "source": [
                "*Tune your decision tree hyperparameters using GridSearch*"
            ]
        },
        {
            "cell_type": "code",
            "execution_count": 431,
            "metadata": {},
            "outputs": [
                {
                    "name": "stdout",
                    "output_type": "stream",
                    "text": [
                        "{'criterion': 'entropy', 'max_depth': 150, 'min_samples_split': 4}\n",
                        "DecisionTreeClassifier(criterion='entropy', max_depth=150, min_samples_split=4)\n"
                    ]
                }
            ],
            "source": [
                "#Using Grid Search to get best hyperparameters\n",
                "\n",
                "from sklearn.model_selection import GridSearchCV\n",
                "tree_para = {'criterion':['gini','entropy'],'max_depth':[4,5,6,7,8,9,10,11,12,15,20,30,40,50,70,90,120,150],'min_samples_split': [2, 3, 4]}\n",
                "clf = GridSearchCV(DecisionTreeClassifier(), tree_para, cv=5)\n",
                "clf.fit(X_train,Y_train)\n",
                "print(clf.best_params_)\n",
                "print(clf.best_estimator_)"
            ]
        },
        {
            "cell_type": "markdown",
            "metadata": {},
            "source": [
                "*Once you train your model with your tuned hyperparameters, use the roc_auc_curve to measure your results*"
            ]
        },
        {
            "cell_type": "markdown",
            "metadata": {},
            "source": [
                "# Train with the best hyperparameters"
            ]
        },
        {
            "cell_type": "markdown",
            "metadata": {},
            "source": [
                "#COMO SE HACE?"
            ]
        },
        {
            "cell_type": "code",
            "execution_count": 432,
            "metadata": {},
            "outputs": [
                {
                    "data": {
                        "image/png": "[encoded data removed]",
                        "text/plain": [
                            "<Figure size 576x576 with 1 Axes>"
                        ]
                    },
                    "metadata": {
                        "needs_background": "light"
                    },
                    "output_type": "display_data"
                },
                {
                    "name": "stdout",
                    "output_type": "stream",
                    "text": [
                        "Computed Area Under the Curve (AUC) 0.9054107092795066\n"
                    ]
                }
            ],
            "source": [
                "#Measure your results\n",
                "\n",
                "from sklearn.metrics import roc_curve,auc\n",
                "fpr,tpr, thresholds = roc_curve(Y_test,dt_model.predict_proba(X_test)[:,1])\n",
                "plt.figure(figsize=(8,8))\n",
                "plt.xlim([0.0, 1.0])\n",
                "plt.ylim([0.0, 1.05])\n",
                "plt.plot([0,1],[0,1],color=\"navy\",lw=2,label=\"Random-Model\")\n",
                "plt.plot(fpr,tpr,color=\"darkorange\",lw=2, label=\"Decision Tree- Model\")\n",
                "plt.xlabel(\"False Positive Rate\")\n",
                "plt.ylabel(\"True Positive Rate\")\n",
                "plt.title(\"Receiver operating characteristic :ROC-AUC\")\n",
                "plt.legend()\n",
                "plt.show()\n",
                "print(\"Computed Area Under the Curve (AUC)\",auc(fpr, tpr))"
            ]
        },
        {
            "cell_type": "markdown",
            "metadata": {},
            "source": [
                "Save the model using pickle"
            ]
        },
        {
            "cell_type": "code",
            "execution_count": 433,
            "metadata": {},
            "outputs": [],
            "source": [
                "#save the model to file\n",
                "filename1 = '../models/finalized_model1.sav' #use absolute path\n",
                "pickle.dump(tree_model, open(filename1, 'wb'))"
            ]
        },
        {
            "cell_type": "markdown",
            "metadata": {},
            "source": [
                "## Otras formas vistas en clase"
            ]
        },
        {
            "cell_type": "code",
            "execution_count": null,
            "metadata": {},
            "outputs": [],
            "source": [
                "url = 'https://raw.githubusercontent.com/4GeeksAcademy/decision-tree-project-tutorial/main/diabetes.csv'\n",
                "df_raw1 = pd.read_csv(url, header=0, sep=\",\")\n"
            ]
        },
        {
            "cell_type": "code",
            "execution_count": null,
            "metadata": {},
            "outputs": [],
            "source": [
                "#if value =0 and diabetic, set the mean of diabetic, else if value=0 and not diabeti, set the mean of not diabetic, \n",
                "# rest of the case use the data value\n",
                "\n",
                "def set_value (data_value, outcome_value,mean_nodiab,mean_diab):\n",
                "    if (outcome_value == 0 and data_value==0):\n",
                "        return mean_nodiab\n",
                "    elif (outcome_value ==1 and data_value ==0):\n",
                "        return mean_diab\n",
                "    else:\n",
                "        return data_value\n",
                "\n",
                "def set_use_mean (name_col):\n",
                "    #calc the mean for diabetic and not diabetic that the data is not 0\n",
                "    meanNoDiab = df_raw1[(df_raw1[name_col]>0) & (df_raw1['Outcome']==0)][name_col].mean()\n",
                "    meanDiab = df_raw1[(df_raw1[name_col]>0) & (df_raw1['Outcome']==1)][name_col].mean()\n",
                "\n",
                "    df_raw1[name_col] = df_raw1.apply(lambda x: set_value(x[name_col], x['Outcome'],meanNoDiab,meanDiab), axis=1)\n",
                "\n",
                "set_use_mean('Insulin')\n",
                "set_use_mean('Glucose')\n",
                "set_use_mean('BloodPressure')\n",
                "set_use_mean('SkinThickness')\n",
                "set_use_mean('BMI')\n",
                "df_raw.describe()"
            ]
        },
        {
            "cell_type": "code",
            "execution_count": null,
            "metadata": {},
            "outputs": [],
            "source": [
                "f,ax=plt.subplots(figsize=(10,10))\n",
                "sns.heatmap(df_raw1.corr(),annot=True,linewidths=0.5,linecolor=\"black\",fmt=\".1f\",ax=ax)\n",
                "plt.show()"
            ]
        },
        {
            "cell_type": "code",
            "execution_count": null,
            "metadata": {},
            "outputs": [],
            "source": [
                "sns.pairplot(df_raw1)\n",
                "\n"
            ]
        },
        {
            "cell_type": "code",
            "execution_count": null,
            "metadata": {},
            "outputs": [],
            "source": []
        },
        {
            "cell_type": "code",
            "execution_count": 434,
            "metadata": {},
            "outputs": [],
            "source": [
                "#exclude pregnancy to feature model\n",
                "X = df_raw1[list(df_raw1.columns[1:8])]\n",
                "y = df_raw1[['Outcome']]"
            ]
        },
        {
            "cell_type": "code",
            "execution_count": 435,
            "metadata": {},
            "outputs": [],
            "source": [
                "#Split the data\n",
                "X_train, X_test, y_train, y_test = train_test_split(X, y, stratify=y,random_state=34)\n",
                "\n"
            ]
        },
        {
            "cell_type": "markdown",
            "metadata": {},
            "source": [
                "Note:\n",
                "\n",
                "This stratify parameter makes a split so that the proportion of values in the sample produced will be the same as the proportion of values provided to parameter stratify.\n",
                "\n",
                "For example, if variable y is a binary categorical variable with values 0 and 1 and there are 25% of zeros and 75% of ones, stratify=y will make sure that your random split has 25% of 0's and 75% of 1's."
            ]
        },
        {
            "cell_type": "code",
            "execution_count": 436,
            "metadata": {},
            "outputs": [
                {
                    "name": "stdout",
                    "output_type": "stream",
                    "text": [
                        "Accuracy: 0.9192825112107623\n"
                    ]
                }
            ],
            "source": [
                "#create a tree model, with basic parameter. max-depth=5\n",
                "clf = DecisionTreeClassifier(criterion='entropy',random_state=0, max_depth=5)\n",
                "\n",
                "clf.fit(X_train, y_train)\n",
                "print('Accuracy:',clf.score(X_test, y_test))\n",
                "\n",
                "\n"
            ]
        },
        {
            "cell_type": "code",
            "execution_count": 437,
            "metadata": {},
            "outputs": [],
            "source": [
                "#show predicted dataset\n",
                "clf_pred=clf.predict(X_test)"
            ]
        },
        {
            "cell_type": "code",
            "execution_count": 438,
            "metadata": {},
            "outputs": [
                {
                    "data": {
                        "image/png": "[encoded data removed]",
                        "text/plain": [
                            "<Figure size 432x288 with 2 Axes>"
                        ]
                    },
                    "metadata": {
                        "needs_background": "light"
                    },
                    "output_type": "display_data"
                }
            ],
            "source": [
                "cm = confusion_matrix(y_test, clf_pred, labels=clf.classes_)\n",
                "disp = ConfusionMatrixDisplay(confusion_matrix=cm, display_labels=clf.classes_)\n",
                "disp.plot()\n",
                "\n",
                "plt.show()"
            ]
        },
        {
            "cell_type": "code",
            "execution_count": 439,
            "metadata": {},
            "outputs": [
                {
                    "name": "stdout",
                    "output_type": "stream",
                    "text": [
                        "Glucose: 0.07853809065623699\n",
                        "BloodPressure: 0.027406246231999117\n",
                        "SkinThickness: 0.05635662461678105\n",
                        "Insulin: 0.719170933843736\n",
                        "BMI: 0.05263957904968605\n",
                        "DiabetesPedigreeFunction: 0.0\n",
                        "Age: 0.06588852560156087\n"
                    ]
                }
            ],
            "source": [
                "#Importance of feature in the Decision Tree\n",
                "\n",
                "# tree.feature_importances_ es un vector con la importancia estimada de cada atributo\n",
                "for name, importance in zip(df_raw.columns[1:], clf.feature_importances_):\n",
                "    print(name + ': ' + str(importance))"
            ]
        },
        {
            "cell_type": "code",
            "execution_count": 440,
            "metadata": {},
            "outputs": [
                {
                    "data": {
                        "image/png": "[encoded data removed]",
                        "text/plain": [
                            "<Figure size 720x576 with 1 Axes>"
                        ]
                    },
                    "metadata": {
                        "needs_background": "light"
                    },
                    "output_type": "display_data"
                }
            ],
            "source": [
                "\n",
                "\n",
                "plt.figure(figsize=(10,8))\n",
                "plot_tree(clf)\n",
                "plt.show()\n",
                "\n"
            ]
        },
        {
            "cell_type": "markdown",
            "metadata": {},
            "source": [
                "\n",
                "Search change the depth of tree to obtain a better classification"
            ]
        },
        {
            "cell_type": "code",
            "execution_count": 441,
            "metadata": {},
            "outputs": [
                {
                    "name": "stdout",
                    "output_type": "stream",
                    "text": [
                        " Max Depth  Average Accuracy\n",
                        "         1          0.856502\n",
                        "         2          0.856502\n",
                        "         3          0.901345\n",
                        "         4          0.901345\n",
                        "         5          0.905830\n",
                        "         6          0.905830\n",
                        "         7          0.901345\n"
                    ]
                }
            ],
            "source": [
                "accuracies = list()\n",
                "nro_feature = X_train.columns.size\n",
                "depth_range = range(1, nro_feature+1)\n",
                "\n",
                "# Testearemos la profundidad de 1 a cantidad de atributos +1\n",
                "for depth in depth_range:\n",
                "    tree_model = DecisionTreeClassifier(criterion='entropy',\n",
                "                                             min_samples_split=20,\n",
                "                                             min_samples_leaf=5,\n",
                "                                             max_depth = depth,\n",
                "                                             random_state=0)\n",
                "    tree_model.fit(X_train, y_train)\n",
                "    accuracies.append(tree_model.score(X_test, y_test))\n",
                "    \n",
                "# Mostramos los resultados obtenidos\n",
                "df1 = pd.DataFrame({\"Max Depth\": depth_range, \"Average Accuracy\": accuracies})\n",
                "df1 = df1[[\"Max Depth\", \"Average Accuracy\"]]\n",
                "print(df1.to_string(index=False))"
            ]
        },
        {
            "cell_type": "markdown",
            "metadata": {},
            "source": [
                "Using GridSearchCV"
            ]
        },
        {
            "cell_type": "code",
            "execution_count": 442,
            "metadata": {},
            "outputs": [],
            "source": [
                "max_features = range(1,X_train.columns.size+1)\n",
                "criterion = ['gini', 'entropy']\n",
                "max_depth = [2,3,4,5]\n",
                "parameters = dict(max_features=max_features,\n",
                "                      criterion=criterion,\n",
                "                      max_depth=max_depth,\n",
                "                      min_samples_split=[20,30],\n",
                "                      min_samples_leaf=[5,10])"
            ]
        },
        {
            "cell_type": "code",
            "execution_count": 443,
            "metadata": {},
            "outputs": [
                {
                    "data": {
                        "text/html": [
                            "<style>#sk-container-id-16 {color: black;background-color: white;}#sk-container-id-16 pre{padding: 0;}#sk-container-id-16 div.sk-toggleable {background-color: white;}#sk-container-id-16 label.sk-toggleable__label {cursor: pointer;display: block;width: 100%;margin-bottom: 0;padding: 0.3em;box-sizing: border-box;text-align: center;}#sk-container-id-16 label.sk-toggleable__label-arrow:before {content: \"▸\";float: left;margin-right: 0.25em;color: #696969;}#sk-container-id-16 label.sk-toggleable__label-arrow:hover:before {color: black;}#sk-container-id-16 div.sk-estimator:hover label.sk-toggleable__label-arrow:before {color: black;}#sk-container-id-16 div.sk-toggleable__content {max-height: 0;max-width: 0;overflow: hidden;text-align: left;background-color: #f0f8ff;}#sk-container-id-16 div.sk-toggleable__content pre {margin: 0.2em;color: black;border-radius: 0.25em;background-color: #f0f8ff;}#sk-container-id-16 input.sk-toggleable__control:checked~div.sk-toggleable__content {max-height: 200px;max-width: 100%;overflow: auto;}#sk-container-id-16 input.sk-toggleable__control:checked~label.sk-toggleable__label-arrow:before {content: \"▾\";}#sk-container-id-16 div.sk-estimator input.sk-toggleable__control:checked~label.sk-toggleable__label {background-color: #d4ebff;}#sk-container-id-16 div.sk-label input.sk-toggleable__control:checked~label.sk-toggleable__label {background-color: #d4ebff;}#sk-container-id-16 input.sk-hidden--visually {border: 0;clip: rect(1px 1px 1px 1px);clip: rect(1px, 1px, 1px, 1px);height: 1px;margin: -1px;overflow: hidden;padding: 0;position: absolute;width: 1px;}#sk-container-id-16 div.sk-estimator {font-family: monospace;background-color: #f0f8ff;border: 1px dotted black;border-radius: 0.25em;box-sizing: border-box;margin-bottom: 0.5em;}#sk-container-id-16 div.sk-estimator:hover {background-color: #d4ebff;}#sk-container-id-16 div.sk-parallel-item::after {content: \"\";width: 100%;border-bottom: 1px solid gray;flex-grow: 1;}#sk-container-id-16 div.sk-label:hover label.sk-toggleable__label {background-color: #d4ebff;}#sk-container-id-16 div.sk-serial::before {content: \"\";position: absolute;border-left: 1px solid gray;box-sizing: border-box;top: 0;bottom: 0;left: 50%;z-index: 0;}#sk-container-id-16 div.sk-serial {display: flex;flex-direction: column;align-items: center;background-color: white;padding-right: 0.2em;padding-left: 0.2em;position: relative;}#sk-container-id-16 div.sk-item {position: relative;z-index: 1;}#sk-container-id-16 div.sk-parallel {display: flex;align-items: stretch;justify-content: center;background-color: white;position: relative;}#sk-container-id-16 div.sk-item::before, #sk-container-id-16 div.sk-parallel-item::before {content: \"\";position: absolute;border-left: 1px solid gray;box-sizing: border-box;top: 0;bottom: 0;left: 50%;z-index: -1;}#sk-container-id-16 div.sk-parallel-item {display: flex;flex-direction: column;z-index: 1;position: relative;background-color: white;}#sk-container-id-16 div.sk-parallel-item:first-child::after {align-self: flex-end;width: 50%;}#sk-container-id-16 div.sk-parallel-item:last-child::after {align-self: flex-start;width: 50%;}#sk-container-id-16 div.sk-parallel-item:only-child::after {width: 0;}#sk-container-id-16 div.sk-dashed-wrapped {border: 1px dashed gray;margin: 0 0.4em 0.5em 0.4em;box-sizing: border-box;padding-bottom: 0.4em;background-color: white;}#sk-container-id-16 div.sk-label label {font-family: monospace;font-weight: bold;display: inline-block;line-height: 1.2em;}#sk-container-id-16 div.sk-label-container {text-align: center;}#sk-container-id-16 div.sk-container {/* jupyter's `normalize.less` sets `[hidden] { display: none; }` but bootstrap.min.css set `[hidden] { display: none !important; }` so we also need the `!important` here to be able to override the default hidden behavior on the sphinx rendered scikit-learn.org. See: https://github.com/scikit-learn/scikit-learn/issues/21755 */display: inline-block !important;position: relative;}#sk-container-id-16 div.sk-text-repr-fallback {display: none;}</style><div id=\"sk-container-id-16\" class=\"sk-top-container\"><div class=\"sk-text-repr-fallback\"><pre>GridSearchCV(estimator=DecisionTreeClassifier(random_state=0),\n",
                            "             param_grid={&#x27;criterion&#x27;: [&#x27;gini&#x27;, &#x27;entropy&#x27;],\n",
                            "                         &#x27;max_depth&#x27;: [2, 3, 4, 5], &#x27;max_features&#x27;: range(1, 8),\n",
                            "                         &#x27;min_samples_leaf&#x27;: [5, 10],\n",
                            "                         &#x27;min_samples_split&#x27;: [20, 30]})</pre><b>In a Jupyter environment, please rerun this cell to show the HTML representation or trust the notebook. <br />On GitHub, the HTML representation is unable to render, please try loading this page with nbviewer.org.</b></div><div class=\"sk-container\" hidden><div class=\"sk-item sk-dashed-wrapped\"><div class=\"sk-label-container\"><div class=\"sk-label sk-toggleable\"><input class=\"sk-toggleable__control sk-hidden--visually\" id=\"sk-estimator-id-22\" type=\"checkbox\" ><label for=\"sk-estimator-id-22\" class=\"sk-toggleable__label sk-toggleable__label-arrow\">GridSearchCV</label><div class=\"sk-toggleable__content\"><pre>GridSearchCV(estimator=DecisionTreeClassifier(random_state=0),\n",
                            "             param_grid={&#x27;criterion&#x27;: [&#x27;gini&#x27;, &#x27;entropy&#x27;],\n",
                            "                         &#x27;max_depth&#x27;: [2, 3, 4, 5], &#x27;max_features&#x27;: range(1, 8),\n",
                            "                         &#x27;min_samples_leaf&#x27;: [5, 10],\n",
                            "                         &#x27;min_samples_split&#x27;: [20, 30]})</pre></div></div></div><div class=\"sk-parallel\"><div class=\"sk-parallel-item\"><div class=\"sk-item\"><div class=\"sk-label-container\"><div class=\"sk-label sk-toggleable\"><input class=\"sk-toggleable__control sk-hidden--visually\" id=\"sk-estimator-id-23\" type=\"checkbox\" ><label for=\"sk-estimator-id-23\" class=\"sk-toggleable__label sk-toggleable__label-arrow\">estimator: DecisionTreeClassifier</label><div class=\"sk-toggleable__content\"><pre>DecisionTreeClassifier(random_state=0)</pre></div></div></div><div class=\"sk-serial\"><div class=\"sk-item\"><div class=\"sk-estimator sk-toggleable\"><input class=\"sk-toggleable__control sk-hidden--visually\" id=\"sk-estimator-id-24\" type=\"checkbox\" ><label for=\"sk-estimator-id-24\" class=\"sk-toggleable__label sk-toggleable__label-arrow\">DecisionTreeClassifier</label><div class=\"sk-toggleable__content\"><pre>DecisionTreeClassifier(random_state=0)</pre></div></div></div></div></div></div></div></div></div></div>"
                        ],
                        "text/plain": [
                            "GridSearchCV(estimator=DecisionTreeClassifier(random_state=0),\n",
                            "             param_grid={'criterion': ['gini', 'entropy'],\n",
                            "                         'max_depth': [2, 3, 4, 5], 'max_features': range(1, 8),\n",
                            "                         'min_samples_leaf': [5, 10],\n",
                            "                         'min_samples_split': [20, 30]})"
                        ]
                    },
                    "execution_count": 443,
                    "metadata": {},
                    "output_type": "execute_result"
                }
            ],
            "source": [
                "clf_GS = GridSearchCV(DecisionTreeClassifier(random_state=0), parameters)\n",
                "clf_GS.fit(X, y)"
            ]
        },
        {
            "cell_type": "code",
            "execution_count": 444,
            "metadata": {},
            "outputs": [
                {
                    "name": "stdout",
                    "output_type": "stream",
                    "text": [
                        "Best Criterion: entropy\n",
                        "Best max_depth: 5\n",
                        "Best min_samples_split: 20\n",
                        "Best min_samples_leaf: 5\n",
                        "Best Number Of Components: 4\n"
                    ]
                },
                {
                    "data": {
                        "text/plain": [
                            "{'ccp_alpha': 0.0,\n",
                            " 'class_weight': None,\n",
                            " 'criterion': 'entropy',\n",
                            " 'max_depth': 5,\n",
                            " 'max_features': 4,\n",
                            " 'max_leaf_nodes': None,\n",
                            " 'min_impurity_decrease': 0.0,\n",
                            " 'min_samples_leaf': 5,\n",
                            " 'min_samples_split': 20,\n",
                            " 'min_weight_fraction_leaf': 0.0,\n",
                            " 'random_state': 0,\n",
                            " 'splitter': 'best'}"
                        ]
                    },
                    "execution_count": 444,
                    "metadata": {},
                    "output_type": "execute_result"
                }
            ],
            "source": [
                "print('Best Criterion:', clf_GS.best_estimator_.get_params()['criterion'])\n",
                "print('Best max_depth:', clf_GS.best_estimator_.get_params()['max_depth'])\n",
                "print('Best min_samples_split:', clf_GS.best_estimator_.get_params()['min_samples_split'])\n",
                "print('Best min_samples_leaf:', clf_GS.best_estimator_.get_params()['min_samples_leaf'])\n",
                "print('Best Number Of Components:', clf_GS.best_estimator_.get_params()['max_features'])\n",
                "clf_GS.best_estimator_.get_params()"
            ]
        },
        {
            "cell_type": "code",
            "execution_count": 445,
            "metadata": {},
            "outputs": [
                {
                    "name": "stdout",
                    "output_type": "stream",
                    "text": [
                        "Score:0.8968609865470852\n",
                        "Glucose: 0.08902239291103327\n",
                        "BloodPressure: 0.0\n",
                        "SkinThickness: 0.0638798516471991\n",
                        "Insulin: 0.7716228046010913\n",
                        "BMI: 0.019920350252564233\n",
                        "DiabetesPedigreeFunction: 0.0\n",
                        "Age: 0.05555460058811201\n"
                    ]
                }
            ],
            "source": [
                "#Improve model of tree\n",
                "tree_model = DecisionTreeClassifier(criterion='entropy',\n",
                "                                    max_features=6,                                             \n",
                "                                    min_samples_split=20,\n",
                "                                    min_samples_leaf=10,\n",
                "                                    max_depth = 4,\n",
                "                                    random_state=0)\n",
                "tree_model.fit(X_train, y_train)\n",
                "print(f'Score:{tree_model.score(X_test, y_test)}')\n",
                "\n",
                "# tree.feature_importances_ es un vector con la importancia estimada de cada atributo\n",
                "for name, importance in zip(df_raw.columns[1:], tree_model.feature_importances_):\n",
                "    print(name + ': ' + str(importance))"
            ]
        },
        {
            "cell_type": "code",
            "execution_count": 446,
            "metadata": {},
            "outputs": [
                {
                    "data": {
                        "image/png": "[encoded data removed]",
                        "text/plain": [
                            "<Figure size 720x576 with 1 Axes>"
                        ]
                    },
                    "metadata": {
                        "needs_background": "light"
                    },
                    "output_type": "display_data"
                }
            ],
            "source": [
                "plt.figure(figsize=(10,8))\n",
                "plot_tree(tree_model)\n",
                "plt.show()"
            ]
        },
        {
            "cell_type": "code",
            "execution_count": 447,
            "metadata": {},
            "outputs": [],
            "source": [
                "#save the model to file\n",
                "filename = '../models/finalized_model.sav' #use absolute path\n",
                "pickle.dump(tree_model, open(filename, 'wb'))"
            ]
        }
    ],
    "metadata": {
        "kernelspec": {
            "display_name": "Python 3.8.13 64-bit ('3.8.13')",
            "language": "python",
            "name": "python3"
        },
        "language_info": {
            "codemirror_mode": {
                "name": "ipython",
                "version": 3
            },
            "file_extension": ".py",
            "mimetype": "text/x-python",
            "name": "python",
            "nbconvert_exporter": "python",
            "pygments_lexer": "ipython3",
            "version": "3.8.13"
        },
        "orig_nbformat": 4,
        "vscode": {
            "interpreter": {
                "hash": "110cc1dee26208153f2972f08a2ad52b6a56238dc66d48e87fb757ef2996db56"
            }
        }
    },
    "nbformat": 4,
    "nbformat_minor": 2
}
