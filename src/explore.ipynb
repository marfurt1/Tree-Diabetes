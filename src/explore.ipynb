{
    "cells": [
        {
            "cell_type": "markdown",
            "metadata": {},
            "source": [
                "\n",
                "## Data Dictionary: #\n",
                "\n",
                "    Pregnancies: Number of times pregnant.\n",
                "\n",
                "    Glucose: Plasma glucose concentration a 2 hours in an oral glucose tolerance test.\n",
                "\n",
                "    BloodPressure: Diastolic blood pressure (mm Hg).\n",
                "\n",
                "    SkinThickness: Triceps skin fold thickness (mm).\n",
                "\n",
                "    Insulin: 2-Hour serum insulin (mu U/ml).\n",
                "\n",
                "    BMI: Body mass index (weight in kg/(height in m)^2).\n",
                "\n",
                "    DiabetesPedigreeFunction: Diabetes pedigree function.\n",
                "\n",
                "    Age: Age (years).\n",
                "\n",
                "    Outcome: Class variable (0 or 1), Class Distribution: (class value 1 is interpreted as \"tested positive for diabetes\").\n"
            ]
        },
        {
            "cell_type": "markdown",
            "metadata": {},
            "source": [
                "Guide on inspection of the dataset\n",
                "\n",
                "    Verify if there are Null / Nan Values\n",
                "\n",
                "    Is it a Balanced or Imbalanced Dataset?\n",
                "\n",
                "    Convert non numerical data to numerical\n",
                "\n",
                "    Find correlation - feature importance\n",
                "\n",
                "    Get some Statistics - mean,median,25%,50%,75%,count , min,max on coloum wise\n",
                "\n",
                "    Eliminate outliers with IQR Method\n"
            ]
        },
        {
            "cell_type": "markdown",
            "metadata": {},
            "source": [
                "### tuve que correr aquí el pip install de requirements.txt porque no me los toma desde la consola"
            ]
        },
        {
            "cell_type": "code",
            "execution_count": 241,
            "metadata": {},
            "outputs": [
                {
                    "name": "stdout",
                    "output_type": "stream",
                    "text": [
                        "Requirement already satisfied: sqlalchemy==1.4.37 in /home/gitpod/.pyenv/versions/3.8.13/lib/python3.8/site-packages (from -r ../requirements.txt (line 2)) (1.4.37)\n",
                        "Requirement already satisfied: pymysql==1.0.2 in /home/gitpod/.pyenv/versions/3.8.13/lib/python3.8/site-packages (from -r ../requirements.txt (line 3)) (1.0.2)\n",
                        "Requirement already satisfied: pandas==1.4.2 in /home/gitpod/.pyenv/versions/3.8.13/lib/python3.8/site-packages (from -r ../requirements.txt (line 4)) (1.4.2)\n",
                        "Requirement already satisfied: python-dotenv==0.20.0 in /home/gitpod/.pyenv/versions/3.8.13/lib/python3.8/site-packages (from -r ../requirements.txt (line 5)) (0.20.0)\n",
                        "Requirement already satisfied: psycopg2-binary==2.9.3 in /home/gitpod/.pyenv/versions/3.8.13/lib/python3.8/site-packages (from -r ../requirements.txt (line 6)) (2.9.3)\n",
                        "Requirement already satisfied: requests==2.27.1 in /home/gitpod/.pyenv/versions/3.8.13/lib/python3.8/site-packages (from -r ../requirements.txt (line 7)) (2.27.1)\n",
                        "Requirement already satisfied: numpy>=1.18.5 in /home/gitpod/.pyenv/versions/3.8.13/lib/python3.8/site-packages (from -r ../requirements.txt (line 9)) (1.23.1)\n",
                        "Requirement already satisfied: opencv-python>=4.1.2 in /home/gitpod/.pyenv/versions/3.8.13/lib/python3.8/site-packages (from -r ../requirements.txt (line 10)) (4.6.0.66)\n",
                        "Requirement already satisfied: matplotlib>=3.2.2 in /home/gitpod/.pyenv/versions/3.8.13/lib/python3.8/site-packages (from -r ../requirements.txt (line 11)) (3.5.2)\n",
                        "Requirement already satisfied: ipyleaflet>=0.14.0 in /home/gitpod/.pyenv/versions/3.8.13/lib/python3.8/site-packages (from -r ../requirements.txt (line 12)) (0.17.0)\n",
                        "Requirement already satisfied: sympy>=1.10.1 in /home/gitpod/.pyenv/versions/3.8.13/lib/python3.8/site-packages (from -r ../requirements.txt (line 13)) (1.10.1)\n",
                        "Requirement already satisfied: sklearn in /home/gitpod/.pyenv/versions/3.8.13/lib/python3.8/site-packages (from -r ../requirements.txt (line 16)) (0.0)\n",
                        "Requirement already satisfied: seaborn in /home/gitpod/.pyenv/versions/3.8.13/lib/python3.8/site-packages (from -r ../requirements.txt (line 17)) (0.11.2)\n",
                        "Requirement already satisfied: folium in /home/gitpod/.pyenv/versions/3.8.13/lib/python3.8/site-packages (from -r ../requirements.txt (line 18)) (0.12.1.post1)\n",
                        "Requirement already satisfied: statsmodels in /home/gitpod/.pyenv/versions/3.8.13/lib/python3.8/site-packages (from -r ../requirements.txt (line 19)) (0.13.2)\n",
                        "Requirement already satisfied: plotly in /home/gitpod/.pyenv/versions/3.8.13/lib/python3.8/site-packages (from -r ../requirements.txt (line 20)) (5.9.0)\n",
                        "\u001b[31mERROR: Could not find a version that satisfies the requirement DecisionTreeClassifier (from versions: none)\u001b[0m\u001b[31m\n",
                        "\u001b[0m\u001b[31mERROR: No matching distribution found for DecisionTreeClassifier\u001b[0m\u001b[31m\n",
                        "\u001b[0m\n",
                        "\u001b[1m[\u001b[0m\u001b[34;49mnotice\u001b[0m\u001b[1;39;49m]\u001b[0m\u001b[39;49m A new release of pip available: \u001b[0m\u001b[31;49m22.2\u001b[0m\u001b[39;49m -> \u001b[0m\u001b[32;49m22.2.1\u001b[0m\n",
                        "\u001b[1m[\u001b[0m\u001b[34;49mnotice\u001b[0m\u001b[1;39;49m]\u001b[0m\u001b[39;49m To update, run: \u001b[0m\u001b[32;49mpip install --upgrade pip\u001b[0m\n",
                        "Note: you may need to restart the kernel to use updated packages.\n"
                    ]
                }
            ],
            "source": [
                "pip install -r ../requirements.txt"
            ]
        },
        {
            "cell_type": "code",
            "execution_count": 242,
            "metadata": {},
            "outputs": [],
            "source": [
                "import pandas as pd \n",
                "import numpy as np \n",
                "import matplotlib.pyplot as plt  \n",
                "import seaborn as sns\n",
                "import plotly.graph_objects as go\n",
                "#import folium\n",
                "import statsmodels.api as sm\n",
                "import statsmodels.formula.api as smf\n",
                "from sklearn.preprocessing import PolynomialFeatures\n",
                "from sklearn.linear_model import LinearRegression\n",
                "from sklearn.model_selection import train_test_split\n",
                "from sklearn.model_selection import  cross_val_score, GridSearchCV\n",
                "from sklearn.tree import DecisionTreeClassifier, plot_tree\n",
                "from sklearn import metrics\n",
                "from sklearn.metrics import confusion_matrix, ConfusionMatrixDisplay\n",
                "from sklearn.metrics import classification_report\n",
                "from sklearn.metrics import accuracy_score\n",
                "import pickle\n",
                "#from folium.plugins import MarkerCluster\n",
                "#from folium import plugins\n",
                "#from folium.plugins import FastMarkerCluster\n",
                "#from folium.plugins import HeatMap\n"
            ]
        },
        {
            "cell_type": "code",
            "execution_count": 243,
            "metadata": {},
            "outputs": [],
            "source": [
                "#Step 1:"
            ]
        },
        {
            "cell_type": "code",
            "execution_count": 244,
            "metadata": {},
            "outputs": [],
            "source": [
                "url = 'https://raw.githubusercontent.com/4GeeksAcademy/decision-tree-project-tutorial/main/diabetes.csv'\n",
                "df_raw = pd.read_csv(url, header=0, sep=\",\")\n"
            ]
        },
        {
            "cell_type": "markdown",
            "metadata": {},
            "source": [
                "Explore"
            ]
        },
        {
            "cell_type": "code",
            "execution_count": 245,
            "metadata": {},
            "outputs": [
                {
                    "data": {
                        "text/html": [
                            "<div>\n",
                            "<style scoped>\n",
                            "    .dataframe tbody tr th:only-of-type {\n",
                            "        vertical-align: middle;\n",
                            "    }\n",
                            "\n",
                            "    .dataframe tbody tr th {\n",
                            "        vertical-align: top;\n",
                            "    }\n",
                            "\n",
                            "    .dataframe thead th {\n",
                            "        text-align: right;\n",
                            "    }\n",
                            "</style>\n",
                            "<table border=\"1\" class=\"dataframe\">\n",
                            "  <thead>\n",
                            "    <tr style=\"text-align: right;\">\n",
                            "      <th></th>\n",
                            "      <th>Pregnancies</th>\n",
                            "      <th>Glucose</th>\n",
                            "      <th>BloodPressure</th>\n",
                            "      <th>SkinThickness</th>\n",
                            "      <th>Insulin</th>\n",
                            "      <th>BMI</th>\n",
                            "      <th>DiabetesPedigreeFunction</th>\n",
                            "      <th>Age</th>\n",
                            "      <th>Outcome</th>\n",
                            "    </tr>\n",
                            "  </thead>\n",
                            "  <tbody>\n",
                            "    <tr>\n",
                            "      <th>0</th>\n",
                            "      <td>6</td>\n",
                            "      <td>148</td>\n",
                            "      <td>72</td>\n",
                            "      <td>35</td>\n",
                            "      <td>0</td>\n",
                            "      <td>33.6</td>\n",
                            "      <td>0.627</td>\n",
                            "      <td>50</td>\n",
                            "      <td>1</td>\n",
                            "    </tr>\n",
                            "    <tr>\n",
                            "      <th>1</th>\n",
                            "      <td>1</td>\n",
                            "      <td>85</td>\n",
                            "      <td>66</td>\n",
                            "      <td>29</td>\n",
                            "      <td>0</td>\n",
                            "      <td>26.6</td>\n",
                            "      <td>0.351</td>\n",
                            "      <td>31</td>\n",
                            "      <td>0</td>\n",
                            "    </tr>\n",
                            "    <tr>\n",
                            "      <th>2</th>\n",
                            "      <td>8</td>\n",
                            "      <td>183</td>\n",
                            "      <td>64</td>\n",
                            "      <td>0</td>\n",
                            "      <td>0</td>\n",
                            "      <td>23.3</td>\n",
                            "      <td>0.672</td>\n",
                            "      <td>32</td>\n",
                            "      <td>1</td>\n",
                            "    </tr>\n",
                            "    <tr>\n",
                            "      <th>3</th>\n",
                            "      <td>1</td>\n",
                            "      <td>89</td>\n",
                            "      <td>66</td>\n",
                            "      <td>23</td>\n",
                            "      <td>94</td>\n",
                            "      <td>28.1</td>\n",
                            "      <td>0.167</td>\n",
                            "      <td>21</td>\n",
                            "      <td>0</td>\n",
                            "    </tr>\n",
                            "    <tr>\n",
                            "      <th>4</th>\n",
                            "      <td>0</td>\n",
                            "      <td>137</td>\n",
                            "      <td>40</td>\n",
                            "      <td>35</td>\n",
                            "      <td>168</td>\n",
                            "      <td>43.1</td>\n",
                            "      <td>2.288</td>\n",
                            "      <td>33</td>\n",
                            "      <td>1</td>\n",
                            "    </tr>\n",
                            "  </tbody>\n",
                            "</table>\n",
                            "</div>"
                        ],
                        "text/plain": [
                            "   Pregnancies  Glucose  BloodPressure  SkinThickness  Insulin   BMI  \\\n",
                            "0            6      148             72             35        0  33.6   \n",
                            "1            1       85             66             29        0  26.6   \n",
                            "2            8      183             64              0        0  23.3   \n",
                            "3            1       89             66             23       94  28.1   \n",
                            "4            0      137             40             35      168  43.1   \n",
                            "\n",
                            "   DiabetesPedigreeFunction  Age  Outcome  \n",
                            "0                     0.627   50        1  \n",
                            "1                     0.351   31        0  \n",
                            "2                     0.672   32        1  \n",
                            "3                     0.167   21        0  \n",
                            "4                     2.288   33        1  "
                        ]
                    },
                    "execution_count": 245,
                    "metadata": {},
                    "output_type": "execute_result"
                }
            ],
            "source": [
                "df_raw.head(5)"
            ]
        },
        {
            "cell_type": "code",
            "execution_count": 246,
            "metadata": {},
            "outputs": [
                {
                    "name": "stdout",
                    "output_type": "stream",
                    "text": [
                        "<class 'pandas.core.frame.DataFrame'>\n",
                        "RangeIndex: 768 entries, 0 to 767\n",
                        "Data columns (total 9 columns):\n",
                        " #   Column                    Non-Null Count  Dtype  \n",
                        "---  ------                    --------------  -----  \n",
                        " 0   Pregnancies               768 non-null    int64  \n",
                        " 1   Glucose                   768 non-null    int64  \n",
                        " 2   BloodPressure             768 non-null    int64  \n",
                        " 3   SkinThickness             768 non-null    int64  \n",
                        " 4   Insulin                   768 non-null    int64  \n",
                        " 5   BMI                       768 non-null    float64\n",
                        " 6   DiabetesPedigreeFunction  768 non-null    float64\n",
                        " 7   Age                       768 non-null    int64  \n",
                        " 8   Outcome                   768 non-null    int64  \n",
                        "dtypes: float64(2), int64(7)\n",
                        "memory usage: 54.1 KB\n"
                    ]
                }
            ],
            "source": [
                "df_raw.info()"
            ]
        },
        {
            "cell_type": "code",
            "execution_count": 247,
            "metadata": {},
            "outputs": [
                {
                    "data": {
                        "text/html": [
                            "<div>\n",
                            "<style scoped>\n",
                            "    .dataframe tbody tr th:only-of-type {\n",
                            "        vertical-align: middle;\n",
                            "    }\n",
                            "\n",
                            "    .dataframe tbody tr th {\n",
                            "        vertical-align: top;\n",
                            "    }\n",
                            "\n",
                            "    .dataframe thead th {\n",
                            "        text-align: right;\n",
                            "    }\n",
                            "</style>\n",
                            "<table border=\"1\" class=\"dataframe\">\n",
                            "  <thead>\n",
                            "    <tr style=\"text-align: right;\">\n",
                            "      <th></th>\n",
                            "      <th>Pregnancies</th>\n",
                            "      <th>Glucose</th>\n",
                            "      <th>BloodPressure</th>\n",
                            "      <th>SkinThickness</th>\n",
                            "      <th>Insulin</th>\n",
                            "      <th>BMI</th>\n",
                            "      <th>DiabetesPedigreeFunction</th>\n",
                            "      <th>Age</th>\n",
                            "      <th>Outcome</th>\n",
                            "    </tr>\n",
                            "  </thead>\n",
                            "  <tbody>\n",
                            "    <tr>\n",
                            "      <th>count</th>\n",
                            "      <td>768.000000</td>\n",
                            "      <td>768.000000</td>\n",
                            "      <td>768.000000</td>\n",
                            "      <td>768.000000</td>\n",
                            "      <td>768.000000</td>\n",
                            "      <td>768.000000</td>\n",
                            "      <td>768.000000</td>\n",
                            "      <td>768.000000</td>\n",
                            "      <td>768.000000</td>\n",
                            "    </tr>\n",
                            "    <tr>\n",
                            "      <th>mean</th>\n",
                            "      <td>3.845052</td>\n",
                            "      <td>120.894531</td>\n",
                            "      <td>69.105469</td>\n",
                            "      <td>20.536458</td>\n",
                            "      <td>79.799479</td>\n",
                            "      <td>31.992578</td>\n",
                            "      <td>0.471876</td>\n",
                            "      <td>33.240885</td>\n",
                            "      <td>0.348958</td>\n",
                            "    </tr>\n",
                            "    <tr>\n",
                            "      <th>std</th>\n",
                            "      <td>3.369578</td>\n",
                            "      <td>31.972618</td>\n",
                            "      <td>19.355807</td>\n",
                            "      <td>15.952218</td>\n",
                            "      <td>115.244002</td>\n",
                            "      <td>7.884160</td>\n",
                            "      <td>0.331329</td>\n",
                            "      <td>11.760232</td>\n",
                            "      <td>0.476951</td>\n",
                            "    </tr>\n",
                            "    <tr>\n",
                            "      <th>min</th>\n",
                            "      <td>0.000000</td>\n",
                            "      <td>0.000000</td>\n",
                            "      <td>0.000000</td>\n",
                            "      <td>0.000000</td>\n",
                            "      <td>0.000000</td>\n",
                            "      <td>0.000000</td>\n",
                            "      <td>0.078000</td>\n",
                            "      <td>21.000000</td>\n",
                            "      <td>0.000000</td>\n",
                            "    </tr>\n",
                            "    <tr>\n",
                            "      <th>25%</th>\n",
                            "      <td>1.000000</td>\n",
                            "      <td>99.000000</td>\n",
                            "      <td>62.000000</td>\n",
                            "      <td>0.000000</td>\n",
                            "      <td>0.000000</td>\n",
                            "      <td>27.300000</td>\n",
                            "      <td>0.243750</td>\n",
                            "      <td>24.000000</td>\n",
                            "      <td>0.000000</td>\n",
                            "    </tr>\n",
                            "    <tr>\n",
                            "      <th>50%</th>\n",
                            "      <td>3.000000</td>\n",
                            "      <td>117.000000</td>\n",
                            "      <td>72.000000</td>\n",
                            "      <td>23.000000</td>\n",
                            "      <td>30.500000</td>\n",
                            "      <td>32.000000</td>\n",
                            "      <td>0.372500</td>\n",
                            "      <td>29.000000</td>\n",
                            "      <td>0.000000</td>\n",
                            "    </tr>\n",
                            "    <tr>\n",
                            "      <th>75%</th>\n",
                            "      <td>6.000000</td>\n",
                            "      <td>140.250000</td>\n",
                            "      <td>80.000000</td>\n",
                            "      <td>32.000000</td>\n",
                            "      <td>127.250000</td>\n",
                            "      <td>36.600000</td>\n",
                            "      <td>0.626250</td>\n",
                            "      <td>41.000000</td>\n",
                            "      <td>1.000000</td>\n",
                            "    </tr>\n",
                            "    <tr>\n",
                            "      <th>max</th>\n",
                            "      <td>17.000000</td>\n",
                            "      <td>199.000000</td>\n",
                            "      <td>122.000000</td>\n",
                            "      <td>99.000000</td>\n",
                            "      <td>846.000000</td>\n",
                            "      <td>67.100000</td>\n",
                            "      <td>2.420000</td>\n",
                            "      <td>81.000000</td>\n",
                            "      <td>1.000000</td>\n",
                            "    </tr>\n",
                            "  </tbody>\n",
                            "</table>\n",
                            "</div>"
                        ],
                        "text/plain": [
                            "       Pregnancies     Glucose  BloodPressure  SkinThickness     Insulin  \\\n",
                            "count   768.000000  768.000000     768.000000     768.000000  768.000000   \n",
                            "mean      3.845052  120.894531      69.105469      20.536458   79.799479   \n",
                            "std       3.369578   31.972618      19.355807      15.952218  115.244002   \n",
                            "min       0.000000    0.000000       0.000000       0.000000    0.000000   \n",
                            "25%       1.000000   99.000000      62.000000       0.000000    0.000000   \n",
                            "50%       3.000000  117.000000      72.000000      23.000000   30.500000   \n",
                            "75%       6.000000  140.250000      80.000000      32.000000  127.250000   \n",
                            "max      17.000000  199.000000     122.000000      99.000000  846.000000   \n",
                            "\n",
                            "              BMI  DiabetesPedigreeFunction         Age     Outcome  \n",
                            "count  768.000000                768.000000  768.000000  768.000000  \n",
                            "mean    31.992578                  0.471876   33.240885    0.348958  \n",
                            "std      7.884160                  0.331329   11.760232    0.476951  \n",
                            "min      0.000000                  0.078000   21.000000    0.000000  \n",
                            "25%     27.300000                  0.243750   24.000000    0.000000  \n",
                            "50%     32.000000                  0.372500   29.000000    0.000000  \n",
                            "75%     36.600000                  0.626250   41.000000    1.000000  \n",
                            "max     67.100000                  2.420000   81.000000    1.000000  "
                        ]
                    },
                    "execution_count": 247,
                    "metadata": {},
                    "output_type": "execute_result"
                }
            ],
            "source": [
                "df_raw.describe()"
            ]
        },
        {
            "cell_type": "code",
            "execution_count": 248,
            "metadata": {},
            "outputs": [
                {
                    "data": {
                        "image/png": "[encoded data removed]",
                        "text/plain": [
                            "<Figure size 864x864 with 9 Axes>"
                        ]
                    },
                    "metadata": {
                        "needs_background": "light"
                    },
                    "output_type": "display_data"
                }
            ],
            "source": [
                "df_raw.hist(figsize=(12,12))\n",
                "plt.show()"
            ]
        },
        {
            "cell_type": "code",
            "execution_count": 249,
            "metadata": {},
            "outputs": [
                {
                    "data": {
                        "text/html": [
                            "<div>\n",
                            "<style scoped>\n",
                            "    .dataframe tbody tr th:only-of-type {\n",
                            "        vertical-align: middle;\n",
                            "    }\n",
                            "\n",
                            "    .dataframe tbody tr th {\n",
                            "        vertical-align: top;\n",
                            "    }\n",
                            "\n",
                            "    .dataframe thead th {\n",
                            "        text-align: right;\n",
                            "    }\n",
                            "</style>\n",
                            "<table border=\"1\" class=\"dataframe\">\n",
                            "  <thead>\n",
                            "    <tr style=\"text-align: right;\">\n",
                            "      <th></th>\n",
                            "      <th>Pregnancies</th>\n",
                            "      <th>Glucose</th>\n",
                            "      <th>BloodPressure</th>\n",
                            "      <th>SkinThickness</th>\n",
                            "      <th>Insulin</th>\n",
                            "      <th>BMI</th>\n",
                            "      <th>DiabetesPedigreeFunction</th>\n",
                            "      <th>Age</th>\n",
                            "      <th>Outcome</th>\n",
                            "    </tr>\n",
                            "  </thead>\n",
                            "  <tbody>\n",
                            "    <tr>\n",
                            "      <th>136</th>\n",
                            "      <td>0</td>\n",
                            "      <td>100</td>\n",
                            "      <td>70</td>\n",
                            "      <td>26</td>\n",
                            "      <td>50</td>\n",
                            "      <td>30.8</td>\n",
                            "      <td>0.597</td>\n",
                            "      <td>21</td>\n",
                            "      <td>0</td>\n",
                            "    </tr>\n",
                            "    <tr>\n",
                            "      <th>213</th>\n",
                            "      <td>0</td>\n",
                            "      <td>140</td>\n",
                            "      <td>65</td>\n",
                            "      <td>26</td>\n",
                            "      <td>130</td>\n",
                            "      <td>42.6</td>\n",
                            "      <td>0.431</td>\n",
                            "      <td>24</td>\n",
                            "      <td>1</td>\n",
                            "    </tr>\n",
                            "    <tr>\n",
                            "      <th>69</th>\n",
                            "      <td>4</td>\n",
                            "      <td>146</td>\n",
                            "      <td>85</td>\n",
                            "      <td>27</td>\n",
                            "      <td>100</td>\n",
                            "      <td>28.9</td>\n",
                            "      <td>0.189</td>\n",
                            "      <td>27</td>\n",
                            "      <td>0</td>\n",
                            "    </tr>\n",
                            "    <tr>\n",
                            "      <th>174</th>\n",
                            "      <td>2</td>\n",
                            "      <td>75</td>\n",
                            "      <td>64</td>\n",
                            "      <td>24</td>\n",
                            "      <td>55</td>\n",
                            "      <td>29.7</td>\n",
                            "      <td>0.370</td>\n",
                            "      <td>33</td>\n",
                            "      <td>0</td>\n",
                            "    </tr>\n",
                            "    <tr>\n",
                            "      <th>598</th>\n",
                            "      <td>1</td>\n",
                            "      <td>173</td>\n",
                            "      <td>74</td>\n",
                            "      <td>0</td>\n",
                            "      <td>0</td>\n",
                            "      <td>36.8</td>\n",
                            "      <td>0.088</td>\n",
                            "      <td>38</td>\n",
                            "      <td>1</td>\n",
                            "    </tr>\n",
                            "  </tbody>\n",
                            "</table>\n",
                            "</div>"
                        ],
                        "text/plain": [
                            "     Pregnancies  Glucose  BloodPressure  SkinThickness  Insulin   BMI  \\\n",
                            "136            0      100             70             26       50  30.8   \n",
                            "213            0      140             65             26      130  42.6   \n",
                            "69             4      146             85             27      100  28.9   \n",
                            "174            2       75             64             24       55  29.7   \n",
                            "598            1      173             74              0        0  36.8   \n",
                            "\n",
                            "     DiabetesPedigreeFunction  Age  Outcome  \n",
                            "136                     0.597   21        0  \n",
                            "213                     0.431   24        1  \n",
                            "69                      0.189   27        0  \n",
                            "174                     0.370   33        0  \n",
                            "598                     0.088   38        1  "
                        ]
                    },
                    "execution_count": 249,
                    "metadata": {},
                    "output_type": "execute_result"
                }
            ],
            "source": [
                "df_raw.sample(5)"
            ]
        },
        {
            "cell_type": "code",
            "execution_count": 250,
            "metadata": {},
            "outputs": [
                {
                    "data": {
                        "text/plain": [
                            "0    500\n",
                            "1    268\n",
                            "Name: Outcome, dtype: int64"
                        ]
                    },
                    "execution_count": 250,
                    "metadata": {},
                    "output_type": "execute_result"
                }
            ],
            "source": [
                "df_raw[\"Outcome\"].value_counts()\n",
                "\n"
            ]
        },
        {
            "cell_type": "markdown",
            "metadata": {},
            "source": [
                "This dataset is ambalanced"
            ]
        },
        {
            "cell_type": "markdown",
            "metadata": {},
            "source": [
                "### See more about features"
            ]
        },
        {
            "cell_type": "code",
            "execution_count": 251,
            "metadata": {},
            "outputs": [
                {
                    "data": {
                        "text/html": [
                            "<div>\n",
                            "<style scoped>\n",
                            "    .dataframe tbody tr th:only-of-type {\n",
                            "        vertical-align: middle;\n",
                            "    }\n",
                            "\n",
                            "    .dataframe tbody tr th {\n",
                            "        vertical-align: top;\n",
                            "    }\n",
                            "\n",
                            "    .dataframe thead th {\n",
                            "        text-align: right;\n",
                            "    }\n",
                            "</style>\n",
                            "<table border=\"1\" class=\"dataframe\">\n",
                            "  <thead>\n",
                            "    <tr style=\"text-align: right;\">\n",
                            "      <th></th>\n",
                            "      <th>Pregnancies</th>\n",
                            "      <th>Glucose</th>\n",
                            "      <th>BloodPressure</th>\n",
                            "      <th>SkinThickness</th>\n",
                            "      <th>Insulin</th>\n",
                            "      <th>BMI</th>\n",
                            "      <th>DiabetesPedigreeFunction</th>\n",
                            "      <th>Age</th>\n",
                            "      <th>Outcome</th>\n",
                            "    </tr>\n",
                            "  </thead>\n",
                            "  <tbody>\n",
                            "    <tr>\n",
                            "      <th>4</th>\n",
                            "      <td>0</td>\n",
                            "      <td>137</td>\n",
                            "      <td>40</td>\n",
                            "      <td>35</td>\n",
                            "      <td>168</td>\n",
                            "      <td>43.1</td>\n",
                            "      <td>2.288</td>\n",
                            "      <td>33</td>\n",
                            "      <td>1</td>\n",
                            "    </tr>\n",
                            "    <tr>\n",
                            "      <th>16</th>\n",
                            "      <td>0</td>\n",
                            "      <td>118</td>\n",
                            "      <td>84</td>\n",
                            "      <td>47</td>\n",
                            "      <td>230</td>\n",
                            "      <td>45.8</td>\n",
                            "      <td>0.551</td>\n",
                            "      <td>31</td>\n",
                            "      <td>1</td>\n",
                            "    </tr>\n",
                            "    <tr>\n",
                            "      <th>45</th>\n",
                            "      <td>0</td>\n",
                            "      <td>180</td>\n",
                            "      <td>66</td>\n",
                            "      <td>39</td>\n",
                            "      <td>0</td>\n",
                            "      <td>42.0</td>\n",
                            "      <td>1.893</td>\n",
                            "      <td>25</td>\n",
                            "      <td>1</td>\n",
                            "    </tr>\n",
                            "    <tr>\n",
                            "      <th>57</th>\n",
                            "      <td>0</td>\n",
                            "      <td>100</td>\n",
                            "      <td>88</td>\n",
                            "      <td>60</td>\n",
                            "      <td>110</td>\n",
                            "      <td>46.8</td>\n",
                            "      <td>0.962</td>\n",
                            "      <td>31</td>\n",
                            "      <td>0</td>\n",
                            "    </tr>\n",
                            "    <tr>\n",
                            "      <th>58</th>\n",
                            "      <td>0</td>\n",
                            "      <td>146</td>\n",
                            "      <td>82</td>\n",
                            "      <td>0</td>\n",
                            "      <td>0</td>\n",
                            "      <td>40.5</td>\n",
                            "      <td>1.781</td>\n",
                            "      <td>44</td>\n",
                            "      <td>0</td>\n",
                            "    </tr>\n",
                            "    <tr>\n",
                            "      <th>...</th>\n",
                            "      <td>...</td>\n",
                            "      <td>...</td>\n",
                            "      <td>...</td>\n",
                            "      <td>...</td>\n",
                            "      <td>...</td>\n",
                            "      <td>...</td>\n",
                            "      <td>...</td>\n",
                            "      <td>...</td>\n",
                            "      <td>...</td>\n",
                            "    </tr>\n",
                            "    <tr>\n",
                            "      <th>713</th>\n",
                            "      <td>0</td>\n",
                            "      <td>134</td>\n",
                            "      <td>58</td>\n",
                            "      <td>20</td>\n",
                            "      <td>291</td>\n",
                            "      <td>26.4</td>\n",
                            "      <td>0.352</td>\n",
                            "      <td>21</td>\n",
                            "      <td>0</td>\n",
                            "    </tr>\n",
                            "    <tr>\n",
                            "      <th>727</th>\n",
                            "      <td>0</td>\n",
                            "      <td>141</td>\n",
                            "      <td>84</td>\n",
                            "      <td>26</td>\n",
                            "      <td>0</td>\n",
                            "      <td>32.4</td>\n",
                            "      <td>0.433</td>\n",
                            "      <td>22</td>\n",
                            "      <td>0</td>\n",
                            "    </tr>\n",
                            "    <tr>\n",
                            "      <th>736</th>\n",
                            "      <td>0</td>\n",
                            "      <td>126</td>\n",
                            "      <td>86</td>\n",
                            "      <td>27</td>\n",
                            "      <td>120</td>\n",
                            "      <td>27.4</td>\n",
                            "      <td>0.515</td>\n",
                            "      <td>21</td>\n",
                            "      <td>0</td>\n",
                            "    </tr>\n",
                            "    <tr>\n",
                            "      <th>753</th>\n",
                            "      <td>0</td>\n",
                            "      <td>181</td>\n",
                            "      <td>88</td>\n",
                            "      <td>44</td>\n",
                            "      <td>510</td>\n",
                            "      <td>43.3</td>\n",
                            "      <td>0.222</td>\n",
                            "      <td>26</td>\n",
                            "      <td>1</td>\n",
                            "    </tr>\n",
                            "    <tr>\n",
                            "      <th>757</th>\n",
                            "      <td>0</td>\n",
                            "      <td>123</td>\n",
                            "      <td>72</td>\n",
                            "      <td>0</td>\n",
                            "      <td>0</td>\n",
                            "      <td>36.3</td>\n",
                            "      <td>0.258</td>\n",
                            "      <td>52</td>\n",
                            "      <td>1</td>\n",
                            "    </tr>\n",
                            "  </tbody>\n",
                            "</table>\n",
                            "<p>111 rows × 9 columns</p>\n",
                            "</div>"
                        ],
                        "text/plain": [
                            "     Pregnancies  Glucose  BloodPressure  SkinThickness  Insulin   BMI  \\\n",
                            "4              0      137             40             35      168  43.1   \n",
                            "16             0      118             84             47      230  45.8   \n",
                            "45             0      180             66             39        0  42.0   \n",
                            "57             0      100             88             60      110  46.8   \n",
                            "58             0      146             82              0        0  40.5   \n",
                            "..           ...      ...            ...            ...      ...   ...   \n",
                            "713            0      134             58             20      291  26.4   \n",
                            "727            0      141             84             26        0  32.4   \n",
                            "736            0      126             86             27      120  27.4   \n",
                            "753            0      181             88             44      510  43.3   \n",
                            "757            0      123             72              0        0  36.3   \n",
                            "\n",
                            "     DiabetesPedigreeFunction  Age  Outcome  \n",
                            "4                       2.288   33        1  \n",
                            "16                      0.551   31        1  \n",
                            "45                      1.893   25        1  \n",
                            "57                      0.962   31        0  \n",
                            "58                      1.781   44        0  \n",
                            "..                        ...  ...      ...  \n",
                            "713                     0.352   21        0  \n",
                            "727                     0.433   22        0  \n",
                            "736                     0.515   21        0  \n",
                            "753                     0.222   26        1  \n",
                            "757                     0.258   52        1  \n",
                            "\n",
                            "[111 rows x 9 columns]"
                        ]
                    },
                    "execution_count": 251,
                    "metadata": {},
                    "output_type": "execute_result"
                }
            ],
            "source": [
                "df_raw[df_raw['Pregnancies']==0]\n"
            ]
        },
        {
            "cell_type": "code",
            "execution_count": 252,
            "metadata": {},
            "outputs": [
                {
                    "data": {
                        "text/plain": [
                            "35"
                        ]
                    },
                    "execution_count": 252,
                    "metadata": {},
                    "output_type": "execute_result"
                }
            ],
            "source": [
                "len(df_raw[df_raw['BloodPressure']==0])\n"
            ]
        },
        {
            "cell_type": "code",
            "execution_count": 253,
            "metadata": {},
            "outputs": [
                {
                    "data": {
                        "text/plain": [
                            "374"
                        ]
                    },
                    "execution_count": 253,
                    "metadata": {},
                    "output_type": "execute_result"
                }
            ],
            "source": [
                "len(df_raw[df_raw['Insulin']==0])\n"
            ]
        },
        {
            "cell_type": "code",
            "execution_count": 254,
            "metadata": {},
            "outputs": [
                {
                    "data": {
                        "text/plain": [
                            "0        0\n",
                            "1        0\n",
                            "2        0\n",
                            "3       94\n",
                            "4      168\n",
                            "      ... \n",
                            "763    180\n",
                            "764      0\n",
                            "765    112\n",
                            "766      0\n",
                            "767      0\n",
                            "Name: Insulin, Length: 768, dtype: int64"
                        ]
                    },
                    "execution_count": 254,
                    "metadata": {},
                    "output_type": "execute_result"
                }
            ],
            "source": [
                "df_raw['Insulin']"
            ]
        },
        {
            "cell_type": "code",
            "execution_count": 255,
            "metadata": {},
            "outputs": [
                {
                    "data": {
                        "text/plain": [
                            "0      374\n",
                            "105     11\n",
                            "130      9\n",
                            "140      9\n",
                            "120      8\n",
                            "      ... \n",
                            "73       1\n",
                            "171      1\n",
                            "255      1\n",
                            "52       1\n",
                            "112      1\n",
                            "Name: Insulin, Length: 186, dtype: int64"
                        ]
                    },
                    "execution_count": 255,
                    "metadata": {},
                    "output_type": "execute_result"
                }
            ],
            "source": [
                "df_raw['Insulin'].value_counts()\n"
            ]
        },
        {
            "cell_type": "code",
            "execution_count": 256,
            "metadata": {},
            "outputs": [
                {
                    "data": {
                        "text/plain": [
                            "11"
                        ]
                    },
                    "execution_count": 256,
                    "metadata": {},
                    "output_type": "execute_result"
                }
            ],
            "source": [
                "len(df_raw[df_raw['BMI']==0])\n"
            ]
        },
        {
            "cell_type": "markdown",
            "metadata": {},
            "source": [
                "### Clean the  DataSet"
            ]
        },
        {
            "cell_type": "code",
            "execution_count": 257,
            "metadata": {},
            "outputs": [],
            "source": [
                "\n",
                "#insulina\n",
                "df_0=df_raw[(df_raw['Outcome']==0) & (df_raw[\"Insulin\"] > 0)]\n",
                "insuline_mean_0=df_0['Insulin'].mean()\n",
                "\n",
                "df_no0=df_raw[(df_raw['Outcome']!=0) & (df_raw[\"Insulin\"] > 0)]\n",
                "insuline_mean_no0=df_no0['Insulin'].mean()"
            ]
        },
        {
            "cell_type": "code",
            "execution_count": 258,
            "metadata": {},
            "outputs": [],
            "source": [
                "def insulina(insulin_value, outcome_value, insuline_mean_0,insuline_mean_no0):\n",
                "    if outcome_value==0 and insulin_value==0:\n",
                "        return insuline_mean_0\n",
                "    elif outcome_value==1 and insulin_value==0:\n",
                "        return insuline_mean_no0\n",
                "    else:\n",
                "        return insulin_value"
            ]
        },
        {
            "cell_type": "code",
            "execution_count": 259,
            "metadata": {},
            "outputs": [],
            "source": [
                "df_raw['Insulin'] = df_raw.apply(lambda x: insulina(x['Insulin'], x['Outcome'],insuline_mean_0,insuline_mean_no0), axis=1)"
            ]
        },
        {
            "cell_type": "code",
            "execution_count": 260,
            "metadata": {},
            "outputs": [
                {
                    "data": {
                        "text/html": [
                            "<div>\n",
                            "<style scoped>\n",
                            "    .dataframe tbody tr th:only-of-type {\n",
                            "        vertical-align: middle;\n",
                            "    }\n",
                            "\n",
                            "    .dataframe tbody tr th {\n",
                            "        vertical-align: top;\n",
                            "    }\n",
                            "\n",
                            "    .dataframe thead th {\n",
                            "        text-align: right;\n",
                            "    }\n",
                            "</style>\n",
                            "<table border=\"1\" class=\"dataframe\">\n",
                            "  <thead>\n",
                            "    <tr style=\"text-align: right;\">\n",
                            "      <th></th>\n",
                            "      <th>Pregnancies</th>\n",
                            "      <th>Glucose</th>\n",
                            "      <th>BloodPressure</th>\n",
                            "      <th>SkinThickness</th>\n",
                            "      <th>Insulin</th>\n",
                            "      <th>BMI</th>\n",
                            "      <th>DiabetesPedigreeFunction</th>\n",
                            "      <th>Age</th>\n",
                            "      <th>Outcome</th>\n",
                            "    </tr>\n",
                            "  </thead>\n",
                            "  <tbody>\n",
                            "    <tr>\n",
                            "      <th>count</th>\n",
                            "      <td>768.000000</td>\n",
                            "      <td>768.000000</td>\n",
                            "      <td>768.000000</td>\n",
                            "      <td>768.000000</td>\n",
                            "      <td>768.000000</td>\n",
                            "      <td>768.000000</td>\n",
                            "      <td>768.000000</td>\n",
                            "      <td>768.000000</td>\n",
                            "      <td>768.000000</td>\n",
                            "    </tr>\n",
                            "    <tr>\n",
                            "      <th>mean</th>\n",
                            "      <td>3.845052</td>\n",
                            "      <td>120.894531</td>\n",
                            "      <td>69.105469</td>\n",
                            "      <td>20.536458</td>\n",
                            "      <td>157.003527</td>\n",
                            "      <td>31.992578</td>\n",
                            "      <td>0.471876</td>\n",
                            "      <td>33.240885</td>\n",
                            "      <td>0.348958</td>\n",
                            "    </tr>\n",
                            "    <tr>\n",
                            "      <th>std</th>\n",
                            "      <td>3.369578</td>\n",
                            "      <td>31.972618</td>\n",
                            "      <td>19.355807</td>\n",
                            "      <td>15.952218</td>\n",
                            "      <td>88.860914</td>\n",
                            "      <td>7.884160</td>\n",
                            "      <td>0.331329</td>\n",
                            "      <td>11.760232</td>\n",
                            "      <td>0.476951</td>\n",
                            "    </tr>\n",
                            "    <tr>\n",
                            "      <th>min</th>\n",
                            "      <td>0.000000</td>\n",
                            "      <td>0.000000</td>\n",
                            "      <td>0.000000</td>\n",
                            "      <td>0.000000</td>\n",
                            "      <td>14.000000</td>\n",
                            "      <td>0.000000</td>\n",
                            "      <td>0.078000</td>\n",
                            "      <td>21.000000</td>\n",
                            "      <td>0.000000</td>\n",
                            "    </tr>\n",
                            "    <tr>\n",
                            "      <th>25%</th>\n",
                            "      <td>1.000000</td>\n",
                            "      <td>99.000000</td>\n",
                            "      <td>62.000000</td>\n",
                            "      <td>0.000000</td>\n",
                            "      <td>121.500000</td>\n",
                            "      <td>27.300000</td>\n",
                            "      <td>0.243750</td>\n",
                            "      <td>24.000000</td>\n",
                            "      <td>0.000000</td>\n",
                            "    </tr>\n",
                            "    <tr>\n",
                            "      <th>50%</th>\n",
                            "      <td>3.000000</td>\n",
                            "      <td>117.000000</td>\n",
                            "      <td>72.000000</td>\n",
                            "      <td>23.000000</td>\n",
                            "      <td>130.287879</td>\n",
                            "      <td>32.000000</td>\n",
                            "      <td>0.372500</td>\n",
                            "      <td>29.000000</td>\n",
                            "      <td>0.000000</td>\n",
                            "    </tr>\n",
                            "    <tr>\n",
                            "      <th>75%</th>\n",
                            "      <td>6.000000</td>\n",
                            "      <td>140.250000</td>\n",
                            "      <td>80.000000</td>\n",
                            "      <td>32.000000</td>\n",
                            "      <td>206.846154</td>\n",
                            "      <td>36.600000</td>\n",
                            "      <td>0.626250</td>\n",
                            "      <td>41.000000</td>\n",
                            "      <td>1.000000</td>\n",
                            "    </tr>\n",
                            "    <tr>\n",
                            "      <th>max</th>\n",
                            "      <td>17.000000</td>\n",
                            "      <td>199.000000</td>\n",
                            "      <td>122.000000</td>\n",
                            "      <td>99.000000</td>\n",
                            "      <td>846.000000</td>\n",
                            "      <td>67.100000</td>\n",
                            "      <td>2.420000</td>\n",
                            "      <td>81.000000</td>\n",
                            "      <td>1.000000</td>\n",
                            "    </tr>\n",
                            "  </tbody>\n",
                            "</table>\n",
                            "</div>"
                        ],
                        "text/plain": [
                            "       Pregnancies     Glucose  BloodPressure  SkinThickness     Insulin  \\\n",
                            "count   768.000000  768.000000     768.000000     768.000000  768.000000   \n",
                            "mean      3.845052  120.894531      69.105469      20.536458  157.003527   \n",
                            "std       3.369578   31.972618      19.355807      15.952218   88.860914   \n",
                            "min       0.000000    0.000000       0.000000       0.000000   14.000000   \n",
                            "25%       1.000000   99.000000      62.000000       0.000000  121.500000   \n",
                            "50%       3.000000  117.000000      72.000000      23.000000  130.287879   \n",
                            "75%       6.000000  140.250000      80.000000      32.000000  206.846154   \n",
                            "max      17.000000  199.000000     122.000000      99.000000  846.000000   \n",
                            "\n",
                            "              BMI  DiabetesPedigreeFunction         Age     Outcome  \n",
                            "count  768.000000                768.000000  768.000000  768.000000  \n",
                            "mean    31.992578                  0.471876   33.240885    0.348958  \n",
                            "std      7.884160                  0.331329   11.760232    0.476951  \n",
                            "min      0.000000                  0.078000   21.000000    0.000000  \n",
                            "25%     27.300000                  0.243750   24.000000    0.000000  \n",
                            "50%     32.000000                  0.372500   29.000000    0.000000  \n",
                            "75%     36.600000                  0.626250   41.000000    1.000000  \n",
                            "max     67.100000                  2.420000   81.000000    1.000000  "
                        ]
                    },
                    "execution_count": 260,
                    "metadata": {},
                    "output_type": "execute_result"
                }
            ],
            "source": [
                "df_raw.describe()"
            ]
        },
        {
            "cell_type": "code",
            "execution_count": 261,
            "metadata": {},
            "outputs": [],
            "source": [
                "\n",
                "#bmi\n",
                "df_0=df_raw[(df_raw['Outcome']==0) & (df_raw[\"BMI\"] > 0)]\n",
                "bmi_mean_0=df_0['BMI'].mean()\n",
                "\n",
                "df_no0=df_raw[(df_raw['Outcome']!=0) & (df_raw[\"BMI\"] > 0)]\n",
                "bmi_mean_no0=df_no0['BMI'].mean()\n",
                "\n",
                "def BMI_fun(bmi_value, outcome_value, bmi_mean_0,bmi_mean_no0):\n",
                "    if outcome_value==0 and bmi_value==0:\n",
                "        return bmi_mean_0\n",
                "    elif outcome_value==1 and bmi_value==0:\n",
                "        return bmi_mean_no0\n",
                "    else:\n",
                "        return bmi_value"
            ]
        },
        {
            "cell_type": "code",
            "execution_count": 262,
            "metadata": {},
            "outputs": [],
            "source": [
                "df_raw['BMI'] = df_raw.apply(lambda x: BMI_fun(x['BMI'], x['Outcome'],bmi_mean_0,bmi_mean_no0), axis=1)"
            ]
        },
        {
            "cell_type": "code",
            "execution_count": 263,
            "metadata": {},
            "outputs": [
                {
                    "data": {
                        "text/html": [
                            "<div>\n",
                            "<style scoped>\n",
                            "    .dataframe tbody tr th:only-of-type {\n",
                            "        vertical-align: middle;\n",
                            "    }\n",
                            "\n",
                            "    .dataframe tbody tr th {\n",
                            "        vertical-align: top;\n",
                            "    }\n",
                            "\n",
                            "    .dataframe thead th {\n",
                            "        text-align: right;\n",
                            "    }\n",
                            "</style>\n",
                            "<table border=\"1\" class=\"dataframe\">\n",
                            "  <thead>\n",
                            "    <tr style=\"text-align: right;\">\n",
                            "      <th></th>\n",
                            "      <th>Pregnancies</th>\n",
                            "      <th>Glucose</th>\n",
                            "      <th>BloodPressure</th>\n",
                            "      <th>SkinThickness</th>\n",
                            "      <th>Insulin</th>\n",
                            "      <th>BMI</th>\n",
                            "      <th>DiabetesPedigreeFunction</th>\n",
                            "      <th>Age</th>\n",
                            "      <th>Outcome</th>\n",
                            "    </tr>\n",
                            "  </thead>\n",
                            "  <tbody>\n",
                            "    <tr>\n",
                            "      <th>count</th>\n",
                            "      <td>768.000000</td>\n",
                            "      <td>768.000000</td>\n",
                            "      <td>768.000000</td>\n",
                            "      <td>768.000000</td>\n",
                            "      <td>768.000000</td>\n",
                            "      <td>768.00000</td>\n",
                            "      <td>768.000000</td>\n",
                            "      <td>768.000000</td>\n",
                            "      <td>768.000000</td>\n",
                            "    </tr>\n",
                            "    <tr>\n",
                            "      <th>mean</th>\n",
                            "      <td>3.845052</td>\n",
                            "      <td>120.894531</td>\n",
                            "      <td>69.105469</td>\n",
                            "      <td>20.536458</td>\n",
                            "      <td>157.003527</td>\n",
                            "      <td>32.44642</td>\n",
                            "      <td>0.471876</td>\n",
                            "      <td>33.240885</td>\n",
                            "      <td>0.348958</td>\n",
                            "    </tr>\n",
                            "    <tr>\n",
                            "      <th>std</th>\n",
                            "      <td>3.369578</td>\n",
                            "      <td>31.972618</td>\n",
                            "      <td>19.355807</td>\n",
                            "      <td>15.952218</td>\n",
                            "      <td>88.860914</td>\n",
                            "      <td>6.87897</td>\n",
                            "      <td>0.331329</td>\n",
                            "      <td>11.760232</td>\n",
                            "      <td>0.476951</td>\n",
                            "    </tr>\n",
                            "    <tr>\n",
                            "      <th>min</th>\n",
                            "      <td>0.000000</td>\n",
                            "      <td>0.000000</td>\n",
                            "      <td>0.000000</td>\n",
                            "      <td>0.000000</td>\n",
                            "      <td>14.000000</td>\n",
                            "      <td>18.20000</td>\n",
                            "      <td>0.078000</td>\n",
                            "      <td>21.000000</td>\n",
                            "      <td>0.000000</td>\n",
                            "    </tr>\n",
                            "    <tr>\n",
                            "      <th>25%</th>\n",
                            "      <td>1.000000</td>\n",
                            "      <td>99.000000</td>\n",
                            "      <td>62.000000</td>\n",
                            "      <td>0.000000</td>\n",
                            "      <td>121.500000</td>\n",
                            "      <td>27.50000</td>\n",
                            "      <td>0.243750</td>\n",
                            "      <td>24.000000</td>\n",
                            "      <td>0.000000</td>\n",
                            "    </tr>\n",
                            "    <tr>\n",
                            "      <th>50%</th>\n",
                            "      <td>3.000000</td>\n",
                            "      <td>117.000000</td>\n",
                            "      <td>72.000000</td>\n",
                            "      <td>23.000000</td>\n",
                            "      <td>130.287879</td>\n",
                            "      <td>32.05000</td>\n",
                            "      <td>0.372500</td>\n",
                            "      <td>29.000000</td>\n",
                            "      <td>0.000000</td>\n",
                            "    </tr>\n",
                            "    <tr>\n",
                            "      <th>75%</th>\n",
                            "      <td>6.000000</td>\n",
                            "      <td>140.250000</td>\n",
                            "      <td>80.000000</td>\n",
                            "      <td>32.000000</td>\n",
                            "      <td>206.846154</td>\n",
                            "      <td>36.60000</td>\n",
                            "      <td>0.626250</td>\n",
                            "      <td>41.000000</td>\n",
                            "      <td>1.000000</td>\n",
                            "    </tr>\n",
                            "    <tr>\n",
                            "      <th>max</th>\n",
                            "      <td>17.000000</td>\n",
                            "      <td>199.000000</td>\n",
                            "      <td>122.000000</td>\n",
                            "      <td>99.000000</td>\n",
                            "      <td>846.000000</td>\n",
                            "      <td>67.10000</td>\n",
                            "      <td>2.420000</td>\n",
                            "      <td>81.000000</td>\n",
                            "      <td>1.000000</td>\n",
                            "    </tr>\n",
                            "  </tbody>\n",
                            "</table>\n",
                            "</div>"
                        ],
                        "text/plain": [
                            "       Pregnancies     Glucose  BloodPressure  SkinThickness     Insulin  \\\n",
                            "count   768.000000  768.000000     768.000000     768.000000  768.000000   \n",
                            "mean      3.845052  120.894531      69.105469      20.536458  157.003527   \n",
                            "std       3.369578   31.972618      19.355807      15.952218   88.860914   \n",
                            "min       0.000000    0.000000       0.000000       0.000000   14.000000   \n",
                            "25%       1.000000   99.000000      62.000000       0.000000  121.500000   \n",
                            "50%       3.000000  117.000000      72.000000      23.000000  130.287879   \n",
                            "75%       6.000000  140.250000      80.000000      32.000000  206.846154   \n",
                            "max      17.000000  199.000000     122.000000      99.000000  846.000000   \n",
                            "\n",
                            "             BMI  DiabetesPedigreeFunction         Age     Outcome  \n",
                            "count  768.00000                768.000000  768.000000  768.000000  \n",
                            "mean    32.44642                  0.471876   33.240885    0.348958  \n",
                            "std      6.87897                  0.331329   11.760232    0.476951  \n",
                            "min     18.20000                  0.078000   21.000000    0.000000  \n",
                            "25%     27.50000                  0.243750   24.000000    0.000000  \n",
                            "50%     32.05000                  0.372500   29.000000    0.000000  \n",
                            "75%     36.60000                  0.626250   41.000000    1.000000  \n",
                            "max     67.10000                  2.420000   81.000000    1.000000  "
                        ]
                    },
                    "execution_count": 263,
                    "metadata": {},
                    "output_type": "execute_result"
                }
            ],
            "source": [
                "df_raw.describe()"
            ]
        },
        {
            "cell_type": "code",
            "execution_count": 264,
            "metadata": {},
            "outputs": [],
            "source": [
                "\n",
                "#Glucose\n",
                "df_0=df_raw[(df_raw['Outcome']==0) & (df_raw[\"Glucose\"] > 0)]\n",
                "glucose_mean_0=df_0['Glucose'].mean()\n",
                "\n",
                "df_no0=df_raw[(df_raw['Outcome']!=0) & (df_raw[\"Glucose\"] > 0)]\n",
                "glucose_mean_no0=df_no0['Glucose'].mean()\n",
                "\n",
                "def glucose_fun(glucose_value, outcome_value, glucose_mean_0,glucose_mean_no0):\n",
                "    if outcome_value==0 and glucose_value==0:\n",
                "        return glucose_mean_0\n",
                "    elif outcome_value==1 and glucose_value==0:\n",
                "        return glucose_mean_no0\n",
                "    else:\n",
                "        return glucose_value"
            ]
        },
        {
            "cell_type": "code",
            "execution_count": 265,
            "metadata": {},
            "outputs": [],
            "source": [
                "df_raw['Glucose'] = df_raw.apply(lambda x: glucose_fun(x['Glucose'], x['Outcome'],glucose_mean_0,glucose_mean_no0), axis=1)"
            ]
        },
        {
            "cell_type": "code",
            "execution_count": 266,
            "metadata": {},
            "outputs": [
                {
                    "data": {
                        "text/html": [
                            "<div>\n",
                            "<style scoped>\n",
                            "    .dataframe tbody tr th:only-of-type {\n",
                            "        vertical-align: middle;\n",
                            "    }\n",
                            "\n",
                            "    .dataframe tbody tr th {\n",
                            "        vertical-align: top;\n",
                            "    }\n",
                            "\n",
                            "    .dataframe thead th {\n",
                            "        text-align: right;\n",
                            "    }\n",
                            "</style>\n",
                            "<table border=\"1\" class=\"dataframe\">\n",
                            "  <thead>\n",
                            "    <tr style=\"text-align: right;\">\n",
                            "      <th></th>\n",
                            "      <th>Pregnancies</th>\n",
                            "      <th>Glucose</th>\n",
                            "      <th>BloodPressure</th>\n",
                            "      <th>SkinThickness</th>\n",
                            "      <th>Insulin</th>\n",
                            "      <th>BMI</th>\n",
                            "      <th>DiabetesPedigreeFunction</th>\n",
                            "      <th>Age</th>\n",
                            "      <th>Outcome</th>\n",
                            "    </tr>\n",
                            "  </thead>\n",
                            "  <tbody>\n",
                            "    <tr>\n",
                            "      <th>count</th>\n",
                            "      <td>768.000000</td>\n",
                            "      <td>768.000000</td>\n",
                            "      <td>768.000000</td>\n",
                            "      <td>768.000000</td>\n",
                            "      <td>768.000000</td>\n",
                            "      <td>768.00000</td>\n",
                            "      <td>768.000000</td>\n",
                            "      <td>768.000000</td>\n",
                            "      <td>768.000000</td>\n",
                            "    </tr>\n",
                            "    <tr>\n",
                            "      <th>mean</th>\n",
                            "      <td>3.845052</td>\n",
                            "      <td>121.697358</td>\n",
                            "      <td>69.105469</td>\n",
                            "      <td>20.536458</td>\n",
                            "      <td>157.003527</td>\n",
                            "      <td>32.44642</td>\n",
                            "      <td>0.471876</td>\n",
                            "      <td>33.240885</td>\n",
                            "      <td>0.348958</td>\n",
                            "    </tr>\n",
                            "    <tr>\n",
                            "      <th>std</th>\n",
                            "      <td>3.369578</td>\n",
                            "      <td>30.462008</td>\n",
                            "      <td>19.355807</td>\n",
                            "      <td>15.952218</td>\n",
                            "      <td>88.860914</td>\n",
                            "      <td>6.87897</td>\n",
                            "      <td>0.331329</td>\n",
                            "      <td>11.760232</td>\n",
                            "      <td>0.476951</td>\n",
                            "    </tr>\n",
                            "    <tr>\n",
                            "      <th>min</th>\n",
                            "      <td>0.000000</td>\n",
                            "      <td>44.000000</td>\n",
                            "      <td>0.000000</td>\n",
                            "      <td>0.000000</td>\n",
                            "      <td>14.000000</td>\n",
                            "      <td>18.20000</td>\n",
                            "      <td>0.078000</td>\n",
                            "      <td>21.000000</td>\n",
                            "      <td>0.000000</td>\n",
                            "    </tr>\n",
                            "    <tr>\n",
                            "      <th>25%</th>\n",
                            "      <td>1.000000</td>\n",
                            "      <td>99.750000</td>\n",
                            "      <td>62.000000</td>\n",
                            "      <td>0.000000</td>\n",
                            "      <td>121.500000</td>\n",
                            "      <td>27.50000</td>\n",
                            "      <td>0.243750</td>\n",
                            "      <td>24.000000</td>\n",
                            "      <td>0.000000</td>\n",
                            "    </tr>\n",
                            "    <tr>\n",
                            "      <th>50%</th>\n",
                            "      <td>3.000000</td>\n",
                            "      <td>117.000000</td>\n",
                            "      <td>72.000000</td>\n",
                            "      <td>23.000000</td>\n",
                            "      <td>130.287879</td>\n",
                            "      <td>32.05000</td>\n",
                            "      <td>0.372500</td>\n",
                            "      <td>29.000000</td>\n",
                            "      <td>0.000000</td>\n",
                            "    </tr>\n",
                            "    <tr>\n",
                            "      <th>75%</th>\n",
                            "      <td>6.000000</td>\n",
                            "      <td>141.000000</td>\n",
                            "      <td>80.000000</td>\n",
                            "      <td>32.000000</td>\n",
                            "      <td>206.846154</td>\n",
                            "      <td>36.60000</td>\n",
                            "      <td>0.626250</td>\n",
                            "      <td>41.000000</td>\n",
                            "      <td>1.000000</td>\n",
                            "    </tr>\n",
                            "    <tr>\n",
                            "      <th>max</th>\n",
                            "      <td>17.000000</td>\n",
                            "      <td>199.000000</td>\n",
                            "      <td>122.000000</td>\n",
                            "      <td>99.000000</td>\n",
                            "      <td>846.000000</td>\n",
                            "      <td>67.10000</td>\n",
                            "      <td>2.420000</td>\n",
                            "      <td>81.000000</td>\n",
                            "      <td>1.000000</td>\n",
                            "    </tr>\n",
                            "  </tbody>\n",
                            "</table>\n",
                            "</div>"
                        ],
                        "text/plain": [
                            "       Pregnancies     Glucose  BloodPressure  SkinThickness     Insulin  \\\n",
                            "count   768.000000  768.000000     768.000000     768.000000  768.000000   \n",
                            "mean      3.845052  121.697358      69.105469      20.536458  157.003527   \n",
                            "std       3.369578   30.462008      19.355807      15.952218   88.860914   \n",
                            "min       0.000000   44.000000       0.000000       0.000000   14.000000   \n",
                            "25%       1.000000   99.750000      62.000000       0.000000  121.500000   \n",
                            "50%       3.000000  117.000000      72.000000      23.000000  130.287879   \n",
                            "75%       6.000000  141.000000      80.000000      32.000000  206.846154   \n",
                            "max      17.000000  199.000000     122.000000      99.000000  846.000000   \n",
                            "\n",
                            "             BMI  DiabetesPedigreeFunction         Age     Outcome  \n",
                            "count  768.00000                768.000000  768.000000  768.000000  \n",
                            "mean    32.44642                  0.471876   33.240885    0.348958  \n",
                            "std      6.87897                  0.331329   11.760232    0.476951  \n",
                            "min     18.20000                  0.078000   21.000000    0.000000  \n",
                            "25%     27.50000                  0.243750   24.000000    0.000000  \n",
                            "50%     32.05000                  0.372500   29.000000    0.000000  \n",
                            "75%     36.60000                  0.626250   41.000000    1.000000  \n",
                            "max     67.10000                  2.420000   81.000000    1.000000  "
                        ]
                    },
                    "execution_count": 266,
                    "metadata": {},
                    "output_type": "execute_result"
                }
            ],
            "source": [
                "df_raw.describe()"
            ]
        },
        {
            "cell_type": "code",
            "execution_count": 267,
            "metadata": {},
            "outputs": [],
            "source": [
                "\n",
                "#BloodPressure\n",
                "df_0=df_raw[(df_raw['Outcome']==0) & (df_raw[\"BloodPressure\"] > 0)]\n",
                "BloodPressure_mean_0=df_0['BloodPressure'].mean()\n",
                "\n",
                "df_no0=df_raw[(df_raw['Outcome']!=0) & (df_raw[\"BloodPressure\"] > 0)]\n",
                "BloodPressure_mean_no0=df_no0['BloodPressure'].mean()\n",
                "\n",
                "def BloodPressure_fun(BloodPressure_value, outcome_value, BloodPressure_mean_0,BloodPressure_mean_no0):\n",
                "    if outcome_value==0 and BloodPressure_value==0:\n",
                "        return BloodPressure_mean_0\n",
                "    elif outcome_value==1 and BloodPressure_value==0:\n",
                "        return BloodPressure_mean_no0\n",
                "    else:\n",
                "        return BloodPressure_value"
            ]
        },
        {
            "cell_type": "code",
            "execution_count": 268,
            "metadata": {},
            "outputs": [],
            "source": [
                "df_raw['BloodPressure'] = df_raw.apply(lambda x: BloodPressure_fun(x['BloodPressure'], x['Outcome'],BloodPressure_mean_0,BloodPressure_mean_no0), axis=1)"
            ]
        },
        {
            "cell_type": "code",
            "execution_count": 269,
            "metadata": {},
            "outputs": [
                {
                    "data": {
                        "text/html": [
                            "<div>\n",
                            "<style scoped>\n",
                            "    .dataframe tbody tr th:only-of-type {\n",
                            "        vertical-align: middle;\n",
                            "    }\n",
                            "\n",
                            "    .dataframe tbody tr th {\n",
                            "        vertical-align: top;\n",
                            "    }\n",
                            "\n",
                            "    .dataframe thead th {\n",
                            "        text-align: right;\n",
                            "    }\n",
                            "</style>\n",
                            "<table border=\"1\" class=\"dataframe\">\n",
                            "  <thead>\n",
                            "    <tr style=\"text-align: right;\">\n",
                            "      <th></th>\n",
                            "      <th>Pregnancies</th>\n",
                            "      <th>Glucose</th>\n",
                            "      <th>BloodPressure</th>\n",
                            "      <th>SkinThickness</th>\n",
                            "      <th>Insulin</th>\n",
                            "      <th>BMI</th>\n",
                            "      <th>DiabetesPedigreeFunction</th>\n",
                            "      <th>Age</th>\n",
                            "      <th>Outcome</th>\n",
                            "    </tr>\n",
                            "  </thead>\n",
                            "  <tbody>\n",
                            "    <tr>\n",
                            "      <th>count</th>\n",
                            "      <td>768.000000</td>\n",
                            "      <td>768.000000</td>\n",
                            "      <td>768.000000</td>\n",
                            "      <td>768.000000</td>\n",
                            "      <td>768.000000</td>\n",
                            "      <td>768.00000</td>\n",
                            "      <td>768.000000</td>\n",
                            "      <td>768.000000</td>\n",
                            "      <td>768.000000</td>\n",
                            "    </tr>\n",
                            "    <tr>\n",
                            "      <th>mean</th>\n",
                            "      <td>3.845052</td>\n",
                            "      <td>121.697358</td>\n",
                            "      <td>72.428141</td>\n",
                            "      <td>20.536458</td>\n",
                            "      <td>157.003527</td>\n",
                            "      <td>32.44642</td>\n",
                            "      <td>0.471876</td>\n",
                            "      <td>33.240885</td>\n",
                            "      <td>0.348958</td>\n",
                            "    </tr>\n",
                            "    <tr>\n",
                            "      <th>std</th>\n",
                            "      <td>3.369578</td>\n",
                            "      <td>30.462008</td>\n",
                            "      <td>12.106044</td>\n",
                            "      <td>15.952218</td>\n",
                            "      <td>88.860914</td>\n",
                            "      <td>6.87897</td>\n",
                            "      <td>0.331329</td>\n",
                            "      <td>11.760232</td>\n",
                            "      <td>0.476951</td>\n",
                            "    </tr>\n",
                            "    <tr>\n",
                            "      <th>min</th>\n",
                            "      <td>0.000000</td>\n",
                            "      <td>44.000000</td>\n",
                            "      <td>24.000000</td>\n",
                            "      <td>0.000000</td>\n",
                            "      <td>14.000000</td>\n",
                            "      <td>18.20000</td>\n",
                            "      <td>0.078000</td>\n",
                            "      <td>21.000000</td>\n",
                            "      <td>0.000000</td>\n",
                            "    </tr>\n",
                            "    <tr>\n",
                            "      <th>25%</th>\n",
                            "      <td>1.000000</td>\n",
                            "      <td>99.750000</td>\n",
                            "      <td>64.000000</td>\n",
                            "      <td>0.000000</td>\n",
                            "      <td>121.500000</td>\n",
                            "      <td>27.50000</td>\n",
                            "      <td>0.243750</td>\n",
                            "      <td>24.000000</td>\n",
                            "      <td>0.000000</td>\n",
                            "    </tr>\n",
                            "    <tr>\n",
                            "      <th>50%</th>\n",
                            "      <td>3.000000</td>\n",
                            "      <td>117.000000</td>\n",
                            "      <td>72.000000</td>\n",
                            "      <td>23.000000</td>\n",
                            "      <td>130.287879</td>\n",
                            "      <td>32.05000</td>\n",
                            "      <td>0.372500</td>\n",
                            "      <td>29.000000</td>\n",
                            "      <td>0.000000</td>\n",
                            "    </tr>\n",
                            "    <tr>\n",
                            "      <th>75%</th>\n",
                            "      <td>6.000000</td>\n",
                            "      <td>141.000000</td>\n",
                            "      <td>80.000000</td>\n",
                            "      <td>32.000000</td>\n",
                            "      <td>206.846154</td>\n",
                            "      <td>36.60000</td>\n",
                            "      <td>0.626250</td>\n",
                            "      <td>41.000000</td>\n",
                            "      <td>1.000000</td>\n",
                            "    </tr>\n",
                            "    <tr>\n",
                            "      <th>max</th>\n",
                            "      <td>17.000000</td>\n",
                            "      <td>199.000000</td>\n",
                            "      <td>122.000000</td>\n",
                            "      <td>99.000000</td>\n",
                            "      <td>846.000000</td>\n",
                            "      <td>67.10000</td>\n",
                            "      <td>2.420000</td>\n",
                            "      <td>81.000000</td>\n",
                            "      <td>1.000000</td>\n",
                            "    </tr>\n",
                            "  </tbody>\n",
                            "</table>\n",
                            "</div>"
                        ],
                        "text/plain": [
                            "       Pregnancies     Glucose  BloodPressure  SkinThickness     Insulin  \\\n",
                            "count   768.000000  768.000000     768.000000     768.000000  768.000000   \n",
                            "mean      3.845052  121.697358      72.428141      20.536458  157.003527   \n",
                            "std       3.369578   30.462008      12.106044      15.952218   88.860914   \n",
                            "min       0.000000   44.000000      24.000000       0.000000   14.000000   \n",
                            "25%       1.000000   99.750000      64.000000       0.000000  121.500000   \n",
                            "50%       3.000000  117.000000      72.000000      23.000000  130.287879   \n",
                            "75%       6.000000  141.000000      80.000000      32.000000  206.846154   \n",
                            "max      17.000000  199.000000     122.000000      99.000000  846.000000   \n",
                            "\n",
                            "             BMI  DiabetesPedigreeFunction         Age     Outcome  \n",
                            "count  768.00000                768.000000  768.000000  768.000000  \n",
                            "mean    32.44642                  0.471876   33.240885    0.348958  \n",
                            "std      6.87897                  0.331329   11.760232    0.476951  \n",
                            "min     18.20000                  0.078000   21.000000    0.000000  \n",
                            "25%     27.50000                  0.243750   24.000000    0.000000  \n",
                            "50%     32.05000                  0.372500   29.000000    0.000000  \n",
                            "75%     36.60000                  0.626250   41.000000    1.000000  \n",
                            "max     67.10000                  2.420000   81.000000    1.000000  "
                        ]
                    },
                    "execution_count": 269,
                    "metadata": {},
                    "output_type": "execute_result"
                }
            ],
            "source": [
                "df_raw.describe()"
            ]
        },
        {
            "cell_type": "code",
            "execution_count": 270,
            "metadata": {},
            "outputs": [],
            "source": [
                "\n",
                "#SkinThickness\n",
                "df_0=df_raw[(df_raw['Outcome']==0) & (df_raw[\"SkinThickness\"] > 0)]\n",
                "SkinThickness_mean_0=df_0['SkinThickness'].mean()\n",
                "\n",
                "df_no0=df_raw[(df_raw['Outcome']!=0) & (df_raw[\"SkinThickness\"] > 0)]\n",
                "SkinThickness_mean_no0=df_no0['SkinThickness'].mean()\n",
                "\n",
                "def SkinThickness_fun(SkinThickness_value, outcome_value, SkinThickness_mean_0,SkinThickness_mean_no0):\n",
                "    if outcome_value==0 and SkinThickness_value==0:\n",
                "        return SkinThickness_mean_0\n",
                "    elif outcome_value==1 and SkinThickness_value==0:\n",
                "        return SkinThickness_mean_no0\n",
                "    else:\n",
                "        return SkinThickness_value"
            ]
        },
        {
            "cell_type": "code",
            "execution_count": 271,
            "metadata": {},
            "outputs": [],
            "source": [
                "df_raw['SkinThickness'] = df_raw.apply(lambda x: SkinThickness_fun(x['SkinThickness'], x['Outcome'],SkinThickness_mean_0,SkinThickness_mean_no0), axis=1)"
            ]
        },
        {
            "cell_type": "code",
            "execution_count": 272,
            "metadata": {},
            "outputs": [
                {
                    "data": {
                        "text/html": [
                            "<div>\n",
                            "<style scoped>\n",
                            "    .dataframe tbody tr th:only-of-type {\n",
                            "        vertical-align: middle;\n",
                            "    }\n",
                            "\n",
                            "    .dataframe tbody tr th {\n",
                            "        vertical-align: top;\n",
                            "    }\n",
                            "\n",
                            "    .dataframe thead th {\n",
                            "        text-align: right;\n",
                            "    }\n",
                            "</style>\n",
                            "<table border=\"1\" class=\"dataframe\">\n",
                            "  <thead>\n",
                            "    <tr style=\"text-align: right;\">\n",
                            "      <th></th>\n",
                            "      <th>Pregnancies</th>\n",
                            "      <th>Glucose</th>\n",
                            "      <th>BloodPressure</th>\n",
                            "      <th>SkinThickness</th>\n",
                            "      <th>Insulin</th>\n",
                            "      <th>BMI</th>\n",
                            "      <th>DiabetesPedigreeFunction</th>\n",
                            "      <th>Age</th>\n",
                            "      <th>Outcome</th>\n",
                            "    </tr>\n",
                            "  </thead>\n",
                            "  <tbody>\n",
                            "    <tr>\n",
                            "      <th>count</th>\n",
                            "      <td>768.000000</td>\n",
                            "      <td>768.000000</td>\n",
                            "      <td>768.000000</td>\n",
                            "      <td>768.000000</td>\n",
                            "      <td>768.000000</td>\n",
                            "      <td>768.00000</td>\n",
                            "      <td>768.000000</td>\n",
                            "      <td>768.000000</td>\n",
                            "      <td>768.000000</td>\n",
                            "    </tr>\n",
                            "    <tr>\n",
                            "      <th>mean</th>\n",
                            "      <td>3.845052</td>\n",
                            "      <td>121.697358</td>\n",
                            "      <td>72.428141</td>\n",
                            "      <td>29.247042</td>\n",
                            "      <td>157.003527</td>\n",
                            "      <td>32.44642</td>\n",
                            "      <td>0.471876</td>\n",
                            "      <td>33.240885</td>\n",
                            "      <td>0.348958</td>\n",
                            "    </tr>\n",
                            "    <tr>\n",
                            "      <th>std</th>\n",
                            "      <td>3.369578</td>\n",
                            "      <td>30.462008</td>\n",
                            "      <td>12.106044</td>\n",
                            "      <td>8.923908</td>\n",
                            "      <td>88.860914</td>\n",
                            "      <td>6.87897</td>\n",
                            "      <td>0.331329</td>\n",
                            "      <td>11.760232</td>\n",
                            "      <td>0.476951</td>\n",
                            "    </tr>\n",
                            "    <tr>\n",
                            "      <th>min</th>\n",
                            "      <td>0.000000</td>\n",
                            "      <td>44.000000</td>\n",
                            "      <td>24.000000</td>\n",
                            "      <td>7.000000</td>\n",
                            "      <td>14.000000</td>\n",
                            "      <td>18.20000</td>\n",
                            "      <td>0.078000</td>\n",
                            "      <td>21.000000</td>\n",
                            "      <td>0.000000</td>\n",
                            "    </tr>\n",
                            "    <tr>\n",
                            "      <th>25%</th>\n",
                            "      <td>1.000000</td>\n",
                            "      <td>99.750000</td>\n",
                            "      <td>64.000000</td>\n",
                            "      <td>25.000000</td>\n",
                            "      <td>121.500000</td>\n",
                            "      <td>27.50000</td>\n",
                            "      <td>0.243750</td>\n",
                            "      <td>24.000000</td>\n",
                            "      <td>0.000000</td>\n",
                            "    </tr>\n",
                            "    <tr>\n",
                            "      <th>50%</th>\n",
                            "      <td>3.000000</td>\n",
                            "      <td>117.000000</td>\n",
                            "      <td>72.000000</td>\n",
                            "      <td>28.000000</td>\n",
                            "      <td>130.287879</td>\n",
                            "      <td>32.05000</td>\n",
                            "      <td>0.372500</td>\n",
                            "      <td>29.000000</td>\n",
                            "      <td>0.000000</td>\n",
                            "    </tr>\n",
                            "    <tr>\n",
                            "      <th>75%</th>\n",
                            "      <td>6.000000</td>\n",
                            "      <td>141.000000</td>\n",
                            "      <td>80.000000</td>\n",
                            "      <td>33.000000</td>\n",
                            "      <td>206.846154</td>\n",
                            "      <td>36.60000</td>\n",
                            "      <td>0.626250</td>\n",
                            "      <td>41.000000</td>\n",
                            "      <td>1.000000</td>\n",
                            "    </tr>\n",
                            "    <tr>\n",
                            "      <th>max</th>\n",
                            "      <td>17.000000</td>\n",
                            "      <td>199.000000</td>\n",
                            "      <td>122.000000</td>\n",
                            "      <td>99.000000</td>\n",
                            "      <td>846.000000</td>\n",
                            "      <td>67.10000</td>\n",
                            "      <td>2.420000</td>\n",
                            "      <td>81.000000</td>\n",
                            "      <td>1.000000</td>\n",
                            "    </tr>\n",
                            "  </tbody>\n",
                            "</table>\n",
                            "</div>"
                        ],
                        "text/plain": [
                            "       Pregnancies     Glucose  BloodPressure  SkinThickness     Insulin  \\\n",
                            "count   768.000000  768.000000     768.000000     768.000000  768.000000   \n",
                            "mean      3.845052  121.697358      72.428141      29.247042  157.003527   \n",
                            "std       3.369578   30.462008      12.106044       8.923908   88.860914   \n",
                            "min       0.000000   44.000000      24.000000       7.000000   14.000000   \n",
                            "25%       1.000000   99.750000      64.000000      25.000000  121.500000   \n",
                            "50%       3.000000  117.000000      72.000000      28.000000  130.287879   \n",
                            "75%       6.000000  141.000000      80.000000      33.000000  206.846154   \n",
                            "max      17.000000  199.000000     122.000000      99.000000  846.000000   \n",
                            "\n",
                            "             BMI  DiabetesPedigreeFunction         Age     Outcome  \n",
                            "count  768.00000                768.000000  768.000000  768.000000  \n",
                            "mean    32.44642                  0.471876   33.240885    0.348958  \n",
                            "std      6.87897                  0.331329   11.760232    0.476951  \n",
                            "min     18.20000                  0.078000   21.000000    0.000000  \n",
                            "25%     27.50000                  0.243750   24.000000    0.000000  \n",
                            "50%     32.05000                  0.372500   29.000000    0.000000  \n",
                            "75%     36.60000                  0.626250   41.000000    1.000000  \n",
                            "max     67.10000                  2.420000   81.000000    1.000000  "
                        ]
                    },
                    "execution_count": 272,
                    "metadata": {},
                    "output_type": "execute_result"
                }
            ],
            "source": [
                "df_raw.describe()"
            ]
        },
        {
            "cell_type": "code",
            "execution_count": 273,
            "metadata": {},
            "outputs": [
                {
                    "data": {
                        "text/plain": [
                            "\"\\n\\ndef set_value (data_value, outcome_value,mean_nodiab,mean_diab):\\n    if (outcome_value == 0 and data_value==0):\\n        return mean_nodiab\\n    elif (outcome_value ==1 and data_value ==0 ):\\n        return mean_diab\\n    else:\\n        return data_value\\n\\n#calc the mean for diabetic and not diabetic that the data is not 0\\ndef set_use_mean (name_col):\\n    meanNoDiab = df_raw[(df_raw[name_col]>0) & (df_raw['Outcome']==0)][name_col].mean()\\n    meanDiab = df_raw[(df_raw[name_col]>0) & (df_raw['Outcome']==1)][name_col].mean()\\n\\ndf_raw[name_col] = df_raw.apply(lambda x: set_value(x[name_col], x['Outcome'],meanNoDiab,meanDiab), axis=1)\\n\\nset_use_mean('Insulin')\\ndf_raw.describe()\""
                        ]
                    },
                    "execution_count": 273,
                    "metadata": {},
                    "output_type": "execute_result"
                }
            ],
            "source": [
                "##generico\n",
                "#X = my_dataframe[features_list].copy()\n",
                "\"\"\"\n",
                "\n",
                "def set_value (data_value, outcome_value,mean_nodiab,mean_diab):\n",
                "    if (outcome_value == 0 and data_value==0):\n",
                "        return mean_nodiab\n",
                "    elif (outcome_value ==1 and data_value ==0 ):\n",
                "        return mean_diab\n",
                "    else:\n",
                "        return data_value\n",
                "\n",
                "#calc the mean for diabetic and not diabetic that the data is not 0\n",
                "def set_use_mean (name_col):\n",
                "    meanNoDiab = df_raw[(df_raw[name_col]>0) & (df_raw['Outcome']==0)][name_col].mean()\n",
                "    meanDiab = df_raw[(df_raw[name_col]>0) & (df_raw['Outcome']==1)][name_col].mean()\n",
                "\n",
                "df_raw[name_col] = df_raw.apply(lambda x: set_value(x[name_col], x['Outcome'],meanNoDiab,meanDiab), axis=1)\n",
                "\n",
                "set_use_mean('Insulin')\n",
                "df_raw.describe()\"\"\""
            ]
        },
        {
            "cell_type": "markdown",
            "metadata": {},
            "source": [
                "Find correlations"
            ]
        },
        {
            "cell_type": "code",
            "execution_count": 274,
            "metadata": {},
            "outputs": [
                {
                    "name": "stdout",
                    "output_type": "stream",
                    "text": [
                        "                          Pregnancies   Glucose  BloodPressure  SkinThickness  \\\n",
                        "Pregnancies                  1.000000  0.129867       0.208935       0.094172   \n",
                        "Glucose                      0.129867  1.000000       0.224356       0.235040   \n",
                        "BloodPressure                0.208935  0.224356       1.000000       0.203453   \n",
                        "SkinThickness                0.094172  0.235040       0.203453       1.000000   \n",
                        "Insulin                      0.093546  0.497789       0.099996       0.212573   \n",
                        "BMI                          0.024127  0.235253       0.286518       0.565443   \n",
                        "DiabetesPedigreeFunction    -0.033523  0.138125      -0.002264       0.102426   \n",
                        "Age                          0.544341  0.268566       0.324439       0.135916   \n",
                        "Outcome                      0.221898  0.495954       0.175087       0.308094   \n",
                        "\n",
                        "                           Insulin       BMI  DiabetesPedigreeFunction  \\\n",
                        "Pregnancies               0.093546  0.024127                 -0.033523   \n",
                        "Glucose                   0.497789  0.235253                  0.138125   \n",
                        "BloodPressure             0.099996  0.286518                 -0.002264   \n",
                        "SkinThickness             0.212573  0.565443                  0.102426   \n",
                        "Insulin                   1.000000  0.231533                  0.121716   \n",
                        "BMI                       0.231533  1.000000                  0.152530   \n",
                        "DiabetesPedigreeFunction  0.121716  0.152530                  1.000000   \n",
                        "Age                       0.165149  0.027578                  0.033561   \n",
                        "Outcome                   0.410918  0.315271                  0.173844   \n",
                        "\n",
                        "                               Age   Outcome  \n",
                        "Pregnancies               0.544341  0.221898  \n",
                        "Glucose                   0.268566  0.495954  \n",
                        "BloodPressure             0.324439  0.175087  \n",
                        "SkinThickness             0.135916  0.308094  \n",
                        "Insulin                   0.165149  0.410918  \n",
                        "BMI                       0.027578  0.315271  \n",
                        "DiabetesPedigreeFunction  0.033561  0.173844  \n",
                        "Age                       1.000000  0.238356  \n",
                        "Outcome                   0.238356  1.000000  \n"
                    ]
                },
                {
                    "data": {
                        "image/png": "[encoded data removed]",
                        "text/plain": [
                            "<Figure size 1152x864 with 2 Axes>"
                        ]
                    },
                    "metadata": {
                        "needs_background": "light"
                    },
                    "output_type": "display_data"
                }
            ],
            "source": [
                "print(df_raw.corr())\n",
                "f, ax = plt.subplots(figsize=(16, 12))\n",
                "sns.heatmap(df_raw.corr(), annot=True)\n",
                "plt.show()"
            ]
        },
        {
            "cell_type": "markdown",
            "metadata": {},
            "source": [
                "Resample the data to make a more balanced dataset"
            ]
        },
        {
            "cell_type": "code",
            "execution_count": 275,
            "metadata": {},
            "outputs": [
                {
                    "data": {
                        "text/plain": [
                            "0    500\n",
                            "1    268\n",
                            "Name: Outcome, dtype: int64"
                        ]
                    },
                    "execution_count": 275,
                    "metadata": {},
                    "output_type": "execute_result"
                }
            ],
            "source": [
                "from sklearn.utils import resample\n",
                "df_majority = df_raw[(df_raw[\"Outcome\"]==0)]\n",
                "df_minority = df_raw[(df_raw[\"Outcome\"]==1)]\n",
                "df_minority_upsampled = resample(df_minority,replace=True,n_samples=500,random_state=42)\n",
                "df = pd.concat([df_minority_upsampled,df_majority])\n",
                "df_raw[\"Outcome\"].value_counts()"
            ]
        },
        {
            "cell_type": "code",
            "execution_count": 276,
            "metadata": {},
            "outputs": [
                {
                    "data": {
                        "text/html": [
                            "<div>\n",
                            "<style scoped>\n",
                            "    .dataframe tbody tr th:only-of-type {\n",
                            "        vertical-align: middle;\n",
                            "    }\n",
                            "\n",
                            "    .dataframe tbody tr th {\n",
                            "        vertical-align: top;\n",
                            "    }\n",
                            "\n",
                            "    .dataframe thead th {\n",
                            "        text-align: right;\n",
                            "    }\n",
                            "</style>\n",
                            "<table border=\"1\" class=\"dataframe\">\n",
                            "  <thead>\n",
                            "    <tr style=\"text-align: right;\">\n",
                            "      <th></th>\n",
                            "      <th>Pregnancies</th>\n",
                            "      <th>Glucose</th>\n",
                            "      <th>BloodPressure</th>\n",
                            "      <th>SkinThickness</th>\n",
                            "      <th>Insulin</th>\n",
                            "      <th>BMI</th>\n",
                            "      <th>DiabetesPedigreeFunction</th>\n",
                            "      <th>Age</th>\n",
                            "      <th>Outcome</th>\n",
                            "    </tr>\n",
                            "  </thead>\n",
                            "  <tbody>\n",
                            "    <tr>\n",
                            "      <th>count</th>\n",
                            "      <td>768.000000</td>\n",
                            "      <td>768.000000</td>\n",
                            "      <td>768.000000</td>\n",
                            "      <td>768.000000</td>\n",
                            "      <td>768.000000</td>\n",
                            "      <td>768.00000</td>\n",
                            "      <td>768.000000</td>\n",
                            "      <td>768.000000</td>\n",
                            "      <td>768.000000</td>\n",
                            "    </tr>\n",
                            "    <tr>\n",
                            "      <th>mean</th>\n",
                            "      <td>3.845052</td>\n",
                            "      <td>121.697358</td>\n",
                            "      <td>72.428141</td>\n",
                            "      <td>29.247042</td>\n",
                            "      <td>157.003527</td>\n",
                            "      <td>32.44642</td>\n",
                            "      <td>0.471876</td>\n",
                            "      <td>33.240885</td>\n",
                            "      <td>0.348958</td>\n",
                            "    </tr>\n",
                            "    <tr>\n",
                            "      <th>std</th>\n",
                            "      <td>3.369578</td>\n",
                            "      <td>30.462008</td>\n",
                            "      <td>12.106044</td>\n",
                            "      <td>8.923908</td>\n",
                            "      <td>88.860914</td>\n",
                            "      <td>6.87897</td>\n",
                            "      <td>0.331329</td>\n",
                            "      <td>11.760232</td>\n",
                            "      <td>0.476951</td>\n",
                            "    </tr>\n",
                            "    <tr>\n",
                            "      <th>min</th>\n",
                            "      <td>0.000000</td>\n",
                            "      <td>44.000000</td>\n",
                            "      <td>24.000000</td>\n",
                            "      <td>7.000000</td>\n",
                            "      <td>14.000000</td>\n",
                            "      <td>18.20000</td>\n",
                            "      <td>0.078000</td>\n",
                            "      <td>21.000000</td>\n",
                            "      <td>0.000000</td>\n",
                            "    </tr>\n",
                            "    <tr>\n",
                            "      <th>25%</th>\n",
                            "      <td>1.000000</td>\n",
                            "      <td>99.750000</td>\n",
                            "      <td>64.000000</td>\n",
                            "      <td>25.000000</td>\n",
                            "      <td>121.500000</td>\n",
                            "      <td>27.50000</td>\n",
                            "      <td>0.243750</td>\n",
                            "      <td>24.000000</td>\n",
                            "      <td>0.000000</td>\n",
                            "    </tr>\n",
                            "    <tr>\n",
                            "      <th>50%</th>\n",
                            "      <td>3.000000</td>\n",
                            "      <td>117.000000</td>\n",
                            "      <td>72.000000</td>\n",
                            "      <td>28.000000</td>\n",
                            "      <td>130.287879</td>\n",
                            "      <td>32.05000</td>\n",
                            "      <td>0.372500</td>\n",
                            "      <td>29.000000</td>\n",
                            "      <td>0.000000</td>\n",
                            "    </tr>\n",
                            "    <tr>\n",
                            "      <th>75%</th>\n",
                            "      <td>6.000000</td>\n",
                            "      <td>141.000000</td>\n",
                            "      <td>80.000000</td>\n",
                            "      <td>33.000000</td>\n",
                            "      <td>206.846154</td>\n",
                            "      <td>36.60000</td>\n",
                            "      <td>0.626250</td>\n",
                            "      <td>41.000000</td>\n",
                            "      <td>1.000000</td>\n",
                            "    </tr>\n",
                            "    <tr>\n",
                            "      <th>max</th>\n",
                            "      <td>17.000000</td>\n",
                            "      <td>199.000000</td>\n",
                            "      <td>122.000000</td>\n",
                            "      <td>99.000000</td>\n",
                            "      <td>846.000000</td>\n",
                            "      <td>67.10000</td>\n",
                            "      <td>2.420000</td>\n",
                            "      <td>81.000000</td>\n",
                            "      <td>1.000000</td>\n",
                            "    </tr>\n",
                            "  </tbody>\n",
                            "</table>\n",
                            "</div>"
                        ],
                        "text/plain": [
                            "       Pregnancies     Glucose  BloodPressure  SkinThickness     Insulin  \\\n",
                            "count   768.000000  768.000000     768.000000     768.000000  768.000000   \n",
                            "mean      3.845052  121.697358      72.428141      29.247042  157.003527   \n",
                            "std       3.369578   30.462008      12.106044       8.923908   88.860914   \n",
                            "min       0.000000   44.000000      24.000000       7.000000   14.000000   \n",
                            "25%       1.000000   99.750000      64.000000      25.000000  121.500000   \n",
                            "50%       3.000000  117.000000      72.000000      28.000000  130.287879   \n",
                            "75%       6.000000  141.000000      80.000000      33.000000  206.846154   \n",
                            "max      17.000000  199.000000     122.000000      99.000000  846.000000   \n",
                            "\n",
                            "             BMI  DiabetesPedigreeFunction         Age     Outcome  \n",
                            "count  768.00000                768.000000  768.000000  768.000000  \n",
                            "mean    32.44642                  0.471876   33.240885    0.348958  \n",
                            "std      6.87897                  0.331329   11.760232    0.476951  \n",
                            "min     18.20000                  0.078000   21.000000    0.000000  \n",
                            "25%     27.50000                  0.243750   24.000000    0.000000  \n",
                            "50%     32.05000                  0.372500   29.000000    0.000000  \n",
                            "75%     36.60000                  0.626250   41.000000    1.000000  \n",
                            "max     67.10000                  2.420000   81.000000    1.000000  "
                        ]
                    },
                    "execution_count": 276,
                    "metadata": {},
                    "output_type": "execute_result"
                }
            ],
            "source": [
                "df_raw.describe()\n",
                "\n"
            ]
        },
        {
            "cell_type": "markdown",
            "metadata": {},
            "source": [
                "Eliminating Outliers with IQR Method"
            ]
        },
        {
            "cell_type": "code",
            "execution_count": 277,
            "metadata": {},
            "outputs": [
                {
                    "data": {
                        "image/png": "[encoded data removed]",
                        "text/plain": [
                            "<Figure size 936x360 with 1 Axes>"
                        ]
                    },
                    "metadata": {
                        "needs_background": "light"
                    },
                    "output_type": "display_data"
                }
            ],
            "source": [
                "q1 = df_raw['Insulin'].quantile(0.25)\n",
                "q3 = df_raw['Insulin'].quantile(0.75)\n",
                "IQR = q3 - q1\n",
                "lower_limit = q1 - 1.5 * IQR\n",
                "upper_limit = q3 + 1.5 * IQR\n",
                "\n",
                "df_raw = df_raw[(df_raw['Insulin'] > lower_limit) & (df_raw['Insulin'] < upper_limit)]\n",
                "\n",
                "q1 = df_raw['Age'].quantile(0.25)\n",
                "q3 = df_raw['Age'].quantile(0.75)\n",
                "IQR = q3 - q1\n",
                "lower_limit = q1 - 1.5 * IQR\n",
                "upper_limit = q3 + 1.5 * IQR\n",
                "\n",
                "df_raw = df_raw[(df_raw['Age'] > lower_limit) & (df_raw['Age'] < upper_limit)]\n",
                "\n",
                "q1 = df_raw['Glucose'].quantile(0.25)\n",
                "q3 = df_raw['Glucose'].quantile(0.75)\n",
                "IQR = q3 - q1\n",
                "lower_limit = q1 - 1.5 * IQR\n",
                "upper_limit = q3 + 1.5 * IQR\n",
                "\n",
                "df_raw = df_raw[(df_raw['Glucose'] > lower_limit) & (df_raw['Glucose'] < upper_limit)]\n",
                "\n",
                "q1 = df_raw['BMI'].quantile(0.25)\n",
                "q3 = df_raw['BMI'].quantile(0.75)\n",
                "IQR = q3 - q1\n",
                "lower_limit = q1 - 1.5 * IQR\n",
                "upper_limit = q3 + 1.5 * IQR\n",
                "\n",
                "df_raw = df_raw[(df_raw['BMI'] > lower_limit) & (df_raw['BMI'] < upper_limit)]\n",
                "\n",
                "q1 = df_raw['Pregnancies'].quantile(0.25)\n",
                "q3 = df_raw['Pregnancies'].quantile(0.75)\n",
                "IQR = q3 - q1\n",
                "lower_limit = q1 - 1.5 * IQR\n",
                "upper_limit = q3 + 1.5 * IQR\n",
                "\n",
                "df_raw = df_raw[(df_raw['Pregnancies'] > lower_limit) & (df_raw['Pregnancies'] < upper_limit)]\n",
                "\n",
                "q1 = df_raw['DiabetesPedigreeFunction'].quantile(0.25)\n",
                "q3 = df_raw['DiabetesPedigreeFunction'].quantile(0.75)\n",
                "IQR = q3 - q1\n",
                "lower_limit = q1 - 1.5 * IQR\n",
                "upper_limit = q3 + 1.5 * IQR\n",
                "\n",
                "df_raw = df_raw[(df_raw['DiabetesPedigreeFunction'] > lower_limit) & (df_raw['DiabetesPedigreeFunction'] < upper_limit)]\n",
                "plt.figure(figsize=(13,5))\n",
                "sns.boxplot(data=df_raw,orient='h')\n",
                "plt.show()"
            ]
        },
        {
            "cell_type": "markdown",
            "metadata": {},
            "source": [
                " Separate features from target\n",
                "\n"
            ]
        },
        {
            "cell_type": "code",
            "execution_count": 278,
            "metadata": {},
            "outputs": [],
            "source": [
                "X=df_raw.drop('Outcome',axis='columns')\n",
                "Y=df_raw[\"Outcome\"]"
            ]
        },
        {
            "cell_type": "markdown",
            "metadata": {},
            "source": [
                "Scale the features"
            ]
        },
        {
            "cell_type": "code",
            "execution_count": 279,
            "metadata": {},
            "outputs": [
                {
                    "data": {
                        "text/plain": [
                            "array([[ 0.67900201,  1.00115447, -0.03291441, ...,  0.24434789,\n",
                            "         0.83809731,  1.56648669],\n",
                            "       [-0.85365344, -1.17808939, -0.53686056, ..., -0.84428622,\n",
                            "        -0.29216712, -0.15009592],\n",
                            "       [ 1.29206419,  2.2118455 , -0.70484261, ..., -1.35749945,\n",
                            "         1.02237955, -0.05974947],\n",
                            "       ...,\n",
                            "       [ 0.37247092,  0.06719281, -0.03291441, ..., -0.90649388,\n",
                            "        -0.72625418, -0.24044238],\n",
                            "       [-0.85365344,  0.24014868, -1.04080671, ..., -0.29996916,\n",
                            "        -0.30035744,  1.29544733],\n",
                            "       [-0.85365344, -0.90136001, -0.20089646, ..., -0.25331342,\n",
                            "        -0.43959291, -0.87286755]])"
                        ]
                    },
                    "execution_count": 279,
                    "metadata": {},
                    "output_type": "execute_result"
                }
            ],
            "source": [
                "from sklearn.preprocessing import StandardScaler\n",
                "scaler = StandardScaler()\n",
                "scaler.fit_transform(X)\n"
            ]
        },
        {
            "cell_type": "markdown",
            "metadata": {},
            "source": [
                " Split the data"
            ]
        },
        {
            "cell_type": "code",
            "execution_count": 280,
            "metadata": {},
            "outputs": [],
            "source": [
                "X_train,X_test,Y_train,Y_test=train_test_split(X,Y,test_size=0.30)"
            ]
        },
        {
            "cell_type": "markdown",
            "metadata": {},
            "source": [
                "\n",
                "### Modeling with Decision Tree"
            ]
        },
        {
            "cell_type": "markdown",
            "metadata": {},
            "source": [
                "Fit the data"
            ]
        },
        {
            "cell_type": "code",
            "execution_count": 281,
            "metadata": {},
            "outputs": [
                {
                    "data": {
                        "text/html": [
                            "<style>#sk-container-id-4 {color: black;background-color: white;}#sk-container-id-4 pre{padding: 0;}#sk-container-id-4 div.sk-toggleable {background-color: white;}#sk-container-id-4 label.sk-toggleable__label {cursor: pointer;display: block;width: 100%;margin-bottom: 0;padding: 0.3em;box-sizing: border-box;text-align: center;}#sk-container-id-4 label.sk-toggleable__label-arrow:before {content: \"▸\";float: left;margin-right: 0.25em;color: #696969;}#sk-container-id-4 label.sk-toggleable__label-arrow:hover:before {color: black;}#sk-container-id-4 div.sk-estimator:hover label.sk-toggleable__label-arrow:before {color: black;}#sk-container-id-4 div.sk-toggleable__content {max-height: 0;max-width: 0;overflow: hidden;text-align: left;background-color: #f0f8ff;}#sk-container-id-4 div.sk-toggleable__content pre {margin: 0.2em;color: black;border-radius: 0.25em;background-color: #f0f8ff;}#sk-container-id-4 input.sk-toggleable__control:checked~div.sk-toggleable__content {max-height: 200px;max-width: 100%;overflow: auto;}#sk-container-id-4 input.sk-toggleable__control:checked~label.sk-toggleable__label-arrow:before {content: \"▾\";}#sk-container-id-4 div.sk-estimator input.sk-toggleable__control:checked~label.sk-toggleable__label {background-color: #d4ebff;}#sk-container-id-4 div.sk-label input.sk-toggleable__control:checked~label.sk-toggleable__label {background-color: #d4ebff;}#sk-container-id-4 input.sk-hidden--visually {border: 0;clip: rect(1px 1px 1px 1px);clip: rect(1px, 1px, 1px, 1px);height: 1px;margin: -1px;overflow: hidden;padding: 0;position: absolute;width: 1px;}#sk-container-id-4 div.sk-estimator {font-family: monospace;background-color: #f0f8ff;border: 1px dotted black;border-radius: 0.25em;box-sizing: border-box;margin-bottom: 0.5em;}#sk-container-id-4 div.sk-estimator:hover {background-color: #d4ebff;}#sk-container-id-4 div.sk-parallel-item::after {content: \"\";width: 100%;border-bottom: 1px solid gray;flex-grow: 1;}#sk-container-id-4 div.sk-label:hover label.sk-toggleable__label {background-color: #d4ebff;}#sk-container-id-4 div.sk-serial::before {content: \"\";position: absolute;border-left: 1px solid gray;box-sizing: border-box;top: 0;bottom: 0;left: 50%;z-index: 0;}#sk-container-id-4 div.sk-serial {display: flex;flex-direction: column;align-items: center;background-color: white;padding-right: 0.2em;padding-left: 0.2em;position: relative;}#sk-container-id-4 div.sk-item {position: relative;z-index: 1;}#sk-container-id-4 div.sk-parallel {display: flex;align-items: stretch;justify-content: center;background-color: white;position: relative;}#sk-container-id-4 div.sk-item::before, #sk-container-id-4 div.sk-parallel-item::before {content: \"\";position: absolute;border-left: 1px solid gray;box-sizing: border-box;top: 0;bottom: 0;left: 50%;z-index: -1;}#sk-container-id-4 div.sk-parallel-item {display: flex;flex-direction: column;z-index: 1;position: relative;background-color: white;}#sk-container-id-4 div.sk-parallel-item:first-child::after {align-self: flex-end;width: 50%;}#sk-container-id-4 div.sk-parallel-item:last-child::after {align-self: flex-start;width: 50%;}#sk-container-id-4 div.sk-parallel-item:only-child::after {width: 0;}#sk-container-id-4 div.sk-dashed-wrapped {border: 1px dashed gray;margin: 0 0.4em 0.5em 0.4em;box-sizing: border-box;padding-bottom: 0.4em;background-color: white;}#sk-container-id-4 div.sk-label label {font-family: monospace;font-weight: bold;display: inline-block;line-height: 1.2em;}#sk-container-id-4 div.sk-label-container {text-align: center;}#sk-container-id-4 div.sk-container {/* jupyter's `normalize.less` sets `[hidden] { display: none; }` but bootstrap.min.css set `[hidden] { display: none !important; }` so we also need the `!important` here to be able to override the default hidden behavior on the sphinx rendered scikit-learn.org. See: https://github.com/scikit-learn/scikit-learn/issues/21755 */display: inline-block !important;position: relative;}#sk-container-id-4 div.sk-text-repr-fallback {display: none;}</style><div id=\"sk-container-id-4\" class=\"sk-top-container\"><div class=\"sk-text-repr-fallback\"><pre>DecisionTreeClassifier()</pre><b>In a Jupyter environment, please rerun this cell to show the HTML representation or trust the notebook. <br />On GitHub, the HTML representation is unable to render, please try loading this page with nbviewer.org.</b></div><div class=\"sk-container\" hidden><div class=\"sk-item\"><div class=\"sk-estimator sk-toggleable\"><input class=\"sk-toggleable__control sk-hidden--visually\" id=\"sk-estimator-id-4\" type=\"checkbox\" checked><label for=\"sk-estimator-id-4\" class=\"sk-toggleable__label sk-toggleable__label-arrow\">DecisionTreeClassifier</label><div class=\"sk-toggleable__content\"><pre>DecisionTreeClassifier()</pre></div></div></div></div></div>"
                        ],
                        "text/plain": [
                            "DecisionTreeClassifier()"
                        ]
                    },
                    "execution_count": 281,
                    "metadata": {},
                    "output_type": "execute_result"
                }
            ],
            "source": [
                "model = DecisionTreeClassifier()\n",
                "model.fit(X_train,Y_train)"
            ]
        },
        {
            "cell_type": "markdown",
            "metadata": {},
            "source": [
                "Get the score of train data just to verify its 1."
            ]
        },
        {
            "cell_type": "code",
            "execution_count": 282,
            "metadata": {},
            "outputs": [
                {
                    "data": {
                        "text/plain": [
                            "1.0"
                        ]
                    },
                    "execution_count": 282,
                    "metadata": {},
                    "output_type": "execute_result"
                }
            ],
            "source": [
                "model.score(X_train,Y_train)"
            ]
        },
        {
            "cell_type": "markdown",
            "metadata": {},
            "source": [
                "Get the score of your predictions"
            ]
        },
        {
            "cell_type": "code",
            "execution_count": 283,
            "metadata": {},
            "outputs": [
                {
                    "data": {
                        "text/plain": [
                            "0.8599033816425121"
                        ]
                    },
                    "execution_count": 283,
                    "metadata": {},
                    "output_type": "execute_result"
                }
            ],
            "source": [
                "model.score(X_test,Y_test)"
            ]
        },
        {
            "cell_type": "markdown",
            "metadata": {},
            "source": [
                "Get the confusion matrix"
            ]
        },
        {
            "cell_type": "code",
            "execution_count": 284,
            "metadata": {},
            "outputs": [
                {
                    "name": "stdout",
                    "output_type": "stream",
                    "text": [
                        "[[120  11]\n",
                        " [ 18  58]]\n"
                    ]
                },
                {
                    "data": {
                        "image/png": "[encoded data removed]",
                        "text/plain": [
                            "<Figure size 432x288 with 2 Axes>"
                        ]
                    },
                    "metadata": {
                        "needs_background": "light"
                    },
                    "output_type": "display_data"
                }
            ],
            "source": [
                "print(confusion_matrix(Y_test,model.predict(X_test)))\n",
                "sns.heatmap(confusion_matrix(Y_test,model.predict(X_test)), annot=True)\n",
                "plt.show()"
            ]
        },
        {
            "cell_type": "markdown",
            "metadata": {},
            "source": [
                "Print the classification report"
            ]
        },
        {
            "cell_type": "code",
            "execution_count": 285,
            "metadata": {},
            "outputs": [
                {
                    "name": "stdout",
                    "output_type": "stream",
                    "text": [
                        "              precision    recall  f1-score   support\n",
                        "\n",
                        "           0       0.87      0.92      0.89       131\n",
                        "           1       0.84      0.76      0.80        76\n",
                        "\n",
                        "    accuracy                           0.86       207\n",
                        "   macro avg       0.86      0.84      0.85       207\n",
                        "weighted avg       0.86      0.86      0.86       207\n",
                        "\n"
                    ]
                }
            ],
            "source": [
                "print(classification_report(Y_test, model.predict(X_test)))"
            ]
        },
        {
            "cell_type": "markdown",
            "metadata": {},
            "source": [
                "Print feature importance"
            ]
        },
        {
            "cell_type": "code",
            "execution_count": 286,
            "metadata": {},
            "outputs": [
                {
                    "name": "stdout",
                    "output_type": "stream",
                    "text": [
                        "[0.03798163 0.08481512 0.05614676 0.04971233 0.58016114 0.03411312\n",
                        " 0.05891546 0.09815443]\n"
                    ]
                }
            ],
            "source": [
                "print(model.feature_importances_)"
            ]
        },
        {
            "cell_type": "markdown",
            "metadata": {},
            "source": [
                "Get the number of leaves"
            ]
        },
        {
            "cell_type": "code",
            "execution_count": 287,
            "metadata": {},
            "outputs": [
                {
                    "name": "stdout",
                    "output_type": "stream",
                    "text": [
                        "44\n"
                    ]
                }
            ],
            "source": [
                "print(model.get_n_leaves())"
            ]
        },
        {
            "cell_type": "markdown",
            "metadata": {},
            "source": [
                " Get your tree params"
            ]
        },
        {
            "cell_type": "code",
            "execution_count": 288,
            "metadata": {},
            "outputs": [
                {
                    "name": "stdout",
                    "output_type": "stream",
                    "text": [
                        "{'ccp_alpha': 0.0, 'class_weight': None, 'criterion': 'gini', 'max_depth': None, 'max_features': None, 'max_leaf_nodes': None, 'min_impurity_decrease': 0.0, 'min_samples_leaf': 1, 'min_samples_split': 2, 'min_weight_fraction_leaf': 0.0, 'random_state': None, 'splitter': 'best'}\n"
                    ]
                }
            ],
            "source": [
                "print(model.get_params())"
            ]
        },
        {
            "cell_type": "markdown",
            "metadata": {},
            "source": [
                "Get your tree depth"
            ]
        },
        {
            "cell_type": "code",
            "execution_count": 289,
            "metadata": {},
            "outputs": [
                {
                    "name": "stdout",
                    "output_type": "stream",
                    "text": [
                        "10\n"
                    ]
                }
            ],
            "source": [
                "print(model.get_depth())"
            ]
        },
        {
            "cell_type": "markdown",
            "metadata": {},
            "source": [
                "*Train Decision tree with entropy criterion*"
            ]
        },
        {
            "cell_type": "code",
            "execution_count": 290,
            "metadata": {},
            "outputs": [
                {
                    "data": {
                        "text/html": [
                            "<style>#sk-container-id-5 {color: black;background-color: white;}#sk-container-id-5 pre{padding: 0;}#sk-container-id-5 div.sk-toggleable {background-color: white;}#sk-container-id-5 label.sk-toggleable__label {cursor: pointer;display: block;width: 100%;margin-bottom: 0;padding: 0.3em;box-sizing: border-box;text-align: center;}#sk-container-id-5 label.sk-toggleable__label-arrow:before {content: \"▸\";float: left;margin-right: 0.25em;color: #696969;}#sk-container-id-5 label.sk-toggleable__label-arrow:hover:before {color: black;}#sk-container-id-5 div.sk-estimator:hover label.sk-toggleable__label-arrow:before {color: black;}#sk-container-id-5 div.sk-toggleable__content {max-height: 0;max-width: 0;overflow: hidden;text-align: left;background-color: #f0f8ff;}#sk-container-id-5 div.sk-toggleable__content pre {margin: 0.2em;color: black;border-radius: 0.25em;background-color: #f0f8ff;}#sk-container-id-5 input.sk-toggleable__control:checked~div.sk-toggleable__content {max-height: 200px;max-width: 100%;overflow: auto;}#sk-container-id-5 input.sk-toggleable__control:checked~label.sk-toggleable__label-arrow:before {content: \"▾\";}#sk-container-id-5 div.sk-estimator input.sk-toggleable__control:checked~label.sk-toggleable__label {background-color: #d4ebff;}#sk-container-id-5 div.sk-label input.sk-toggleable__control:checked~label.sk-toggleable__label {background-color: #d4ebff;}#sk-container-id-5 input.sk-hidden--visually {border: 0;clip: rect(1px 1px 1px 1px);clip: rect(1px, 1px, 1px, 1px);height: 1px;margin: -1px;overflow: hidden;padding: 0;position: absolute;width: 1px;}#sk-container-id-5 div.sk-estimator {font-family: monospace;background-color: #f0f8ff;border: 1px dotted black;border-radius: 0.25em;box-sizing: border-box;margin-bottom: 0.5em;}#sk-container-id-5 div.sk-estimator:hover {background-color: #d4ebff;}#sk-container-id-5 div.sk-parallel-item::after {content: \"\";width: 100%;border-bottom: 1px solid gray;flex-grow: 1;}#sk-container-id-5 div.sk-label:hover label.sk-toggleable__label {background-color: #d4ebff;}#sk-container-id-5 div.sk-serial::before {content: \"\";position: absolute;border-left: 1px solid gray;box-sizing: border-box;top: 0;bottom: 0;left: 50%;z-index: 0;}#sk-container-id-5 div.sk-serial {display: flex;flex-direction: column;align-items: center;background-color: white;padding-right: 0.2em;padding-left: 0.2em;position: relative;}#sk-container-id-5 div.sk-item {position: relative;z-index: 1;}#sk-container-id-5 div.sk-parallel {display: flex;align-items: stretch;justify-content: center;background-color: white;position: relative;}#sk-container-id-5 div.sk-item::before, #sk-container-id-5 div.sk-parallel-item::before {content: \"\";position: absolute;border-left: 1px solid gray;box-sizing: border-box;top: 0;bottom: 0;left: 50%;z-index: -1;}#sk-container-id-5 div.sk-parallel-item {display: flex;flex-direction: column;z-index: 1;position: relative;background-color: white;}#sk-container-id-5 div.sk-parallel-item:first-child::after {align-self: flex-end;width: 50%;}#sk-container-id-5 div.sk-parallel-item:last-child::after {align-self: flex-start;width: 50%;}#sk-container-id-5 div.sk-parallel-item:only-child::after {width: 0;}#sk-container-id-5 div.sk-dashed-wrapped {border: 1px dashed gray;margin: 0 0.4em 0.5em 0.4em;box-sizing: border-box;padding-bottom: 0.4em;background-color: white;}#sk-container-id-5 div.sk-label label {font-family: monospace;font-weight: bold;display: inline-block;line-height: 1.2em;}#sk-container-id-5 div.sk-label-container {text-align: center;}#sk-container-id-5 div.sk-container {/* jupyter's `normalize.less` sets `[hidden] { display: none; }` but bootstrap.min.css set `[hidden] { display: none !important; }` so we also need the `!important` here to be able to override the default hidden behavior on the sphinx rendered scikit-learn.org. See: https://github.com/scikit-learn/scikit-learn/issues/21755 */display: inline-block !important;position: relative;}#sk-container-id-5 div.sk-text-repr-fallback {display: none;}</style><div id=\"sk-container-id-5\" class=\"sk-top-container\"><div class=\"sk-text-repr-fallback\"><pre>DecisionTreeClassifier(criterion=&#x27;entropy&#x27;)</pre><b>In a Jupyter environment, please rerun this cell to show the HTML representation or trust the notebook. <br />On GitHub, the HTML representation is unable to render, please try loading this page with nbviewer.org.</b></div><div class=\"sk-container\" hidden><div class=\"sk-item\"><div class=\"sk-estimator sk-toggleable\"><input class=\"sk-toggleable__control sk-hidden--visually\" id=\"sk-estimator-id-5\" type=\"checkbox\" checked><label for=\"sk-estimator-id-5\" class=\"sk-toggleable__label sk-toggleable__label-arrow\">DecisionTreeClassifier</label><div class=\"sk-toggleable__content\"><pre>DecisionTreeClassifier(criterion=&#x27;entropy&#x27;)</pre></div></div></div></div></div>"
                        ],
                        "text/plain": [
                            "DecisionTreeClassifier(criterion='entropy')"
                        ]
                    },
                    "execution_count": 290,
                    "metadata": {},
                    "output_type": "execute_result"
                }
            ],
            "source": [
                "dt_model = DecisionTreeClassifier(criterion=\"entropy\")\n",
                "dt_model.fit(X_train,Y_train)"
            ]
        },
        {
            "cell_type": "code",
            "execution_count": 291,
            "metadata": {},
            "outputs": [
                {
                    "data": {
                        "text/plain": [
                            "1.0"
                        ]
                    },
                    "execution_count": 291,
                    "metadata": {},
                    "output_type": "execute_result"
                }
            ],
            "source": [
                "dt_model.score(X_train,Y_train)"
            ]
        },
        {
            "cell_type": "code",
            "execution_count": 292,
            "metadata": {},
            "outputs": [
                {
                    "name": "stdout",
                    "output_type": "stream",
                    "text": [
                        "[[116  15]\n",
                        " [ 17  59]]\n"
                    ]
                }
            ],
            "source": [
                "print(confusion_matrix(Y_test,dt_model.predict(X_test)))"
            ]
        },
        {
            "cell_type": "code",
            "execution_count": 293,
            "metadata": {},
            "outputs": [
                {
                    "name": "stdout",
                    "output_type": "stream",
                    "text": [
                        "              precision    recall  f1-score   support\n",
                        "\n",
                        "           0       0.87      0.89      0.88       131\n",
                        "           1       0.80      0.78      0.79        76\n",
                        "\n",
                        "    accuracy                           0.85       207\n",
                        "   macro avg       0.83      0.83      0.83       207\n",
                        "weighted avg       0.84      0.85      0.84       207\n",
                        "\n"
                    ]
                }
            ],
            "source": [
                "print(classification_report(Y_test, dt_model.predict(X_test)))\n"
            ]
        },
        {
            "cell_type": "code",
            "execution_count": 294,
            "metadata": {},
            "outputs": [
                {
                    "name": "stdout",
                    "output_type": "stream",
                    "text": [
                        "0.8454106280193237\n"
                    ]
                }
            ],
            "source": [
                "print(accuracy_score(Y_test,dt_model.predict(X_test)))\n"
            ]
        },
        {
            "cell_type": "code",
            "execution_count": 295,
            "metadata": {},
            "outputs": [
                {
                    "name": "stdout",
                    "output_type": "stream",
                    "text": [
                        "[0.01253748 0.11064393 0.03365715 0.07912018 0.55648245 0.07862124\n",
                        " 0.05824798 0.07068959]\n"
                    ]
                }
            ],
            "source": [
                "print(dt_model.feature_importances_)\n"
            ]
        },
        {
            "cell_type": "code",
            "execution_count": 296,
            "metadata": {},
            "outputs": [
                {
                    "name": "stdout",
                    "output_type": "stream",
                    "text": [
                        "40\n"
                    ]
                }
            ],
            "source": [
                "print(dt_model.get_n_leaves())"
            ]
        },
        {
            "cell_type": "code",
            "execution_count": 297,
            "metadata": {},
            "outputs": [
                {
                    "name": "stdout",
                    "output_type": "stream",
                    "text": [
                        "{'ccp_alpha': 0.0, 'class_weight': None, 'criterion': 'entropy', 'max_depth': None, 'max_features': None, 'max_leaf_nodes': None, 'min_impurity_decrease': 0.0, 'min_samples_leaf': 1, 'min_samples_split': 2, 'min_weight_fraction_leaf': 0.0, 'random_state': None, 'splitter': 'best'}\n"
                    ]
                }
            ],
            "source": [
                "print(dt_model.get_params())"
            ]
        },
        {
            "cell_type": "code",
            "execution_count": 298,
            "metadata": {},
            "outputs": [
                {
                    "name": "stdout",
                    "output_type": "stream",
                    "text": [
                        "10\n"
                    ]
                }
            ],
            "source": [
                "print(dt_model.get_depth())\n"
            ]
        },
        {
            "cell_type": "markdown",
            "metadata": {},
            "source": [
                "*Tune your decision tree hyperparameters using GridSearch*"
            ]
        },
        {
            "cell_type": "code",
            "execution_count": 299,
            "metadata": {},
            "outputs": [
                {
                    "name": "stdout",
                    "output_type": "stream",
                    "text": [
                        "{'criterion': 'entropy', 'max_depth': 4, 'min_samples_split': 2}\n",
                        "DecisionTreeClassifier(criterion='entropy', max_depth=4)\n"
                    ]
                }
            ],
            "source": [
                "#Using Grid Search to get best hyperparameters\n",
                "\n",
                "from sklearn.model_selection import GridSearchCV\n",
                "tree_para = {'criterion':['gini','entropy'],'max_depth':[4,5,6,7,8,9,10,11,12,15,20,30,40,50,70,90,120,150],'min_samples_split': [2, 3, 4]}\n",
                "clf = GridSearchCV(DecisionTreeClassifier(), tree_para, cv=5)\n",
                "clf.fit(X_train,Y_train)\n",
                "print(clf.best_params_)\n",
                "print(clf.best_estimator_)"
            ]
        },
        {
            "cell_type": "markdown",
            "metadata": {},
            "source": [
                "*Once you train your model with your tuned hyperparameters, use the roc_auc_curve to measure your results*"
            ]
        },
        {
            "cell_type": "markdown",
            "metadata": {},
            "source": [
                "# Train with the best hyperparameters"
            ]
        },
        {
            "cell_type": "markdown",
            "metadata": {},
            "source": [
                "#COMO SE HACE?"
            ]
        },
        {
            "cell_type": "code",
            "execution_count": 301,
            "metadata": {},
            "outputs": [
                {
                    "data": {
                        "image/png": "[encoded data removed]",
                        "text/plain": [
                            "<Figure size 576x576 with 1 Axes>"
                        ]
                    },
                    "metadata": {
                        "needs_background": "light"
                    },
                    "output_type": "display_data"
                },
                {
                    "name": "stdout",
                    "output_type": "stream",
                    "text": [
                        "Computed Area Under the Curve (AUC) 0.8309059863398955\n"
                    ]
                }
            ],
            "source": [
                "#Measure your results\n",
                "\n",
                "from sklearn.metrics import roc_curve,auc\n",
                "fpr,tpr, thresholds = roc_curve(Y_test,dt_model.predict_proba(X_test)[:,1])\n",
                "plt.figure(figsize=(8,8))\n",
                "plt.xlim([0.0, 1.0])\n",
                "plt.ylim([0.0, 1.05])\n",
                "plt.plot([0,1],[0,1],color=\"navy\",lw=2,label=\"Random-Model\")\n",
                "plt.plot(fpr,tpr,color=\"darkorange\",lw=2, label=\"Decision Tree- Model\")\n",
                "plt.xlabel(\"False Positive Rate\")\n",
                "plt.ylabel(\"True Positive Rate\")\n",
                "plt.title(\"Receiver operating characteristic :ROC-AUC\")\n",
                "plt.legend()\n",
                "plt.show()\n",
                "print(\"Computed Area Under the Curve (AUC)\",auc(fpr, tpr))"
            ]
        },
        {
            "cell_type": "markdown",
            "metadata": {},
            "source": [
                "Save the model using pickle"
            ]
        }
    ],
    "metadata": {
        "kernelspec": {
            "display_name": "Python 3.8.13 64-bit ('3.8.13')",
            "language": "python",
            "name": "python3"
        },
        "language_info": {
            "codemirror_mode": {
                "name": "ipython",
                "version": 3
            },
            "file_extension": ".py",
            "mimetype": "text/x-python",
            "name": "python",
            "nbconvert_exporter": "python",
            "pygments_lexer": "ipython3",
            "version": "3.8.13"
        },
        "orig_nbformat": 4,
        "vscode": {
            "interpreter": {
                "hash": "110cc1dee26208153f2972f08a2ad52b6a56238dc66d48e87fb757ef2996db56"
            }
        }
    },
    "nbformat": 4,
    "nbformat_minor": 2
}
